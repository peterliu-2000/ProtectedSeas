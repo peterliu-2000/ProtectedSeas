{
 "cells": [
  {
   "cell_type": "markdown",
   "metadata": {},
   "source": [
    "### Dataset Relation\n",
    "\n",
    "`ais_tracks` & `radar_tracks`: both contain 27416 corresponding tracks identified by both radar & ais. Can consider them as training\n",
    "\n",
    "`tracks_tagged`: 9013 tagged radar tracks by users in M2. \n",
    "\n",
    "`tagged_detections`: 6756272 timestamps and 9020 individual tracks in total, contains ALL tracks in `tracks_tagged`. The remaining 7 tracks are from AIS, 5 of which overlap with `ais_tracks`\n",
    "\n",
    "`radar_detections`: 7387790 timestamps and 19947 radar tracks; \n",
    "\n",
    "### Initial Ideas:\n",
    "\n",
    "`tracks_tagged`:\n",
    "* notes have useful information that can be extracted\n",
    "\n"
   ]
  },
  {
   "cell_type": "code",
   "execution_count": 20,
   "metadata": {},
   "outputs": [
    {
     "data": {
      "text/plain": [
       "16591"
      ]
     },
     "execution_count": 20,
     "metadata": {},
     "output_type": "execute_result"
    }
   ],
   "source": [
    "len(set(radar_detections['assoc_id']))"
   ]
  },
  {
   "cell_type": "code",
   "execution_count": 14,
   "metadata": {},
   "outputs": [
    {
     "data": {
      "text/plain": [
       "15345"
      ]
     },
     "execution_count": 14,
     "metadata": {},
     "output_type": "execute_result"
    }
   ],
   "source": [
    "len(set(radar_detections['assoc_id']) & set(ais_tracks['id_track']))"
   ]
  },
  {
   "cell_type": "code",
   "execution_count": 15,
   "metadata": {},
   "outputs": [
    {
     "name": "stdout",
     "output_type": "stream",
     "text": [
      "Length of ais_tracks: 27416\n",
      "Length of radar_tracks: 27416\n",
      "Length of radar_detections: 7387790\n",
      "Length of tagged_detections: 6756272\n",
      "Length of tracks_tagged: 9013\n"
     ]
    }
   ],
   "source": [
    "import pandas as pd\n",
    "import numpy as np\n",
    "\n",
    "# Define file paths\n",
    "ais_tracks_path = '../data/tracks_ais.csv'\n",
    "radar_tracks_path = '../data/tracks_radar.csv'\n",
    "radar_detections_path = '../data/detections_radar.csv'\n",
    "tagged_detections_path = '../data/detections_tagged.csv'\n",
    "tracks_tagged_path = '../data/tracks_tagged.csv'\n",
    "\n",
    "ais_tracks = pd.read_csv(ais_tracks_path)\n",
    "radar_tracks = pd.read_csv(radar_tracks_path)\n",
    "radar_detections = pd.read_csv(radar_detections_path)\n",
    "tagged_detections = pd.read_csv(tagged_detections_path)\n",
    "tracks_tagged = pd.read_csv(tracks_tagged_path)\n",
    "\n",
    "print(\"Length of ais_tracks:\", len(ais_tracks))\n",
    "print(\"Length of radar_tracks:\", len(radar_tracks))\n",
    "print(\"Length of radar_detections:\", len(radar_detections))\n",
    "print(\"Length of tagged_detections:\", len(tagged_detections))\n",
    "print(\"Length of tracks_tagged:\", len(tracks_tagged))"
   ]
  },
  {
   "cell_type": "code",
   "execution_count": 16,
   "metadata": {},
   "outputs": [
    {
     "name": "stdout",
     "output_type": "stream",
     "text": [
      "Unique ais_tracks_id count: 27416\n",
      "Unique radar_tracks_id count: 27416\n",
      "Unique radar_detections_id count: 19947\n",
      "Unique tagged_detections_id count: 9020\n",
      "Unique tracks_tagged_id count: 9013\n"
     ]
    }
   ],
   "source": [
    "ais_tracks_id = set(ais_tracks['id_track'])\n",
    "radar_tracks_id = set(radar_tracks['id_track'])\n",
    "radar_detections_id = set(radar_detections['id_track'])\n",
    "tagged_detections_id = set(tagged_detections['id_track'])\n",
    "tracks_tagged_id = set(tracks_tagged['id_track'])\n",
    "\n",
    "print(\"Unique ais_tracks_id count:\", len(ais_tracks_id))\n",
    "print(\"Unique radar_tracks_id count:\", len(radar_tracks_id))\n",
    "print(\"Unique radar_detections_id count:\", len(radar_detections_id))\n",
    "print(\"Unique tagged_detections_id count:\", len(tagged_detections_id))\n",
    "print(\"Unique tracks_tagged_id count:\", len(tracks_tagged_id))"
   ]
  },
  {
   "cell_type": "code",
   "execution_count": 17,
   "metadata": {},
   "outputs": [
    {
     "data": {
      "text/plain": [
       "id_track             30278317\n",
       "id_site                    10\n",
       "id_m2           158-0714-0950\n",
       "source                  radar\n",
       "duration                 5463\n",
       "alarm                       1\n",
       "min_speed                 0.1\n",
       "max_speed                 6.7\n",
       "avg_speed               3.016\n",
       "curviness            2.591425\n",
       "heading_mean      -124.436676\n",
       "heading_std          1.784569\n",
       "turning_mean         6.125324\n",
       "turning_std         14.824189\n",
       "duration_z               4399\n",
       "distance             9.013697\n",
       "distance_o           3.478278\n",
       "assoc_str                 NaN\n",
       "assoc_id                  NaN\n",
       "tagged                      1\n",
       "has_photos                  1\n",
       "confidence           0.989689\n",
       "detections              850.0\n",
       "sdate              2023-07-14\n",
       "stime                09:50:48\n",
       "ldate              2023-07-14\n",
       "ltime                11:21:51\n",
       "user_id                   331\n",
       "valid                       1\n",
       "type                  unknown\n",
       "notes                   Sail \n",
       "transit                     0\n",
       "overnight                   0\n",
       "loiter                      1\n",
       "cleanup                     0\n",
       "fishing_c                   0\n",
       "fishing_r                   0\n",
       "research                    0\n",
       "diving                      0\n",
       "repairs                     0\n",
       "distress                    0\n",
       "other                       0\n",
       "miss_ais                    0\n",
       "violation                   0\n",
       "le_contact                  0\n",
       "tdate              2023-07-14\n",
       "ttime                10:45:04\n",
       "Name: 1, dtype: object"
      ]
     },
     "execution_count": 17,
     "metadata": {},
     "output_type": "execute_result"
    }
   ],
   "source": [
    "tracks_tagged.iloc[1]"
   ]
  },
  {
   "cell_type": "code",
   "execution_count": 18,
   "metadata": {},
   "outputs": [
    {
     "data": {
      "text/html": [
       "<div>\n",
       "<style scoped>\n",
       "    .dataframe tbody tr th:only-of-type {\n",
       "        vertical-align: middle;\n",
       "    }\n",
       "\n",
       "    .dataframe tbody tr th {\n",
       "        vertical-align: top;\n",
       "    }\n",
       "\n",
       "    .dataframe thead th {\n",
       "        text-align: right;\n",
       "    }\n",
       "</style>\n",
       "<table border=\"1\" class=\"dataframe\">\n",
       "  <thead>\n",
       "    <tr style=\"text-align: right;\">\n",
       "      <th></th>\n",
       "      <th>id_detect</th>\n",
       "      <th>id_track</th>\n",
       "      <th>id_site</th>\n",
       "      <th>id_m2</th>\n",
       "      <th>source</th>\n",
       "      <th>speed</th>\n",
       "      <th>course</th>\n",
       "      <th>assoc_str</th>\n",
       "      <th>assoc_id</th>\n",
       "      <th>confidence</th>\n",
       "      <th>cdate</th>\n",
       "      <th>ctime</th>\n",
       "      <th>longitude</th>\n",
       "      <th>latitude</th>\n",
       "    </tr>\n",
       "  </thead>\n",
       "  <tbody>\n",
       "    <tr>\n",
       "      <th>0</th>\n",
       "      <td>1315108673</td>\n",
       "      <td>29980760</td>\n",
       "      <td>10</td>\n",
       "      <td>18-0704-1000</td>\n",
       "      <td>radar</td>\n",
       "      <td>7.5</td>\n",
       "      <td>3.2</td>\n",
       "      <td>NaN</td>\n",
       "      <td>NaN</td>\n",
       "      <td>0.872091</td>\n",
       "      <td>2023-07-04</td>\n",
       "      <td>10:00:12</td>\n",
       "      <td>-117.279102</td>\n",
       "      <td>32.798307</td>\n",
       "    </tr>\n",
       "    <tr>\n",
       "      <th>1</th>\n",
       "      <td>1315108674</td>\n",
       "      <td>29980760</td>\n",
       "      <td>10</td>\n",
       "      <td>18-0704-1000</td>\n",
       "      <td>radar</td>\n",
       "      <td>11.3</td>\n",
       "      <td>349.5</td>\n",
       "      <td>NaN</td>\n",
       "      <td>NaN</td>\n",
       "      <td>0.872091</td>\n",
       "      <td>2023-07-04</td>\n",
       "      <td>10:00:18</td>\n",
       "      <td>-117.279330</td>\n",
       "      <td>32.798868</td>\n",
       "    </tr>\n",
       "    <tr>\n",
       "      <th>2</th>\n",
       "      <td>1315108675</td>\n",
       "      <td>29980760</td>\n",
       "      <td>10</td>\n",
       "      <td>18-0704-1000</td>\n",
       "      <td>radar</td>\n",
       "      <td>13.3</td>\n",
       "      <td>347.6</td>\n",
       "      <td>NaN</td>\n",
       "      <td>NaN</td>\n",
       "      <td>0.872091</td>\n",
       "      <td>2023-07-04</td>\n",
       "      <td>10:00:24</td>\n",
       "      <td>-117.279482</td>\n",
       "      <td>32.799303</td>\n",
       "    </tr>\n",
       "    <tr>\n",
       "      <th>3</th>\n",
       "      <td>1315108676</td>\n",
       "      <td>29980760</td>\n",
       "      <td>10</td>\n",
       "      <td>18-0704-1000</td>\n",
       "      <td>radar</td>\n",
       "      <td>13.6</td>\n",
       "      <td>351.3</td>\n",
       "      <td>NaN</td>\n",
       "      <td>NaN</td>\n",
       "      <td>0.872091</td>\n",
       "      <td>2023-07-04</td>\n",
       "      <td>10:00:30</td>\n",
       "      <td>-117.279515</td>\n",
       "      <td>32.799792</td>\n",
       "    </tr>\n",
       "  </tbody>\n",
       "</table>\n",
       "</div>"
      ],
      "text/plain": [
       "    id_detect  id_track  id_site         id_m2 source  speed  course  \\\n",
       "0  1315108673  29980760       10  18-0704-1000  radar    7.5     3.2   \n",
       "1  1315108674  29980760       10  18-0704-1000  radar   11.3   349.5   \n",
       "2  1315108675  29980760       10  18-0704-1000  radar   13.3   347.6   \n",
       "3  1315108676  29980760       10  18-0704-1000  radar   13.6   351.3   \n",
       "\n",
       "   assoc_str  assoc_id  confidence       cdate     ctime   longitude  \\\n",
       "0        NaN       NaN    0.872091  2023-07-04  10:00:12 -117.279102   \n",
       "1        NaN       NaN    0.872091  2023-07-04  10:00:18 -117.279330   \n",
       "2        NaN       NaN    0.872091  2023-07-04  10:00:24 -117.279482   \n",
       "3        NaN       NaN    0.872091  2023-07-04  10:00:30 -117.279515   \n",
       "\n",
       "    latitude  \n",
       "0  32.798307  \n",
       "1  32.798868  \n",
       "2  32.799303  \n",
       "3  32.799792  "
      ]
     },
     "execution_count": 18,
     "metadata": {},
     "output_type": "execute_result"
    }
   ],
   "source": [
    "tagged_detections.head(4)"
   ]
  },
  {
   "cell_type": "code",
   "execution_count": null,
   "metadata": {},
   "outputs": [],
   "source": []
  }
 ],
 "metadata": {
  "kernelspec": {
   "display_name": "base",
   "language": "python",
   "name": "python3"
  },
  "language_info": {
   "codemirror_mode": {
    "name": "ipython",
    "version": 3
   },
   "file_extension": ".py",
   "mimetype": "text/x-python",
   "name": "python",
   "nbconvert_exporter": "python",
   "pygments_lexer": "ipython3",
   "version": "3.11.4"
  }
 },
 "nbformat": 4,
 "nbformat_minor": 2
}
