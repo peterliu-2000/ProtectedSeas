{
 "cells": [
  {
   "cell_type": "markdown",
   "metadata": {},
   "source": [
    "### Activity Model Using XGBoost & Filter Radar Dataset\n",
    "\n",
    "* Dataset: Hand-labelled tracks with their activity from `tagged_detections` with experts' help\n",
    "* Output a XGBoost model:\n",
    "    * Turns out this model is really good at identifying transit and stopped vessel activities\n",
    "\n",
    "Ran the activity model on `cleaned_radar_detections` and acquired activity_inferred and confidence_scores labels, stored in `radar_activity_labels_inferred.csv`\n"
   ]
  },
  {
   "cell_type": "code",
   "execution_count": 37,
   "metadata": {},
   "outputs": [
    {
     "name": "stdout",
     "output_type": "stream",
     "text": [
      "Using device: mps\n"
     ]
    }
   ],
   "source": [
    "import pandas as pd\n",
    "import numpy as np\n",
    "import torch\n",
    "import warnings\n",
    "import sys, os\n",
    "\n",
    "sys.path.append(os.path.abspath('..'))\n",
    "\n",
    "tagged_detections_v6 = pd.read_csv('../../data/cleaned_data/tracks_tagged_v6.csv')\n",
    "detections_tagged = pd.read_csv('../../data/raw_data/detections_tagged.csv')\n",
    "\n",
    "device = torch.device(\"mps\" if torch.backends.mps.is_available() else \"cpu\")\n",
    "print(\"Using device:\", device)"
   ]
  },
  {
   "cell_type": "code",
   "execution_count": 38,
   "metadata": {},
   "outputs": [],
   "source": [
    "#extract labels\n",
    "tagged_detections_activity_labels = tagged_detections_v6[['id_track', 'activity']].dropna(subset = ['activity'])\n",
    "\n",
    "save_path = '../../data/labels/activity_labels_from_tagged_detections.csv'\n",
    "tagged_detections_activity_labels.to_csv(save_path, index = False)"
   ]
  },
  {
   "cell_type": "markdown",
   "metadata": {},
   "source": [
    "#### Set up"
   ]
  },
  {
   "cell_type": "code",
   "execution_count": 39,
   "metadata": {},
   "outputs": [
    {
     "name": "stdout",
     "output_type": "stream",
     "text": [
      "Length of activity_label: 2594\n"
     ]
    }
   ],
   "source": [
    "activity_label = pd.read_csv('../../data/labels/activity_labels_from_tagged_detections.csv')\n",
    "print(f'Length of activity_label: {len(activity_label)}')\n"
   ]
  },
  {
   "cell_type": "code",
   "execution_count": 40,
   "metadata": {},
   "outputs": [
    {
     "name": "stdout",
     "output_type": "stream",
     "text": [
      "Number of unique tracks: 8684\n"
     ]
    }
   ],
   "source": [
    "from core.preprocess import DisruptionFilter\n",
    "\n",
    "detections_tagged['datetime'] = pd.to_datetime(detections_tagged['cdate'] + ' ' + detections_tagged['ctime'], errors = 'coerce')\n",
    "valid_detections = DisruptionFilter(detections_tagged)()\n",
    "print(f'Number of unique tracks: {valid_detections[\"id_track\"].nunique()}')\n"
   ]
  },
  {
   "cell_type": "code",
   "execution_count": 41,
   "metadata": {},
   "outputs": [
    {
     "name": "stderr",
     "output_type": "stream",
     "text": [
      "/Users/liuzehan/Desktop/Protected Seas/peter/core/sum_stats.py:241: RuntimeWarning: invalid value encountered in sqrt\n",
      "  std_heading = np.sqrt(-np.log(meanCos*meanCos + meanSin*meanSin))\n",
      "/Users/liuzehan/Desktop/Protected Seas/peter/core/sum_stats.py:241: RuntimeWarning: invalid value encountered in sqrt\n",
      "  std_heading = np.sqrt(-np.log(meanCos*meanCos + meanSin*meanSin))\n",
      "/Users/liuzehan/Desktop/Protected Seas/peter/core/sum_stats.py:251: RuntimeWarning: invalid value encountered in scalar divide\n",
      "  curviness = total_distance / distance_o\n",
      "/Users/liuzehan/Desktop/Protected Seas/peter/core/sum_stats.py:251: RuntimeWarning: invalid value encountered in scalar divide\n",
      "  curviness = total_distance / distance_o\n"
     ]
    }
   ],
   "source": [
    "from core.sum_stats import SumStatsBaseline\n",
    "\n",
    "summary_df = SumStatsBaseline(valid_detections)()"
   ]
  },
  {
   "cell_type": "code",
   "execution_count": 42,
   "metadata": {},
   "outputs": [
    {
     "data": {
      "text/plain": [
       "Index(['id_track', 'duration', 'distance_o', 'detections', 'max_speed',\n",
       "       'min_speed', 'avg_speed', 'curviness', 'heading_mean', 'heading_std',\n",
       "       'turning_mean', 'turning_std', 'distance_total'],\n",
       "      dtype='object')"
      ]
     },
     "execution_count": 42,
     "metadata": {},
     "output_type": "execute_result"
    }
   ],
   "source": [
    "summary_df.columns"
   ]
  },
  {
   "cell_type": "code",
   "execution_count": 43,
   "metadata": {},
   "outputs": [
    {
     "name": "stdout",
     "output_type": "stream",
     "text": [
      "Length of detections_labeled_sumstats: 2558\n"
     ]
    }
   ],
   "source": [
    "detections_labeled_sumstats = pd.merge(summary_df, activity_label, on = 'id_track', how = 'inner')\n",
    "print(f'Length of detections_labeled_sumstats: {len(detections_labeled_sumstats)}')"
   ]
  },
  {
   "cell_type": "code",
   "execution_count": 44,
   "metadata": {},
   "outputs": [
    {
     "name": "stdout",
     "output_type": "stream",
     "text": [
      "Fitting 4 folds for each of 1 candidates, totalling 4 fits\n"
     ]
    },
    {
     "name": "stdout",
     "output_type": "stream",
     "text": [
      "Best parameters: {'learning_rate': 0.1, 'max_depth': 13, 'n_estimators': 350}\n",
      "Best cross-validation accuracy: 0.9223\n",
      "\n",
      "Test Set Accuracy: 0.9277\n"
     ]
    }
   ],
   "source": [
    "import xgboost as xgb\n",
    "from sklearn.model_selection import train_test_split, GridSearchCV\n",
    "from sklearn.metrics import accuracy_score, confusion_matrix\n",
    "import matplotlib.pyplot as plt\n",
    "import seaborn as sns\n",
    "from core.DICT import ACITIVTY2NUM, NUM2ACTIVITY\n",
    "\n",
    "features_subset = SumStatsBaseline.FEATURE_NAMES\n",
    "\n",
    "# Prepare features and target\n",
    "X = detections_labeled_sumstats[features_subset]\n",
    "y = detections_labeled_sumstats['activity']\n",
    "\n",
    "y_numeric = y.map(ACITIVTY2NUM)\n",
    "\n",
    "# Train-test split (80:20), stratified sampling by vessel type\n",
    "X_train, X_test, y_train, y_test = train_test_split(X, y_numeric, test_size=0.2, stratify=y_numeric, random_state=42)\n",
    "\n",
    "# Define XGBoost model\n",
    "model = xgb.XGBClassifier(\n",
    "    objective='multi:softmax',  # Use 'multi:softprob' if you want probability outputs\n",
    "    num_class=len(y.unique()),\n",
    "    eval_metric='mlogloss',\n",
    "    random_state=42\n",
    ")\n",
    "\n",
    "# Hyperparameter tuning (after a few tries)\n",
    "param_grid = {\n",
    "    'max_depth': [13],\n",
    "    'learning_rate': [0.1],\n",
    "    'n_estimators': [350]\n",
    "}\n",
    "\n",
    "# Perform 4-fold cross-validation with grid search\n",
    "grid_search = GridSearchCV(\n",
    "    estimator=model,\n",
    "    param_grid=param_grid,\n",
    "    cv=4,\n",
    "    scoring='accuracy',\n",
    "    n_jobs=-1,  # Use all available cores\n",
    "    verbose=1\n",
    ")\n",
    "\n",
    "grid_search.fit(X_train, y_train)\n",
    "print(\"Best parameters:\", grid_search.best_params_)\n",
    "print(\"Best cross-validation accuracy: {:.4f}\".format(grid_search.best_score_))\n",
    "best_model = grid_search.best_estimator_\n",
    "\n",
    "# Make predictions on test set\n",
    "y_pred = best_model.predict(X_test)\n",
    "test_accuracy = accuracy_score(y_test, y_pred)\n",
    "\n",
    "print(\"\\nTest Set Accuracy: {:.4f}\".format(test_accuracy))"
   ]
  },
  {
   "cell_type": "code",
   "execution_count": 45,
   "metadata": {},
   "outputs": [],
   "source": [
    "# Convert numeric to string labels just once\n",
    "y_test_str = y_test.map(NUM2ACTIVITY)\n",
    "y_pred_str = pd.Series(y_pred).map(NUM2ACTIVITY)\n",
    "\n",
    "# Create confusion matrix with string labels\n",
    "labels_order = sorted(set(y_test_str) | set(y_pred_str))  # all unique class labels in order\n",
    "cm = confusion_matrix(y_test_str, y_pred_str, labels=labels_order)\n",
    "\n",
    "# Plot confusion matrix\n",
    "plt.figure(figsize=(7, 5))\n",
    "sns.heatmap(cm, \n",
    "            annot=True,\n",
    "            fmt='d',\n",
    "            cmap='Blues',\n",
    "            xticklabels=labels_order,\n",
    "            yticklabels=labels_order)\n",
    "\n",
    "plt.title('Confusion Matrix - Activity Classification')\n",
    "plt.xlabel('Predicted Activity')\n",
    "plt.ylabel('True Activity')\n",
    "plt.xticks(rotation=45, ha='right')\n",
    "plt.yticks(rotation=0)\n",
    "plt.tight_layout()\n",
    "plt.savefig('models/xgboost_activity_cm.png', dpi = 300)\n",
    "plt.close()\n"
   ]
  },
  {
   "cell_type": "code",
   "execution_count": 46,
   "metadata": {},
   "outputs": [],
   "source": [
    "import os\n",
    "import joblib\n",
    "import json\n",
    "\n",
    "save_path = 'models/xgboost_activity.pkl'\n",
    "joblib.dump(best_model, save_path)\n",
    "\n",
    "model_description = {\n",
    "    \"model_name\": \"xgboost_activity\",\n",
    "    \"features\": features_subset,\n",
    "    \"params\": grid_search.best_params_,\n",
    "    \"cv_accuracy\": grid_search.best_score_,\n",
    "    \"test_accuracy\": test_accuracy,\n",
    "    \"notes\": \"trained on manually labelled tagged tracks (v6). 80:20 stratified split. 4-fold CV.\"\n",
    "}\n",
    "\n",
    "with open(\"models/xgboost_activity_desc.json\", \"w\") as f:\n",
    "    json.dump(model_description, f, indent=4)"
   ]
  },
  {
   "cell_type": "markdown",
   "metadata": {},
   "source": [
    "#### Infer on Original Radar Detections"
   ]
  },
  {
   "cell_type": "code",
   "execution_count": 47,
   "metadata": {},
   "outputs": [
    {
     "data": {
      "text/plain": [
       "Index(['id_track', 'duration', 'distance_o', 'detections', 'max_speed',\n",
       "       'min_speed', 'avg_speed', 'curviness', 'heading_mean', 'heading_std',\n",
       "       'turning_mean', 'turning_std', 'distance_total'],\n",
       "      dtype='object')"
      ]
     },
     "execution_count": 47,
     "metadata": {},
     "output_type": "execute_result"
    }
   ],
   "source": [
    "from core.sum_stats import SumStatsBaseline\n",
    "import joblib\n",
    "import json\n",
    "\n",
    "radar_detections = pd.read_csv('../../data/cleaned_data/preprocessed_radar_detections.csv')\n",
    "\n",
    "activity_model = joblib.load(\"models/xgboost_activity.pkl\")\n",
    "with open(\"models/xgboost_activity_desc.json\", \"r\") as f:\n",
    "    model_info = json.load(f)\n",
    "\n",
    "features_subset = model_info['features']\n",
    "\n",
    "radar_detections_sumstats = SumStatsBaseline(radar_detections)()\n",
    "radar_detections_sumstats.columns"
   ]
  },
  {
   "cell_type": "code",
   "execution_count": 48,
   "metadata": {},
   "outputs": [],
   "source": [
    "X = radar_detections_sumstats[features_subset]\n",
    "y_pred_numeric = activity_model.predict(X)\n",
    "y_pred = [NUM2ACTIVITY[i] for i in y_pred_numeric]\n",
    "\n",
    "#get confidence score\n",
    "y_pred_prob = activity_model.predict_proba(X)\n",
    "confidence_scores = y_pred_prob.max(axis = 1)\n",
    "\n",
    "\n",
    "radar_detections_sumstats['activity_inferred'] = y_pred\n",
    "radar_detections_sumstats['activity_inferred'].value_counts()\n",
    "radar_detections_sumstats['activity_confidence_score'] = confidence_scores"
   ]
  },
  {
   "cell_type": "code",
   "execution_count": 49,
   "metadata": {},
   "outputs": [],
   "source": [
    "## Filter out detections with activity != 'transit'\n",
    "radar_activity_inferred = radar_detections_sumstats[['id_track', 'activity_inferred','activity_confidence_score']]\n",
    "\n",
    "radar_activity_inferred.to_csv('../../data/labels/radar_activity_labels_inferred.csv', index=False)"
   ]
  },
  {
   "cell_type": "code",
   "execution_count": null,
   "metadata": {},
   "outputs": [],
   "source": []
  }
 ],
 "metadata": {
  "kernelspec": {
   "display_name": "base",
   "language": "python",
   "name": "python3"
  },
  "language_info": {
   "codemirror_mode": {
    "name": "ipython",
    "version": 3
   },
   "file_extension": ".py",
   "mimetype": "text/x-python",
   "name": "python",
   "nbconvert_exporter": "python",
   "pygments_lexer": "ipython3",
   "version": "3.11.4"
  }
 },
 "nbformat": 4,
 "nbformat_minor": 2
}
