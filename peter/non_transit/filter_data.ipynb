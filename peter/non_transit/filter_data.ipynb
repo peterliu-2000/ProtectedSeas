{
 "cells": [
  {
   "cell_type": "markdown",
   "metadata": {},
   "source": [
    "### Data Combination and Filtering\n",
    "\n",
    "Output `full_non_transit_radar` inside filtered_data folder. \n",
    "\n",
    "Comprehensive labels of radar detections (predicted as non-transit of confidence score >= 0.5) and tagged detections labelled as non-transit manually combined.\n",
    "\n",
    "Currently have 3043 rows\n",
    "\n",
    "#### Manual Assignment Logic\n",
    "\n",
    "* If activity == loster/seine/trawl, assign type_agg = fishing_boat for tagged tracks\n",
    "* For radar tracks: infer on activity based on type might be a bit problematic ...\n",
    "\n"
   ]
  },
  {
   "cell_type": "code",
   "execution_count": 1,
   "metadata": {},
   "outputs": [],
   "source": [
    "import pandas as pd\n",
    "import numpy as np\n",
    "import matplotlib.pyplot as plt\n",
    "import seaborn as sns\n",
    "import tqdm\n",
    "import sys\n",
    "import os\n",
    "\n",
    "sys.path.append(os.path.abspath('..'))\n",
    "\n",
    "#detections data\n",
    "radar_detections = pd.read_csv('../../data/cleaned_data/preprocessed_radar_detections.csv')\n",
    "tagged_detections = pd.read_csv('../../data/cleaned_data/preprocessed_tagged_detections.csv')\n",
    "\n",
    "#label data\n",
    "activity_labels_from_tagged = pd.read_csv('../../data/labels/activity_labels_from_tagged.csv')\n",
    "inferred_activity_label = pd.read_csv('../../data/labels/radar_activity_labels_inferred.csv')\n",
    "ais_type_labels = pd.read_csv('../../data/labels/ais_type_labels.csv')"
   ]
  },
  {
   "cell_type": "code",
   "execution_count": 6,
   "metadata": {},
   "outputs": [
    {
     "name": "stdout",
     "output_type": "stream",
     "text": [
      "Total number of transit tracks: 12885\n",
      "Total number of non-transit & non_stopped tracks: 1299\n"
     ]
    }
   ],
   "source": [
    "#Deemed as transit if confidence score >= 0.5\n",
    "transit_inferred = inferred_activity_label[inferred_activity_label['activity_inferred'] == 'transit']\n",
    "transit_inferred = transit_inferred[transit_inferred['activity_confidence_score'] >= 0.5]\n",
    "stopped_inferred = inferred_activity_label[inferred_activity_label['activity_inferred'] == 'stopped']\n",
    "stopped_inferred = stopped_inferred[stopped_inferred['activity_confidence_score'] >= 0.5]\n",
    "\n",
    "transit_stopped_ids = set(transit_inferred['id_track']) | set(stopped_inferred['id_track'])\n",
    "\n",
    "non_transit_stopped_inferred = inferred_activity_label[\n",
    "    ~inferred_activity_label['id_track'].isin(transit_stopped_ids)\n",
    "]\n",
    "\n",
    "print(f'Total number of transit tracks: {len(transit_inferred)}')\n",
    "print(f'Total number of non-transit & non_stopped tracks: {len(non_transit_stopped_inferred)}')\n"
   ]
  },
  {
   "cell_type": "code",
   "execution_count": 7,
   "metadata": {},
   "outputs": [],
   "source": [
    "#full non-transit radar labels\n",
    "filtered_radar_labels = pd.merge(ais_type_labels, non_transit_stopped_inferred, on='id_track', how='inner')\n",
    "filtered_radar_labels.drop_duplicates(subset=['id_track'], inplace=True)"
   ]
  },
  {
   "cell_type": "code",
   "execution_count": 13,
   "metadata": {},
   "outputs": [],
   "source": [
    "non_transit_stopped_tagged = activity_labels_from_tagged[\n",
    "    (activity_labels_from_tagged['activity'] != 'transit') &\n",
    "    (activity_labels_from_tagged['activity'] != 'stopped') \n",
    "]\n"
   ]
  },
  {
   "cell_type": "code",
   "execution_count": 14,
   "metadata": {},
   "outputs": [
    {
     "data": {
      "text/html": [
       "<div>\n",
       "<style scoped>\n",
       "    .dataframe tbody tr th:only-of-type {\n",
       "        vertical-align: middle;\n",
       "    }\n",
       "\n",
       "    .dataframe tbody tr th {\n",
       "        vertical-align: top;\n",
       "    }\n",
       "\n",
       "    .dataframe thead th {\n",
       "        text-align: right;\n",
       "    }\n",
       "</style>\n",
       "<table border=\"1\" class=\"dataframe\">\n",
       "  <thead>\n",
       "    <tr style=\"text-align: right;\">\n",
       "      <th></th>\n",
       "      <th>id_track</th>\n",
       "      <th>activity</th>\n",
       "      <th>type_m2</th>\n",
       "      <th>activity_inferred</th>\n",
       "      <th>activity_confidence_score</th>\n",
       "    </tr>\n",
       "  </thead>\n",
       "  <tbody>\n",
       "    <tr>\n",
       "      <th>0</th>\n",
       "      <td>30278317</td>\n",
       "      <td>drifting</td>\n",
       "      <td>NaN</td>\n",
       "      <td>NaN</td>\n",
       "      <td>NaN</td>\n",
       "    </tr>\n",
       "    <tr>\n",
       "      <th>1</th>\n",
       "      <td>31250348</td>\n",
       "      <td>hook</td>\n",
       "      <td>NaN</td>\n",
       "      <td>NaN</td>\n",
       "      <td>NaN</td>\n",
       "    </tr>\n",
       "    <tr>\n",
       "      <th>2</th>\n",
       "      <td>32095898</td>\n",
       "      <td>drifting</td>\n",
       "      <td>NaN</td>\n",
       "      <td>NaN</td>\n",
       "      <td>NaN</td>\n",
       "    </tr>\n",
       "    <tr>\n",
       "      <th>3</th>\n",
       "      <td>32096807</td>\n",
       "      <td>drifting</td>\n",
       "      <td>NaN</td>\n",
       "      <td>NaN</td>\n",
       "      <td>NaN</td>\n",
       "    </tr>\n",
       "    <tr>\n",
       "      <th>4</th>\n",
       "      <td>32099745</td>\n",
       "      <td>drifting</td>\n",
       "      <td>NaN</td>\n",
       "      <td>NaN</td>\n",
       "      <td>NaN</td>\n",
       "    </tr>\n",
       "    <tr>\n",
       "      <th>...</th>\n",
       "      <td>...</td>\n",
       "      <td>...</td>\n",
       "      <td>...</td>\n",
       "      <td>...</td>\n",
       "      <td>...</td>\n",
       "    </tr>\n",
       "    <tr>\n",
       "      <th>1875</th>\n",
       "      <td>39018416</td>\n",
       "      <td>NaN</td>\n",
       "      <td>pleasure_craft</td>\n",
       "      <td>drifting</td>\n",
       "      <td>0.808124</td>\n",
       "    </tr>\n",
       "    <tr>\n",
       "      <th>1876</th>\n",
       "      <td>38170241</td>\n",
       "      <td>NaN</td>\n",
       "      <td>pleasure_craft</td>\n",
       "      <td>drifting</td>\n",
       "      <td>0.776164</td>\n",
       "    </tr>\n",
       "    <tr>\n",
       "      <th>1877</th>\n",
       "      <td>39009659</td>\n",
       "      <td>NaN</td>\n",
       "      <td>pleasure_craft</td>\n",
       "      <td>lobster</td>\n",
       "      <td>0.884421</td>\n",
       "    </tr>\n",
       "    <tr>\n",
       "      <th>1878</th>\n",
       "      <td>36223372</td>\n",
       "      <td>NaN</td>\n",
       "      <td>passenger_ship</td>\n",
       "      <td>hook</td>\n",
       "      <td>0.997884</td>\n",
       "    </tr>\n",
       "    <tr>\n",
       "      <th>1879</th>\n",
       "      <td>38864791</td>\n",
       "      <td>NaN</td>\n",
       "      <td>pleasure_craft</td>\n",
       "      <td>lobster</td>\n",
       "      <td>0.960697</td>\n",
       "    </tr>\n",
       "  </tbody>\n",
       "</table>\n",
       "<p>1880 rows × 5 columns</p>\n",
       "</div>"
      ],
      "text/plain": [
       "      id_track  activity         type_m2 activity_inferred  \\\n",
       "0     30278317  drifting             NaN               NaN   \n",
       "1     31250348      hook             NaN               NaN   \n",
       "2     32095898  drifting             NaN               NaN   \n",
       "3     32096807  drifting             NaN               NaN   \n",
       "4     32099745  drifting             NaN               NaN   \n",
       "...        ...       ...             ...               ...   \n",
       "1875  39018416       NaN  pleasure_craft          drifting   \n",
       "1876  38170241       NaN  pleasure_craft          drifting   \n",
       "1877  39009659       NaN  pleasure_craft           lobster   \n",
       "1878  36223372       NaN  passenger_ship              hook   \n",
       "1879  38864791       NaN  pleasure_craft           lobster   \n",
       "\n",
       "      activity_confidence_score  \n",
       "0                           NaN  \n",
       "1                           NaN  \n",
       "2                           NaN  \n",
       "3                           NaN  \n",
       "4                           NaN  \n",
       "...                         ...  \n",
       "1875                   0.808124  \n",
       "1876                   0.776164  \n",
       "1877                   0.884421  \n",
       "1878                   0.997884  \n",
       "1879                   0.960697  \n",
       "\n",
       "[1880 rows x 5 columns]"
      ]
     },
     "execution_count": 14,
     "metadata": {},
     "output_type": "execute_result"
    }
   ],
   "source": [
    "full_non_transit_stopped_labels = pd.concat([non_transit_stopped_tagged, filtered_radar_labels], ignore_index=True)\n",
    "full_non_transit_stopped_labels"
   ]
  },
  {
   "cell_type": "code",
   "execution_count": 15,
   "metadata": {},
   "outputs": [
    {
     "data": {
      "text/plain": [
       "type_m2_agg\n",
       "class_b           579\n",
       "other             329\n",
       "passenger_ship    221\n",
       "tug/tow           102\n",
       "cargo/tanker       30\n",
       "military_ship      22\n",
       "fishing_boat       16\n",
       "Name: count, dtype: int64"
      ]
     },
     "execution_count": 15,
     "metadata": {},
     "output_type": "execute_result"
    }
   ],
   "source": [
    "from core.DICT import TYPES2AGG\n",
    "\n",
    "full_non_transit_stopped_labels['type_m2_agg'] = full_non_transit_stopped_labels['type_m2'].map(TYPES2AGG)\n",
    "full_non_transit_stopped_labels['type_m2_agg'].value_counts()\n"
   ]
  },
  {
   "cell_type": "code",
   "execution_count": 16,
   "metadata": {},
   "outputs": [],
   "source": [
    "#infer on type_agg based on activity\n",
    "full_non_transit_stopped_labels.loc[\n",
    "    (full_non_transit_stopped_labels['activity'] == 'lobster') |\n",
    "    (full_non_transit_stopped_labels['activity'] == 'seine') |\n",
    "    (full_non_transit_stopped_labels['activity'] == 'trawl') |\n",
    "    (full_non_transit_stopped_labels['activity'] == 'hook'),\n",
    "    'type_m2_agg'\n",
    "] = 'fishing_boat'\n"
   ]
  },
  {
   "cell_type": "code",
   "execution_count": 18,
   "metadata": {},
   "outputs": [],
   "source": [
    "full_non_transit_stopped_labels.to_csv('../../data/labels/full_non_transit_stopped_radar_labels.csv', index=False)"
   ]
  },
  {
   "cell_type": "code",
   "execution_count": 19,
   "metadata": {},
   "outputs": [
    {
     "data": {
      "text/plain": [
       "1880"
      ]
     },
     "execution_count": 19,
     "metadata": {},
     "output_type": "execute_result"
    }
   ],
   "source": [
    "full_non_transit_stopped_labels['id_track'].nunique()"
   ]
  },
  {
   "cell_type": "code",
   "execution_count": null,
   "metadata": {},
   "outputs": [],
   "source": []
  }
 ],
 "metadata": {
  "kernelspec": {
   "display_name": "base",
   "language": "python",
   "name": "python3"
  },
  "language_info": {
   "codemirror_mode": {
    "name": "ipython",
    "version": 3
   },
   "file_extension": ".py",
   "mimetype": "text/x-python",
   "name": "python",
   "nbconvert_exporter": "python",
   "pygments_lexer": "ipython3",
   "version": "3.11.4"
  }
 },
 "nbformat": 4,
 "nbformat_minor": 2
}
