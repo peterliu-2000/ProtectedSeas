{
 "cells": [
  {
   "cell_type": "markdown",
   "metadata": {},
   "source": [
    "### Data Combination and Filtering\n",
    "\n",
    "Output `full_non_transit_radar` inside filtered_data folder. \n",
    "\n",
    "Comprehensive labels of radar detections (predicted as non-transit of confidence score >= 0.5) and tagged detections labelled as non-transit manually combined.\n",
    "\n",
    "Currently have 3043 rows\n",
    "\n",
    "#### Manual Assignment Logic\n",
    "\n",
    "* If activity == loster/seine/trawl, assign type_agg = fishing_boat for tagged tracks\n",
    "* For radar tracks: infer on activity based on type might be a bit problematic ...\n",
    "\n"
   ]
  },
  {
   "cell_type": "code",
   "execution_count": 52,
   "metadata": {},
   "outputs": [],
   "source": [
    "import pandas as pd\n",
    "import numpy as np\n",
    "import matplotlib.pyplot as plt\n",
    "import seaborn as sns\n",
    "import tqdm\n",
    "import sys\n",
    "import os\n",
    "\n",
    "sys.path.append(os.path.abspath('..'))\n",
    "\n",
    "#detections data\n",
    "radar_detections = pd.read_csv('../../data/cleaned_data/preprocessed_radar_detections.csv')\n",
    "tagged_detections = pd.read_csv('../../data/cleaned_data/preprocessed_tagged_detections.csv')\n",
    "\n",
    "#label data\n",
    "activity_labels_from_tagged = pd.read_csv('../../data/labels/activity_labels_from_tagged.csv')\n",
    "inferred_activity_label = pd.read_csv('../../data/labels/radar_activity_labels_inferred.csv')\n",
    "ais_type_labels = pd.read_csv('../../data/labels/ais_type_labels.csv')"
   ]
  },
  {
   "cell_type": "code",
   "execution_count": 53,
   "metadata": {},
   "outputs": [
    {
     "name": "stdout",
     "output_type": "stream",
     "text": [
      "Total number of transit tracks: 12885\n",
      "Total number of non-transit tracks: 1319\n"
     ]
    }
   ],
   "source": [
    "#Deemed as transit if confidence score >= 0.5\n",
    "transit_inferred = inferred_activity_label[inferred_activity_label['activity_inferred'] == 'transit']\n",
    "transit_inferred = transit_inferred[transit_inferred['activity_confidence_score'] >= 0.5]\n",
    "non_transit_inferred = inferred_activity_label[~inferred_activity_label['id_track'].isin(transit_inferred['id_track'])]\n",
    "\n",
    "print(f'Total number of transit tracks: {len(transit_inferred)}')\n",
    "print(f'Total number of non-transit tracks: {len(non_transit_inferred)}')\n"
   ]
  },
  {
   "cell_type": "code",
   "execution_count": 54,
   "metadata": {},
   "outputs": [],
   "source": [
    "#full non-transit radar labels\n",
    "filtered_radar_labels = pd.merge(ais_type_labels, non_transit_inferred, on='id_track', how='inner')\n",
    "filtered_radar_labels.drop_duplicates(subset=['id_track'], inplace=True)"
   ]
  },
  {
   "cell_type": "code",
   "execution_count": 55,
   "metadata": {},
   "outputs": [],
   "source": [
    "non_transit_tagged = activity_labels_from_tagged[activity_labels_from_tagged['activity'] != 'transit']"
   ]
  },
  {
   "cell_type": "code",
   "execution_count": 56,
   "metadata": {},
   "outputs": [
    {
     "data": {
      "text/html": [
       "<div>\n",
       "<style scoped>\n",
       "    .dataframe tbody tr th:only-of-type {\n",
       "        vertical-align: middle;\n",
       "    }\n",
       "\n",
       "    .dataframe tbody tr th {\n",
       "        vertical-align: top;\n",
       "    }\n",
       "\n",
       "    .dataframe thead th {\n",
       "        text-align: right;\n",
       "    }\n",
       "</style>\n",
       "<table border=\"1\" class=\"dataframe\">\n",
       "  <thead>\n",
       "    <tr style=\"text-align: right;\">\n",
       "      <th></th>\n",
       "      <th>id_track</th>\n",
       "      <th>activity</th>\n",
       "      <th>type_m2</th>\n",
       "      <th>activity_inferred</th>\n",
       "      <th>activity_confidence_score</th>\n",
       "    </tr>\n",
       "  </thead>\n",
       "  <tbody>\n",
       "    <tr>\n",
       "      <th>0</th>\n",
       "      <td>30278317</td>\n",
       "      <td>drifting</td>\n",
       "      <td>NaN</td>\n",
       "      <td>NaN</td>\n",
       "      <td>NaN</td>\n",
       "    </tr>\n",
       "    <tr>\n",
       "      <th>1</th>\n",
       "      <td>31250348</td>\n",
       "      <td>hook</td>\n",
       "      <td>NaN</td>\n",
       "      <td>NaN</td>\n",
       "      <td>NaN</td>\n",
       "    </tr>\n",
       "    <tr>\n",
       "      <th>2</th>\n",
       "      <td>32095898</td>\n",
       "      <td>drifting</td>\n",
       "      <td>NaN</td>\n",
       "      <td>NaN</td>\n",
       "      <td>NaN</td>\n",
       "    </tr>\n",
       "    <tr>\n",
       "      <th>3</th>\n",
       "      <td>32096807</td>\n",
       "      <td>drifting</td>\n",
       "      <td>NaN</td>\n",
       "      <td>NaN</td>\n",
       "      <td>NaN</td>\n",
       "    </tr>\n",
       "    <tr>\n",
       "      <th>4</th>\n",
       "      <td>32099745</td>\n",
       "      <td>drifting</td>\n",
       "      <td>NaN</td>\n",
       "      <td>NaN</td>\n",
       "      <td>NaN</td>\n",
       "    </tr>\n",
       "    <tr>\n",
       "      <th>...</th>\n",
       "      <td>...</td>\n",
       "      <td>...</td>\n",
       "      <td>...</td>\n",
       "      <td>...</td>\n",
       "      <td>...</td>\n",
       "    </tr>\n",
       "    <tr>\n",
       "      <th>3038</th>\n",
       "      <td>36223372</td>\n",
       "      <td>NaN</td>\n",
       "      <td>passenger_ship</td>\n",
       "      <td>hook</td>\n",
       "      <td>0.997884</td>\n",
       "    </tr>\n",
       "    <tr>\n",
       "      <th>3039</th>\n",
       "      <td>37533419</td>\n",
       "      <td>NaN</td>\n",
       "      <td>pleasure_craft</td>\n",
       "      <td>stopped</td>\n",
       "      <td>0.999456</td>\n",
       "    </tr>\n",
       "    <tr>\n",
       "      <th>3040</th>\n",
       "      <td>38864791</td>\n",
       "      <td>NaN</td>\n",
       "      <td>pleasure_craft</td>\n",
       "      <td>lobster</td>\n",
       "      <td>0.960697</td>\n",
       "    </tr>\n",
       "    <tr>\n",
       "      <th>3041</th>\n",
       "      <td>37563158</td>\n",
       "      <td>NaN</td>\n",
       "      <td>pleasure_craft</td>\n",
       "      <td>stopped</td>\n",
       "      <td>0.999275</td>\n",
       "    </tr>\n",
       "    <tr>\n",
       "      <th>3042</th>\n",
       "      <td>43259640</td>\n",
       "      <td>NaN</td>\n",
       "      <td>pleasure_craft</td>\n",
       "      <td>stopped</td>\n",
       "      <td>0.998499</td>\n",
       "    </tr>\n",
       "  </tbody>\n",
       "</table>\n",
       "<p>3043 rows × 5 columns</p>\n",
       "</div>"
      ],
      "text/plain": [
       "      id_track  activity         type_m2 activity_inferred  \\\n",
       "0     30278317  drifting             NaN               NaN   \n",
       "1     31250348      hook             NaN               NaN   \n",
       "2     32095898  drifting             NaN               NaN   \n",
       "3     32096807  drifting             NaN               NaN   \n",
       "4     32099745  drifting             NaN               NaN   \n",
       "...        ...       ...             ...               ...   \n",
       "3038  36223372       NaN  passenger_ship              hook   \n",
       "3039  37533419       NaN  pleasure_craft           stopped   \n",
       "3040  38864791       NaN  pleasure_craft           lobster   \n",
       "3041  37563158       NaN  pleasure_craft           stopped   \n",
       "3042  43259640       NaN  pleasure_craft           stopped   \n",
       "\n",
       "      activity_confidence_score  \n",
       "0                           NaN  \n",
       "1                           NaN  \n",
       "2                           NaN  \n",
       "3                           NaN  \n",
       "4                           NaN  \n",
       "...                         ...  \n",
       "3038                   0.997884  \n",
       "3039                   0.999456  \n",
       "3040                   0.960697  \n",
       "3041                   0.999275  \n",
       "3042                   0.998499  \n",
       "\n",
       "[3043 rows x 5 columns]"
      ]
     },
     "execution_count": 56,
     "metadata": {},
     "output_type": "execute_result"
    }
   ],
   "source": [
    "full_non_transit_labels = pd.concat([non_transit_tagged, filtered_radar_labels], ignore_index=True)\n",
    "full_non_transit_labels"
   ]
  },
  {
   "cell_type": "code",
   "execution_count": 57,
   "metadata": {},
   "outputs": [
    {
     "data": {
      "text/plain": [
       "type_m2_agg\n",
       "class_b           590\n",
       "other             334\n",
       "passenger_ship    222\n",
       "tug/tow           102\n",
       "cargo/tanker       31\n",
       "military_ship      22\n",
       "fishing_boat       18\n",
       "Name: count, dtype: int64"
      ]
     },
     "execution_count": 57,
     "metadata": {},
     "output_type": "execute_result"
    }
   ],
   "source": [
    "from core.DICT import TYPES2AGG\n",
    "\n",
    "full_non_transit_labels['type_m2_agg'] = full_non_transit_labels['type_m2'].map(TYPES2AGG)\n",
    "full_non_transit_labels['type_m2_agg'].value_counts()\n"
   ]
  },
  {
   "cell_type": "code",
   "execution_count": 58,
   "metadata": {},
   "outputs": [],
   "source": [
    "#infer on type_agg based on activity\n",
    "full_non_transit_labels.loc[\n",
    "    (full_non_transit_labels['activity'] == 'lobster') |\n",
    "    (full_non_transit_labels['activity'] == 'seine') |\n",
    "    (full_non_transit_labels['activity'] == 'trawl') |\n",
    "    (full_non_transit_labels['activity'] == 'hook'),\n",
    "    'type_m2_agg'\n",
    "] = 'fishing_boat'\n"
   ]
  },
  {
   "cell_type": "code",
   "execution_count": 59,
   "metadata": {},
   "outputs": [
    {
     "data": {
      "text/plain": [
       "{'tanker_ship': 'cargo/tanker',\n",
       " 'cargo_ship': 'cargo/tanker',\n",
       " 'tug': 'tug/tow',\n",
       " 'towing_ship': 'tug/tow',\n",
       " 'fishing_boat': 'fishing_boat',\n",
       " 'commercial_fishing_boat': 'fishing_boat',\n",
       " 'military_ship': 'military_ship',\n",
       " 'class_b': 'class_b',\n",
       " 'passenger_ship': 'passenger_ship',\n",
       " 'pleasure_craft': 'class_b',\n",
       " 'sailboat': 'class_b',\n",
       " 'search_and_rescue_boat': 'other',\n",
       " 'pilot_boat': 'other',\n",
       " 'high_speed_craft': 'other',\n",
       " 'law_enforcement_boat': 'other',\n",
       " 'other': 'other',\n",
       " 'unknown': 'other'}"
      ]
     },
     "execution_count": 59,
     "metadata": {},
     "output_type": "execute_result"
    }
   ],
   "source": [
    "TYPES2AGG"
   ]
  },
  {
   "cell_type": "code",
   "execution_count": 60,
   "metadata": {},
   "outputs": [],
   "source": [
    "full_non_transit_labels.to_csv('../../data/labels/full_non_transit_radar_labels.csv', index=False)"
   ]
  },
  {
   "cell_type": "code",
   "execution_count": 63,
   "metadata": {},
   "outputs": [
    {
     "data": {
      "text/plain": [
       "3043"
      ]
     },
     "execution_count": 63,
     "metadata": {},
     "output_type": "execute_result"
    }
   ],
   "source": [
    "full_non_transit_labels['id_track'].nunique()"
   ]
  },
  {
   "cell_type": "code",
   "execution_count": 15,
   "metadata": {},
   "outputs": [
    {
     "data": {
      "text/html": [
       "<div>\n",
       "<style scoped>\n",
       "    .dataframe tbody tr th:only-of-type {\n",
       "        vertical-align: middle;\n",
       "    }\n",
       "\n",
       "    .dataframe tbody tr th {\n",
       "        vertical-align: top;\n",
       "    }\n",
       "\n",
       "    .dataframe thead th {\n",
       "        text-align: right;\n",
       "    }\n",
       "</style>\n",
       "<table border=\"1\" class=\"dataframe\">\n",
       "  <thead>\n",
       "    <tr style=\"text-align: right;\">\n",
       "      <th></th>\n",
       "      <th>id_detect</th>\n",
       "      <th>id_track</th>\n",
       "      <th>id_site</th>\n",
       "      <th>id_m2</th>\n",
       "      <th>source</th>\n",
       "      <th>speed</th>\n",
       "      <th>course</th>\n",
       "      <th>assoc_str</th>\n",
       "      <th>assoc_id</th>\n",
       "      <th>confidence</th>\n",
       "      <th>longitude</th>\n",
       "      <th>latitude</th>\n",
       "      <th>datetime</th>\n",
       "    </tr>\n",
       "  </thead>\n",
       "  <tbody>\n",
       "    <tr>\n",
       "      <th>0</th>\n",
       "      <td>1315108673</td>\n",
       "      <td>29980760</td>\n",
       "      <td>10</td>\n",
       "      <td>18-0704-1000</td>\n",
       "      <td>radar</td>\n",
       "      <td>7.5</td>\n",
       "      <td>3.2</td>\n",
       "      <td>NaN</td>\n",
       "      <td>NaN</td>\n",
       "      <td>0.872091</td>\n",
       "      <td>-117.279102</td>\n",
       "      <td>32.798307</td>\n",
       "      <td>2023-07-04 10:00:12</td>\n",
       "    </tr>\n",
       "    <tr>\n",
       "      <th>1</th>\n",
       "      <td>1315108674</td>\n",
       "      <td>29980760</td>\n",
       "      <td>10</td>\n",
       "      <td>18-0704-1000</td>\n",
       "      <td>radar</td>\n",
       "      <td>11.3</td>\n",
       "      <td>349.5</td>\n",
       "      <td>NaN</td>\n",
       "      <td>NaN</td>\n",
       "      <td>0.872091</td>\n",
       "      <td>-117.279330</td>\n",
       "      <td>32.798868</td>\n",
       "      <td>2023-07-04 10:00:18</td>\n",
       "    </tr>\n",
       "    <tr>\n",
       "      <th>2</th>\n",
       "      <td>1315108675</td>\n",
       "      <td>29980760</td>\n",
       "      <td>10</td>\n",
       "      <td>18-0704-1000</td>\n",
       "      <td>radar</td>\n",
       "      <td>13.3</td>\n",
       "      <td>347.6</td>\n",
       "      <td>NaN</td>\n",
       "      <td>NaN</td>\n",
       "      <td>0.872091</td>\n",
       "      <td>-117.279482</td>\n",
       "      <td>32.799303</td>\n",
       "      <td>2023-07-04 10:00:24</td>\n",
       "    </tr>\n",
       "    <tr>\n",
       "      <th>3</th>\n",
       "      <td>1315108676</td>\n",
       "      <td>29980760</td>\n",
       "      <td>10</td>\n",
       "      <td>18-0704-1000</td>\n",
       "      <td>radar</td>\n",
       "      <td>13.6</td>\n",
       "      <td>351.3</td>\n",
       "      <td>NaN</td>\n",
       "      <td>NaN</td>\n",
       "      <td>0.872091</td>\n",
       "      <td>-117.279515</td>\n",
       "      <td>32.799792</td>\n",
       "      <td>2023-07-04 10:00:30</td>\n",
       "    </tr>\n",
       "    <tr>\n",
       "      <th>4</th>\n",
       "      <td>1315108677</td>\n",
       "      <td>29980760</td>\n",
       "      <td>10</td>\n",
       "      <td>18-0704-1000</td>\n",
       "      <td>radar</td>\n",
       "      <td>11.9</td>\n",
       "      <td>353.9</td>\n",
       "      <td>NaN</td>\n",
       "      <td>NaN</td>\n",
       "      <td>0.872091</td>\n",
       "      <td>-117.279520</td>\n",
       "      <td>32.800133</td>\n",
       "      <td>2023-07-04 10:00:37</td>\n",
       "    </tr>\n",
       "  </tbody>\n",
       "</table>\n",
       "</div>"
      ],
      "text/plain": [
       "    id_detect  id_track  id_site         id_m2 source  speed  course  \\\n",
       "0  1315108673  29980760       10  18-0704-1000  radar    7.5     3.2   \n",
       "1  1315108674  29980760       10  18-0704-1000  radar   11.3   349.5   \n",
       "2  1315108675  29980760       10  18-0704-1000  radar   13.3   347.6   \n",
       "3  1315108676  29980760       10  18-0704-1000  radar   13.6   351.3   \n",
       "4  1315108677  29980760       10  18-0704-1000  radar   11.9   353.9   \n",
       "\n",
       "   assoc_str  assoc_id  confidence   longitude   latitude             datetime  \n",
       "0        NaN       NaN    0.872091 -117.279102  32.798307  2023-07-04 10:00:12  \n",
       "1        NaN       NaN    0.872091 -117.279330  32.798868  2023-07-04 10:00:18  \n",
       "2        NaN       NaN    0.872091 -117.279482  32.799303  2023-07-04 10:00:24  \n",
       "3        NaN       NaN    0.872091 -117.279515  32.799792  2023-07-04 10:00:30  \n",
       "4        NaN       NaN    0.872091 -117.279520  32.800133  2023-07-04 10:00:37  "
      ]
     },
     "execution_count": 15,
     "metadata": {},
     "output_type": "execute_result"
    }
   ],
   "source": [
    "tagged_detections.head()"
   ]
  },
  {
   "cell_type": "code",
   "execution_count": null,
   "metadata": {},
   "outputs": [],
   "source": []
  }
 ],
 "metadata": {
  "kernelspec": {
   "display_name": "base",
   "language": "python",
   "name": "python3"
  },
  "language_info": {
   "codemirror_mode": {
    "name": "ipython",
    "version": 3
   },
   "file_extension": ".py",
   "mimetype": "text/x-python",
   "name": "python",
   "nbconvert_exporter": "python",
   "pygments_lexer": "ipython3",
   "version": "3.11.4"
  }
 },
 "nbformat": 4,
 "nbformat_minor": 2
}
