{
 "cells": [
  {
   "cell_type": "code",
   "execution_count": 1,
   "metadata": {},
   "outputs": [
    {
     "name": "stdout",
     "output_type": "stream",
     "text": [
      "Using device: mps\n"
     ]
    }
   ],
   "source": [
    "import pandas as pd\n",
    "import numpy as np\n",
    "import warnings\n",
    "import sys, os\n",
    "import torch\n",
    "import torch.nn as nn\n",
    "import torch.optim as optim\n",
    "from tqdm import tqdm\n",
    "\n",
    "sys.path.append(os.path.abspath('..'))\n",
    "from core.DICT import TYPE2NUM\n",
    "\n",
    "label_path = '../../data/labels/full_non_transit_stopped_radar_labels.csv'\n",
    "image_path = 'nontransit_track_images/'\n",
    "\n",
    "device = torch.device(\"mps\" if torch.backends.mps.is_available() else \"cpu\")\n",
    "print(\"Using device:\", device)\n",
    "\n",
    "import warnings\n",
    "warnings.filterwarnings(\"ignore\", message=\"Failed to load image Python extension\")"
   ]
  },
  {
   "cell_type": "markdown",
   "metadata": {},
   "source": [
    "#### CNNBaseline"
   ]
  },
  {
   "cell_type": "code",
   "execution_count": 3,
   "metadata": {},
   "outputs": [],
   "source": [
    "BATCH_SIZE = 32\n",
    "NUM_HIDDEN_1 = 32\n",
    "NUM_HIDDEN_2 = 64\n",
    "NUM_HIDDEN_3 = 128\n",
    "IN_CHANNELS = 3\n",
    "\n",
    "NUM_CLASSES = len(TYPE2NUM)\n",
    "\n",
    "from dataloader_imgs import get_type_datasets\n",
    "train_loader, val_loader, test_loader = get_type_datasets(label_path, image_path, batch_size = BATCH_SIZE)"
   ]
  },
  {
   "cell_type": "code",
   "execution_count": 4,
   "metadata": {},
   "outputs": [
    {
     "name": "stdout",
     "output_type": "stream",
     "text": [
      "Label 0: 62 samples\n",
      "Label 1: 3 samples\n",
      "Label 2: 21 samples\n",
      "Label 3: 11 samples\n",
      "Label 4: 2 samples\n",
      "Label 5: 40 samples\n",
      "Label 6: 29 samples\n"
     ]
    }
   ],
   "source": [
    "import torch\n",
    "\n",
    "all_labels = []\n",
    "\n",
    "for _, labels in test_loader:\n",
    "    all_labels.append(labels)\n",
    "\n",
    "all_labels = torch.cat(all_labels)\n",
    "\n",
    "# Convert to numpy array\n",
    "labels_np = all_labels.numpy()\n",
    "\n",
    "# Get unique labels and their counts\n",
    "unique_labels, counts = np.unique(labels_np, return_counts=True)\n",
    "\n",
    "for label, count in zip(unique_labels, counts):\n",
    "    print(f\"Label {label}: {count} samples\")\n"
   ]
  },
  {
   "cell_type": "code",
   "execution_count": 4,
   "metadata": {},
   "outputs": [
    {
     "ename": "TypeError",
     "evalue": "train_model() missing 1 required positional argument: 'start_epoch'",
     "output_type": "error",
     "traceback": [
      "\u001b[0;31m---------------------------------------------------------------------------\u001b[0m",
      "\u001b[0;31mTypeError\u001b[0m                                 Traceback (most recent call last)",
      "Cell \u001b[0;32mIn[4], line 19\u001b[0m\n\u001b[1;32m      8\u001b[0m train_config \u001b[38;5;241m=\u001b[39m {\n\u001b[1;32m      9\u001b[0m     \u001b[38;5;124m\"\u001b[39m\u001b[38;5;124mmodel\u001b[39m\u001b[38;5;124m\"\u001b[39m: cnn_baseline_1,\n\u001b[1;32m     10\u001b[0m     \u001b[38;5;124m\"\u001b[39m\u001b[38;5;124mtrain_loader\u001b[39m\u001b[38;5;124m\"\u001b[39m : train_loader,\n\u001b[0;32m   (...)\u001b[0m\n\u001b[1;32m     15\u001b[0m     \u001b[38;5;124m\"\u001b[39m\u001b[38;5;124mscheduler\u001b[39m\u001b[38;5;124m\"\u001b[39m: \u001b[38;5;28;01mNone\u001b[39;00m\n\u001b[1;32m     16\u001b[0m }\n\u001b[1;32m     18\u001b[0m \u001b[38;5;66;03m#train and save model\u001b[39;00m\n\u001b[0;32m---> 19\u001b[0m TRAIN_LOSSES, TRAIN_ACC, VAL_LOSSES, VAL_ACC, best_model_wts, best_val_loss \u001b[38;5;241m=\u001b[39m \u001b[43mtrain_model\u001b[49m\u001b[43m(\u001b[49m\u001b[38;5;241;43m*\u001b[39;49m\u001b[38;5;241;43m*\u001b[39;49m\u001b[43mtrain_config\u001b[49m\u001b[43m)\u001b[49m\n\u001b[1;32m     20\u001b[0m save_model(TRAIN_LOSSES, TRAIN_ACC, VAL_LOSSES, VAL_ACC, best_val_loss, best_model_wts, model_name)\n",
      "\u001b[0;31mTypeError\u001b[0m: train_model() missing 1 required positional argument: 'start_epoch'"
     ]
    }
   ],
   "source": [
    "from models import CNNBaseline\n",
    "from engine import train_model, save_model\n",
    "\n",
    "cnn_baseline_1 = CNNBaseline(IN_CHANNELS, NUM_HIDDEN_1, NUM_HIDDEN_2, NUM_HIDDEN_3, NUM_CLASSES).to(device)\n",
    "optimizer = optim.Adam(cnn_baseline_1.parameters(), lr=1e-4)\n",
    "model_name = \"nontransit_cnn_baseline_best_10\"\n",
    "\n",
    "train_config = {\n",
    "    \"model\": cnn_baseline_1,\n",
    "    \"train_loader\" : train_loader,\n",
    "    \"val_loader\" : val_loader,\n",
    "    \"optimizer\" : optimizer,\n",
    "    \"device\" : device,\n",
    "    \"num_epochs\" : 10,\n",
    "    \"scheduler\": None\n",
    "}\n",
    "\n",
    "#train and save model\n",
    "TRAIN_LOSSES, TRAIN_ACC, VAL_LOSSES, VAL_ACC, best_model_wts, best_val_loss = train_model(**train_config)\n",
    "save_model(TRAIN_LOSSES, TRAIN_ACC, VAL_LOSSES, VAL_ACC, best_val_loss, best_model_wts, model_name)\n"
   ]
  },
  {
   "cell_type": "code",
   "execution_count": 5,
   "metadata": {},
   "outputs": [
    {
     "name": "stderr",
     "output_type": "stream",
     "text": [
      "                                                         \r"
     ]
    },
    {
     "name": "stdout",
     "output_type": "stream",
     "text": [
      "Epoch 1/10\n",
      "Train Loss: 1.2608 | Train Acc: 0.5124\n",
      "Val   Loss: 1.3581 | Val   Acc: 0.4412\n"
     ]
    },
    {
     "name": "stderr",
     "output_type": "stream",
     "text": [
      "                                                         \r"
     ]
    },
    {
     "name": "stdout",
     "output_type": "stream",
     "text": [
      "Epoch 2/10\n",
      "Train Loss: 1.1791 | Train Acc: 0.5424\n",
      "Val   Loss: 1.3505 | Val   Acc: 0.4882\n"
     ]
    },
    {
     "name": "stderr",
     "output_type": "stream",
     "text": [
      "                                                         \r"
     ]
    },
    {
     "name": "stdout",
     "output_type": "stream",
     "text": [
      "Epoch 3/10\n",
      "Train Loss: 1.1375 | Train Acc: 0.5621\n",
      "Val   Loss: 1.3659 | Val   Acc: 0.4588\n"
     ]
    },
    {
     "name": "stderr",
     "output_type": "stream",
     "text": [
      "                                                         \r"
     ]
    },
    {
     "name": "stdout",
     "output_type": "stream",
     "text": [
      "Epoch 4/10\n",
      "Train Loss: 1.0781 | Train Acc: 0.5811\n",
      "Val   Loss: 1.4219 | Val   Acc: 0.4235\n"
     ]
    },
    {
     "name": "stderr",
     "output_type": "stream",
     "text": [
      "                                                         \r"
     ]
    },
    {
     "name": "stdout",
     "output_type": "stream",
     "text": [
      "Epoch 5/10\n",
      "Train Loss: 1.0376 | Train Acc: 0.6060\n",
      "Val   Loss: 1.4253 | Val   Acc: 0.4412\n"
     ]
    },
    {
     "name": "stderr",
     "output_type": "stream",
     "text": [
      "                                                         \r"
     ]
    },
    {
     "name": "stdout",
     "output_type": "stream",
     "text": [
      "Epoch 6/10\n",
      "Train Loss: 0.9729 | Train Acc: 0.6221\n",
      "Val   Loss: 1.4652 | Val   Acc: 0.4412\n"
     ]
    },
    {
     "name": "stderr",
     "output_type": "stream",
     "text": [
      "                                                         \r"
     ]
    },
    {
     "name": "stdout",
     "output_type": "stream",
     "text": [
      "Epoch 7/10\n",
      "Train Loss: 0.8995 | Train Acc: 0.6623\n",
      "Val   Loss: 1.4705 | Val   Acc: 0.4647\n"
     ]
    },
    {
     "name": "stderr",
     "output_type": "stream",
     "text": [
      "                                                         \r"
     ]
    },
    {
     "name": "stdout",
     "output_type": "stream",
     "text": [
      "Epoch 8/10\n",
      "Train Loss: 0.8575 | Train Acc: 0.6835\n",
      "Val   Loss: 1.5046 | Val   Acc: 0.4471\n"
     ]
    },
    {
     "name": "stderr",
     "output_type": "stream",
     "text": [
      "                                                         \r"
     ]
    },
    {
     "name": "stdout",
     "output_type": "stream",
     "text": [
      "Epoch 9/10\n",
      "Train Loss: 0.7905 | Train Acc: 0.7032\n",
      "Val   Loss: 1.5718 | Val   Acc: 0.4765\n"
     ]
    },
    {
     "name": "stderr",
     "output_type": "stream",
     "text": [
      "                                                         \r"
     ]
    },
    {
     "name": "stdout",
     "output_type": "stream",
     "text": [
      "Epoch 10/10\n",
      "Train Loss: 0.6831 | Train Acc: 0.7624\n",
      "Val   Loss: 1.7150 | Val   Acc: 0.4647\n"
     ]
    }
   ],
   "source": [
    "#Retrain for further epochs\n",
    "cnn_baseline_1 = CNNBaseline(IN_CHANNELS, NUM_HIDDEN_1, NUM_HIDDEN_2, NUM_HIDDEN_3, NUM_CLASSES).to(device)\n",
    "\n",
    "checkpoint_path = f\"models/{model_name}.pth\"\n",
    "cnn_baseline_1.load_state_dict(torch.load(checkpoint_path))\n",
    "optimizer = optim.Adam(cnn_baseline_1.parameters(), lr=1e-4)\n",
    "model_name = \"nontransit_cnn_baseline_best_20\"\n",
    "\n",
    "train_config_resume = {\n",
    "    \"model\": cnn_baseline_1,\n",
    "    \"train_loader\": train_loader,\n",
    "    \"val_loader\": val_loader,\n",
    "    \"optimizer\": optimizer,\n",
    "    \"device\": device,\n",
    "    \"num_epochs\": 10,\n",
    "    \"scheduler\": None\n",
    "}\n",
    "\n",
    "# 5. Resume training\n",
    "train_loss_2, train_acc_2, val_loss_2, val_acc_2, best_model_wts_2, best_val_loss_2 = train_model(**train_config_resume)\n",
    "save_model(TRAIN_LOSSES, TRAIN_ACC, VAL_LOSSES, VAL_ACC, best_val_loss, best_model_wts, model_name)\n"
   ]
  },
  {
   "cell_type": "markdown",
   "metadata": {},
   "source": [
    "### Resnet"
   ]
  },
  {
   "cell_type": "code",
   "execution_count": 18,
   "metadata": {},
   "outputs": [
    {
     "name": "stderr",
     "output_type": "stream",
     "text": [
      "                                                         \r"
     ]
    },
    {
     "name": "stdout",
     "output_type": "stream",
     "text": [
      "Epoch 1/50\n",
      "Train Loss: 1.6180 | Train Acc: 0.3447\n",
      "Val   Loss: 1.5953 | Val   Acc: 0.3452\n"
     ]
    },
    {
     "name": "stderr",
     "output_type": "stream",
     "text": [
      "                                                         \r"
     ]
    },
    {
     "name": "stdout",
     "output_type": "stream",
     "text": [
      "Epoch 2/50\n",
      "Train Loss: 1.4563 | Train Acc: 0.4519\n",
      "Val   Loss: 1.5257 | Val   Acc: 0.4107\n"
     ]
    },
    {
     "name": "stderr",
     "output_type": "stream",
     "text": [
      "                                                         \r"
     ]
    },
    {
     "name": "stdout",
     "output_type": "stream",
     "text": [
      "Epoch 3/50\n",
      "Train Loss: 1.3845 | Train Acc: 0.4904\n",
      "Val   Loss: 1.4488 | Val   Acc: 0.4167\n"
     ]
    },
    {
     "name": "stderr",
     "output_type": "stream",
     "text": [
      "                                                         \r"
     ]
    },
    {
     "name": "stdout",
     "output_type": "stream",
     "text": [
      "Epoch 4/50\n",
      "Train Loss: 1.3256 | Train Acc: 0.5074\n",
      "Val   Loss: 1.4090 | Val   Acc: 0.4524\n"
     ]
    },
    {
     "name": "stderr",
     "output_type": "stream",
     "text": [
      "                                                         \r"
     ]
    },
    {
     "name": "stdout",
     "output_type": "stream",
     "text": [
      "Epoch 5/50\n",
      "Train Loss: 1.2734 | Train Acc: 0.5407\n",
      "Val   Loss: 1.4026 | Val   Acc: 0.4345\n"
     ]
    },
    {
     "name": "stderr",
     "output_type": "stream",
     "text": [
      "                                                         \r"
     ]
    },
    {
     "name": "stdout",
     "output_type": "stream",
     "text": [
      "Epoch 6/50\n",
      "Train Loss: 1.2456 | Train Acc: 0.5355\n",
      "Val   Loss: 1.3811 | Val   Acc: 0.4464\n"
     ]
    },
    {
     "name": "stderr",
     "output_type": "stream",
     "text": [
      "                                                         \r"
     ]
    },
    {
     "name": "stdout",
     "output_type": "stream",
     "text": [
      "Epoch 7/50\n",
      "Train Loss: 1.2213 | Train Acc: 0.5473\n",
      "Val   Loss: 1.3917 | Val   Acc: 0.4524\n"
     ]
    },
    {
     "name": "stderr",
     "output_type": "stream",
     "text": [
      "                                                         \r"
     ]
    },
    {
     "name": "stdout",
     "output_type": "stream",
     "text": [
      "Epoch 8/50\n",
      "Train Loss: 1.1864 | Train Acc: 0.5643\n",
      "Val   Loss: 1.3472 | Val   Acc: 0.4405\n"
     ]
    },
    {
     "name": "stderr",
     "output_type": "stream",
     "text": [
      "                                                         \r"
     ]
    },
    {
     "name": "stdout",
     "output_type": "stream",
     "text": [
      "Epoch 9/50\n",
      "Train Loss: 1.1731 | Train Acc: 0.5717\n",
      "Val   Loss: 1.3399 | Val   Acc: 0.4702\n"
     ]
    },
    {
     "name": "stderr",
     "output_type": "stream",
     "text": [
      "                                                         \r"
     ]
    },
    {
     "name": "stdout",
     "output_type": "stream",
     "text": [
      "Epoch 10/50\n",
      "Train Loss: 1.1478 | Train Acc: 0.5865\n",
      "Val   Loss: 1.3479 | Val   Acc: 0.4702\n"
     ]
    },
    {
     "name": "stderr",
     "output_type": "stream",
     "text": [
      "                                                         \r"
     ]
    },
    {
     "name": "stdout",
     "output_type": "stream",
     "text": [
      "Epoch 11/50\n",
      "Train Loss: 1.1102 | Train Acc: 0.6050\n",
      "Val   Loss: 1.3208 | Val   Acc: 0.4821\n"
     ]
    },
    {
     "name": "stderr",
     "output_type": "stream",
     "text": [
      "                                                         \r"
     ]
    },
    {
     "name": "stdout",
     "output_type": "stream",
     "text": [
      "Epoch 12/50\n",
      "Train Loss: 1.0972 | Train Acc: 0.6109\n",
      "Val   Loss: 1.3141 | Val   Acc: 0.4762\n"
     ]
    },
    {
     "name": "stderr",
     "output_type": "stream",
     "text": [
      "                                                         \r"
     ]
    },
    {
     "name": "stdout",
     "output_type": "stream",
     "text": [
      "Epoch 13/50\n",
      "Train Loss: 1.0945 | Train Acc: 0.6169\n",
      "Val   Loss: 1.3068 | Val   Acc: 0.4940\n"
     ]
    },
    {
     "name": "stderr",
     "output_type": "stream",
     "text": [
      "                                                          \r"
     ]
    },
    {
     "name": "stdout",
     "output_type": "stream",
     "text": [
      "Epoch 14/50\n",
      "Train Loss: 1.0644 | Train Acc: 0.6243\n",
      "Val   Loss: 1.2828 | Val   Acc: 0.5060\n"
     ]
    },
    {
     "name": "stderr",
     "output_type": "stream",
     "text": [
      "                                                             \r"
     ]
    },
    {
     "name": "stdout",
     "output_type": "stream",
     "text": [
      "Epoch 15/50\n",
      "Train Loss: 1.0531 | Train Acc: 0.6117\n",
      "Val   Loss: 1.3013 | Val   Acc: 0.5060\n"
     ]
    },
    {
     "name": "stderr",
     "output_type": "stream",
     "text": [
      "                                                         \r"
     ]
    },
    {
     "name": "stdout",
     "output_type": "stream",
     "text": [
      "Epoch 16/50\n",
      "Train Loss: 1.0275 | Train Acc: 0.6428\n",
      "Val   Loss: 1.3089 | Val   Acc: 0.4940\n"
     ]
    },
    {
     "name": "stderr",
     "output_type": "stream",
     "text": [
      "                                                         \r"
     ]
    },
    {
     "name": "stdout",
     "output_type": "stream",
     "text": [
      "Epoch 17/50\n",
      "Train Loss: 1.0262 | Train Acc: 0.6464\n",
      "Val   Loss: 1.2822 | Val   Acc: 0.5000\n"
     ]
    },
    {
     "name": "stderr",
     "output_type": "stream",
     "text": [
      "                                                         \r"
     ]
    },
    {
     "name": "stdout",
     "output_type": "stream",
     "text": [
      "Epoch 18/50\n",
      "Train Loss: 1.0098 | Train Acc: 0.6420\n",
      "Val   Loss: 1.2831 | Val   Acc: 0.4762\n"
     ]
    },
    {
     "name": "stderr",
     "output_type": "stream",
     "text": [
      "                                                         \r"
     ]
    },
    {
     "name": "stdout",
     "output_type": "stream",
     "text": [
      "Epoch 19/50\n",
      "Train Loss: 0.9957 | Train Acc: 0.6457\n",
      "Val   Loss: 1.2590 | Val   Acc: 0.5000\n"
     ]
    },
    {
     "name": "stderr",
     "output_type": "stream",
     "text": [
      "                                                         \r"
     ]
    },
    {
     "name": "stdout",
     "output_type": "stream",
     "text": [
      "Epoch 20/50\n",
      "Train Loss: 0.9776 | Train Acc: 0.6709\n",
      "Val   Loss: 1.2664 | Val   Acc: 0.4940\n"
     ]
    },
    {
     "name": "stderr",
     "output_type": "stream",
     "text": [
      "                                                         \r"
     ]
    },
    {
     "name": "stdout",
     "output_type": "stream",
     "text": [
      "Epoch 21/50\n",
      "Train Loss: 0.9476 | Train Acc: 0.6738\n",
      "Val   Loss: 1.2635 | Val   Acc: 0.5060\n"
     ]
    },
    {
     "name": "stderr",
     "output_type": "stream",
     "text": [
      "                                                         \r"
     ]
    },
    {
     "name": "stdout",
     "output_type": "stream",
     "text": [
      "Epoch 22/50\n",
      "Train Loss: 0.9514 | Train Acc: 0.6686\n",
      "Val   Loss: 1.2527 | Val   Acc: 0.4881\n"
     ]
    },
    {
     "name": "stderr",
     "output_type": "stream",
     "text": [
      "                                                \r"
     ]
    },
    {
     "name": "stdout",
     "output_type": "stream",
     "text": [
      "Unexpected exception formatting exception. Falling back to standard exception\n"
     ]
    },
    {
     "name": "stderr",
     "output_type": "stream",
     "text": [
      "Traceback (most recent call last):\n",
      "  File \"/Users/liuzehan/miniconda3/lib/python3.11/site-packages/IPython/core/interactiveshell.py\", line 3508, in run_code\n",
      "    exec(code_obj, self.user_global_ns, self.user_ns)\n",
      "  File \"/var/folders/jm/bv3tgs257hx9tx764_p9xq0w0000gn/T/ipykernel_72996/4254320449.py\", line 21, in <module>\n",
      "    TRAIN_LOSSES, TRAIN_ACC, VAL_LOSSES, VAL_ACC, best_model_wts, best_val_loss = train_model(**train_config)\n",
      "                                                                                  ^^^^^^^^^^^^^^^^^^^^^^^^^^^\n",
      "  File \"/Users/liuzehan/Desktop/Protected Seas/peter/CNN/engine.py\", line 55, in train_model\n",
      "  File \"/Users/liuzehan/miniconda3/lib/python3.11/site-packages/tqdm/std.py\", line 1181, in __iter__\n",
      "    for obj in iterable:\n",
      "  File \"/Users/liuzehan/miniconda3/lib/python3.11/site-packages/torch/utils/data/dataloader.py\", line 733, in __next__\n",
      "    data = self._next_data()\n",
      "           ^^^^^^^^^^^^^^^^^\n",
      "  File \"/Users/liuzehan/miniconda3/lib/python3.11/site-packages/torch/utils/data/dataloader.py\", line 1491, in _next_data\n",
      "    idx, data = self._get_data()\n",
      "                ^^^^^^^^^^^^^^^^\n",
      "  File \"/Users/liuzehan/miniconda3/lib/python3.11/site-packages/torch/utils/data/dataloader.py\", line 1453, in _get_data\n",
      "    success, data = self._try_get_data()\n",
      "                    ^^^^^^^^^^^^^^^^^^^^\n",
      "  File \"/Users/liuzehan/miniconda3/lib/python3.11/site-packages/torch/utils/data/dataloader.py\", line 1284, in _try_get_data\n",
      "    data = self._data_queue.get(timeout=timeout)\n",
      "           ^^^^^^^^^^^^^^^^^^^^^^^^^^^^^^^^^^^^^\n",
      "  File \"/Users/liuzehan/miniconda3/lib/python3.11/multiprocessing/queues.py\", line 113, in get\n",
      "    if not self._poll(timeout):\n",
      "           ^^^^^^^^^^^^^^^^^^^\n",
      "  File \"/Users/liuzehan/miniconda3/lib/python3.11/multiprocessing/connection.py\", line 256, in poll\n",
      "    return self._poll(timeout)\n",
      "           ^^^^^^^^^^^^^^^^^^^\n",
      "  File \"/Users/liuzehan/miniconda3/lib/python3.11/multiprocessing/connection.py\", line 423, in _poll\n",
      "    r = wait([self], timeout)\n",
      "        ^^^^^^^^^^^^^^^^^^^^^\n",
      "  File \"/Users/liuzehan/miniconda3/lib/python3.11/multiprocessing/connection.py\", line 930, in wait\n",
      "    ready = selector.select(timeout)\n",
      "            ^^^^^^^^^^^^^^^^^^^^^^^^\n",
      "  File \"/Users/liuzehan/miniconda3/lib/python3.11/selectors.py\", line 415, in select\n",
      "    fd_event_list = self._selector.poll(timeout)\n",
      "                    ^^^^^^^^^^^^^^^^^^^^^^^^^^^^\n",
      "KeyboardInterrupt\n",
      "\n",
      "During handling of the above exception, another exception occurred:\n",
      "\n",
      "Traceback (most recent call last):\n",
      "  File \"/Users/liuzehan/miniconda3/lib/python3.11/site-packages/IPython/core/interactiveshell.py\", line 2105, in showtraceback\n",
      "    stb = self.InteractiveTB.structured_traceback(\n",
      "          ^^^^^^^^^^^^^^^^^^^^^^^^^^^^^^^^^^^^^^^^\n",
      "  File \"/Users/liuzehan/miniconda3/lib/python3.11/site-packages/IPython/core/ultratb.py\", line 1428, in structured_traceback\n",
      "    return FormattedTB.structured_traceback(\n",
      "           ^^^^^^^^^^^^^^^^^^^^^^^^^^^^^^^^^\n",
      "  File \"/Users/liuzehan/miniconda3/lib/python3.11/site-packages/IPython/core/ultratb.py\", line 1319, in structured_traceback\n",
      "    return VerboseTB.structured_traceback(\n",
      "           ^^^^^^^^^^^^^^^^^^^^^^^^^^^^^^^\n",
      "  File \"/Users/liuzehan/miniconda3/lib/python3.11/site-packages/IPython/core/ultratb.py\", line 1172, in structured_traceback\n",
      "    formatted_exception = self.format_exception_as_a_whole(etype, evalue, etb, number_of_lines_of_context,\n",
      "                          ^^^^^^^^^^^^^^^^^^^^^^^^^^^^^^^^^^^^^^^^^^^^^^^^^^^^^^^^^^^^^^^^^^^^^^^^^^^^^^^^\n",
      "  File \"/Users/liuzehan/miniconda3/lib/python3.11/site-packages/IPython/core/ultratb.py\", line 1087, in format_exception_as_a_whole\n",
      "    frames.append(self.format_record(record))\n",
      "                  ^^^^^^^^^^^^^^^^^^^^^^^^^^\n",
      "  File \"/Users/liuzehan/miniconda3/lib/python3.11/site-packages/IPython/core/ultratb.py\", line 969, in format_record\n",
      "    frame_info.lines, Colors, self.has_colors, lvals\n",
      "    ^^^^^^^^^^^^^^^^\n",
      "  File \"/Users/liuzehan/miniconda3/lib/python3.11/site-packages/IPython/core/ultratb.py\", line 792, in lines\n",
      "    return self._sd.lines\n",
      "           ^^^^^^^^^^^^^^\n",
      "  File \"/Users/liuzehan/miniconda3/lib/python3.11/site-packages/stack_data/utils.py\", line 144, in cached_property_wrapper\n",
      "    value = obj.__dict__[self.func.__name__] = self.func(obj)\n",
      "                                               ^^^^^^^^^^^^^^\n",
      "  File \"/Users/liuzehan/miniconda3/lib/python3.11/site-packages/stack_data/core.py\", line 734, in lines\n",
      "    pieces = self.included_pieces\n",
      "             ^^^^^^^^^^^^^^^^^^^^\n",
      "  File \"/Users/liuzehan/miniconda3/lib/python3.11/site-packages/stack_data/utils.py\", line 144, in cached_property_wrapper\n",
      "    value = obj.__dict__[self.func.__name__] = self.func(obj)\n",
      "                                               ^^^^^^^^^^^^^^\n",
      "  File \"/Users/liuzehan/miniconda3/lib/python3.11/site-packages/stack_data/core.py\", line 681, in included_pieces\n",
      "    pos = scope_pieces.index(self.executing_piece)\n",
      "                             ^^^^^^^^^^^^^^^^^^^^\n",
      "  File \"/Users/liuzehan/miniconda3/lib/python3.11/site-packages/stack_data/utils.py\", line 144, in cached_property_wrapper\n",
      "    value = obj.__dict__[self.func.__name__] = self.func(obj)\n",
      "                                               ^^^^^^^^^^^^^^\n",
      "  File \"/Users/liuzehan/miniconda3/lib/python3.11/site-packages/stack_data/core.py\", line 660, in executing_piece\n",
      "    return only(\n",
      "           ^^^^^\n",
      "  File \"/Users/liuzehan/miniconda3/lib/python3.11/site-packages/executing/executing.py\", line 190, in only\n",
      "    raise NotOneValueFound('Expected one value, found 0')\n",
      "executing.executing.NotOneValueFound: Expected one value, found 0\n"
     ]
    }
   ],
   "source": [
    "from models import get_resnet50_classifier\n",
    "from engine import train_model, save_model\n",
    "\n",
    "resnet50 = get_resnet50_classifier(NUM_CLASSES).to(device)\n",
    "optimizer = optim.Adam(resnet50.parameters(), lr=1e-3)\n",
    "model_name = \"nontransit_resnet50_best_50\"\n",
    "lr_scheduler = optim.lr_scheduler.StepLR(optimizer, step_size=5, gamma=0.1)\n",
    "\n",
    "train_config = {\n",
    "    \"model\": resnet50,\n",
    "    \"train_loader\" : train_loader,\n",
    "    \"val_loader\" : val_loader,\n",
    "    \"optimizer\" : optimizer, \n",
    "    \"device\" : device,\n",
    "    \"start_epoch\" : 0,\n",
    "    \"num_epochs\" : 50,\n",
    "    \"scheduler\": None\n",
    "}\n",
    "\n",
    "#train loop\n",
    "TRAIN_LOSSES, TRAIN_ACC, VAL_LOSSES, VAL_ACC, best_model_wts, best_val_loss = train_model(**train_config)\n",
    "save_model(TRAIN_LOSSES, TRAIN_ACC, VAL_LOSSES, VAL_ACC, best_val_loss, best_model_wts, model_name)"
   ]
  },
  {
   "cell_type": "code",
   "execution_count": 16,
   "metadata": {},
   "outputs": [],
   "source": [
    "from sklearn.metrics import classification_report, confusion_matrix, ConfusionMatrixDisplay\n",
    "import matplotlib.pyplot as plt\n",
    "import seaborn as sns\n",
    "import pandas as pd\n",
    "\n",
    "def evaluate_model(model: nn.Module,\n",
    "                   test_loader,\n",
    "                   device: torch.device,\n",
    "                   NUM2TYPE: dict[str],\n",
    "                   loss_fn: nn.Module = nn.CrossEntropyLoss()) -> None:\n",
    "    \"\"\"\n",
    "    Evaluate the model and print classification report + plot confusion matrices.\n",
    "\n",
    "    Args:\n",
    "        model (nn.Module): Trained model to evaluate.\n",
    "        test_loader (DataLoader): DataLoader for test data.\n",
    "        device (torch.device): Device to run the evaluation on.\n",
    "        NUM2TYPE (dict): Mapping from class integers to readable string labels.\n",
    "        loss_fn (nn.Module): Loss function. Defaults to CrossEntropyLoss.\n",
    "    \"\"\"\n",
    "    model.eval()\n",
    "    all_preds = []\n",
    "    all_targets = []\n",
    "    running_loss = 0.0\n",
    "    total = 0\n",
    "\n",
    "    with torch.no_grad():\n",
    "        for inputs, targets in tqdm(test_loader, desc=\"Evaluating\", leave=False):\n",
    "            inputs, targets = inputs.to(device), targets.to(device)\n",
    "            outputs = model(inputs)\n",
    "            loss = loss_fn(outputs, targets)\n",
    "            running_loss += loss.item() * inputs.size(0)\n",
    "            _, predicted = torch.max(outputs, dim=1)\n",
    "            all_preds.extend(predicted.cpu().numpy())\n",
    "            all_targets.extend(targets.cpu().numpy())\n",
    "            total += targets.size(0)\n",
    "\n",
    "    all_preds_str = [NUM2TYPE[p] for p in all_preds]\n",
    "    all_targets_str = [NUM2TYPE[t] for t in all_targets]\n",
    "\n",
    "    print(\"\\nClassification Report:\")\n",
    "    report = classification_report(all_targets_str, all_preds_str, digits=4)\n",
    "    print(report)\n",
    "\n",
    "    cm = confusion_matrix(all_targets_str, all_preds_str, labels=list(NUM2TYPE.values()))\n",
    "    cm_df = pd.DataFrame(cm, index=NUM2TYPE.values(), columns=NUM2TYPE.values())\n",
    "\n",
    "    plt.figure(figsize=(7, 5))\n",
    "    sns.heatmap(cm_df, annot=True, fmt='d', cmap='Blues')\n",
    "    plt.title(\"Confusion Matrix (Counts)\")\n",
    "    plt.ylabel(\"True Label\")\n",
    "    plt.xlabel(\"Predicted Label\")\n",
    "    plt.xticks(rotation=45)\n",
    "    plt.tight_layout()\n",
    "    plt.show()\n",
    "\n",
    "\n",
    "    cm_norm = cm.astype(\"float\") / cm.sum(axis=1)[:, np.newaxis]\n",
    "    cm_norm_df = pd.DataFrame(cm_norm, index=NUM2TYPE.values(), columns=NUM2TYPE.values())\n",
    "\n",
    "    plt.figure(figsize=(7, 5))\n",
    "    sns.heatmap(cm_norm_df, annot=True, fmt='.2f', cmap='Greens')\n",
    "    plt.title(\"Confusion Matrix (Sensitivity / Recall)\")\n",
    "    plt.ylabel(\"True Label\")\n",
    "    plt.xlabel(\"Predicted Label\")\n",
    "    plt.xticks(rotation=45)\n",
    "    plt.tight_layout()\n",
    "    plt.show()\n"
   ]
  },
  {
   "cell_type": "code",
   "execution_count": 17,
   "metadata": {},
   "outputs": [
    {
     "name": "stderr",
     "output_type": "stream",
     "text": [
      "                                                         "
     ]
    },
    {
     "name": "stdout",
     "output_type": "stream",
     "text": [
      "\n",
      "Classification Report:\n",
      "                precision    recall  f1-score   support\n",
      "\n",
      "  cargo/tanker     0.0000    0.0000    0.0000         3\n",
      "       class_b     0.5405    0.6452    0.5882        62\n",
      "  fishing_boat     0.5476    0.5750    0.5610        40\n",
      " military_ship     0.0000    0.0000    0.0000         2\n",
      "         other     0.4848    0.5517    0.5161        29\n",
      "passenger_ship     0.3571    0.2381    0.2857        21\n",
      "       tug/tow     1.0000    0.4545    0.6250        11\n",
      "\n",
      "      accuracy                         0.5298       168\n",
      "     macro avg     0.4186    0.3521    0.3680       168\n",
      "  weighted avg     0.5237    0.5298    0.5164       168\n",
      "\n"
     ]
    },
    {
     "name": "stderr",
     "output_type": "stream",
     "text": [
      "/Users/liuzehan/miniconda3/lib/python3.11/site-packages/sklearn/metrics/_classification.py:1509: UndefinedMetricWarning: Precision is ill-defined and being set to 0.0 in labels with no predicted samples. Use `zero_division` parameter to control this behavior.\n",
      "  _warn_prf(average, modifier, f\"{metric.capitalize()} is\", len(result))\n",
      "/Users/liuzehan/miniconda3/lib/python3.11/site-packages/sklearn/metrics/_classification.py:1509: UndefinedMetricWarning: Precision is ill-defined and being set to 0.0 in labels with no predicted samples. Use `zero_division` parameter to control this behavior.\n",
      "  _warn_prf(average, modifier, f\"{metric.capitalize()} is\", len(result))\n",
      "/Users/liuzehan/miniconda3/lib/python3.11/site-packages/sklearn/metrics/_classification.py:1509: UndefinedMetricWarning: Precision is ill-defined and being set to 0.0 in labels with no predicted samples. Use `zero_division` parameter to control this behavior.\n",
      "  _warn_prf(average, modifier, f\"{metric.capitalize()} is\", len(result))\n"
     ]
    },
    {
     "data": {
      "image/png": "[encoded data removed]",
      "text/plain": [
       "<Figure size 700x500 with 2 Axes>"
      ]
     },
     "metadata": {},
     "output_type": "display_data"
    },
    {
     "data": {
      "image/png": "[encoded data removed]",
      "text/plain": [
       "<Figure size 700x500 with 2 Axes>"
      ]
     },
     "metadata": {},
     "output_type": "display_data"
    }
   ],
   "source": [
    "#load best model\n",
    "sys.path.append(os.path.abspath('..'))\n",
    "from core.DICT import NUM2TYPE\n",
    "\n",
    "model_path = \"models/nontransit_resnet50_best_50.pth\"\n",
    "resnet50_best = resnet50.load_state_dict(torch.load(model_path))\n",
    "\n",
    "evaluate_model(resnet50, test_loader, device, NUM2TYPE)"
   ]
  },
  {
   "cell_type": "code",
   "execution_count": null,
   "metadata": {},
   "outputs": [],
   "source": []
  }
 ],
 "metadata": {
  "kernelspec": {
   "display_name": "base",
   "language": "python",
   "name": "python3"
  },
  "language_info": {
   "codemirror_mode": {
    "name": "ipython",
    "version": 3
   },
   "file_extension": ".py",
   "mimetype": "text/x-python",
   "name": "python",
   "nbconvert_exporter": "python",
   "pygments_lexer": "ipython3",
   "version": "3.11.4"
  }
 },
 "nbformat": 4,
 "nbformat_minor": 2
}
