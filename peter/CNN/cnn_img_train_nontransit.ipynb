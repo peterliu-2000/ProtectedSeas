{
 "cells": [
  {
   "cell_type": "code",
   "execution_count": 1,
   "metadata": {},
   "outputs": [
    {
     "name": "stdout",
     "output_type": "stream",
     "text": [
      "Using device: mps\n"
     ]
    }
   ],
   "source": [
    "import pandas as pd\n",
    "import numpy as np\n",
    "import warnings\n",
    "import sys, os\n",
    "import torch\n",
    "import torch.nn as nn\n",
    "import torch.optim as optim\n",
    "from tqdm import tqdm\n",
    "\n",
    "sys.path.append(os.path.abspath('..'))\n",
    "\n",
    "label_path = '../../data/labels/full_non_transit_radar_labels.csv'\n",
    "image_path = 'nontransit_track_images/'\n",
    "\n",
    "device = torch.device(\"mps\" if torch.backends.mps.is_available() else \"cpu\")\n",
    "print(\"Using device:\", device)\n",
    "\n",
    "import warnings\n",
    "warnings.filterwarnings(\"ignore\", message=\"Failed to load image Python extension\")"
   ]
  },
  {
   "cell_type": "markdown",
   "metadata": {},
   "source": [
    "#### CNNBaseline"
   ]
  },
  {
   "cell_type": "code",
   "execution_count": 2,
   "metadata": {},
   "outputs": [],
   "source": [
    "BATCH_SIZE = 32\n",
    "NUM_HIDDEN_1 = 32\n",
    "NUM_HIDDEN_2 = 64\n",
    "NUM_HIDDEN_3 = 128\n",
    "IN_CHANNELS = 3\n",
    "\n",
    "from core.DICT import TYPE2NUM\n",
    "NUM_CLASSES = len(TYPE2NUM)\n",
    "\n",
    "from dataloader_imgs import get_type_datasets\n",
    "train_loader, val_loader, test_loader = get_type_datasets(label_path, image_path, batch_size = BATCH_SIZE)"
   ]
  },
  {
   "cell_type": "code",
   "execution_count": 3,
   "metadata": {},
   "outputs": [
    {
     "name": "stdout",
     "output_type": "stream",
     "text": [
      "torch.Size([32, 3, 224, 224])\n",
      "torch.Size([32])\n",
      "tensor([0, 3, 6, 0, 5, 2, 3, 5, 0, 3, 5, 5, 6, 6, 0, 1, 6, 5, 0, 0, 2, 5, 0, 5,\n",
      "        6, 0, 5, 5, 0, 0, 0, 5])\n",
      "43\n",
      "6\n",
      "6\n"
     ]
    }
   ],
   "source": [
    "#Check dataloader\n",
    "for next_batch in train_loader:\n",
    "    print(next_batch[0].shape)\n",
    "    print(next_batch[1].shape)\n",
    "    print(next_batch[1])\n",
    "    break\n",
    "\n",
    "print(len(train_loader))\n",
    "print(len(val_loader))\n",
    "print(len(test_loader))\n"
   ]
  },
  {
   "cell_type": "code",
   "execution_count": 4,
   "metadata": {},
   "outputs": [
    {
     "name": "stderr",
     "output_type": "stream",
     "text": [
      "                                                         \r"
     ]
    },
    {
     "name": "stdout",
     "output_type": "stream",
     "text": [
      "Epoch 1/10\n",
      "Train Loss: 1.6519 | Train Acc: 0.3114\n",
      "Val   Loss: 1.6406 | Val   Acc: 0.3882\n"
     ]
    },
    {
     "name": "stderr",
     "output_type": "stream",
     "text": [
      "                                                         \r"
     ]
    },
    {
     "name": "stdout",
     "output_type": "stream",
     "text": [
      "Epoch 2/10\n",
      "Train Loss: 1.6283 | Train Acc: 0.3136\n",
      "Val   Loss: 1.6324 | Val   Acc: 0.3882\n"
     ]
    },
    {
     "name": "stderr",
     "output_type": "stream",
     "text": [
      "                                                         \r"
     ]
    },
    {
     "name": "stdout",
     "output_type": "stream",
     "text": [
      "Epoch 3/10\n",
      "Train Loss: 1.6166 | Train Acc: 0.3414\n",
      "Val   Loss: 1.6481 | Val   Acc: 0.3882\n"
     ]
    },
    {
     "name": "stderr",
     "output_type": "stream",
     "text": [
      "                                                         \r"
     ]
    },
    {
     "name": "stdout",
     "output_type": "stream",
     "text": [
      "Epoch 4/10\n",
      "Train Loss: 1.5818 | Train Acc: 0.3392\n",
      "Val   Loss: 1.5078 | Val   Acc: 0.4118\n"
     ]
    },
    {
     "name": "stderr",
     "output_type": "stream",
     "text": [
      "                                                         \r"
     ]
    },
    {
     "name": "stdout",
     "output_type": "stream",
     "text": [
      "Epoch 5/10\n",
      "Train Loss: 1.4885 | Train Acc: 0.4057\n",
      "Val   Loss: 1.4051 | Val   Acc: 0.4412\n"
     ]
    },
    {
     "name": "stderr",
     "output_type": "stream",
     "text": [
      "                                                         \r"
     ]
    },
    {
     "name": "stdout",
     "output_type": "stream",
     "text": [
      "Epoch 6/10\n",
      "Train Loss: 1.3880 | Train Acc: 0.4496\n",
      "Val   Loss: 1.3428 | Val   Acc: 0.4765\n"
     ]
    },
    {
     "name": "stderr",
     "output_type": "stream",
     "text": [
      "                                                         \r"
     ]
    },
    {
     "name": "stdout",
     "output_type": "stream",
     "text": [
      "Epoch 7/10\n",
      "Train Loss: 1.3337 | Train Acc: 0.4766\n",
      "Val   Loss: 1.3752 | Val   Acc: 0.4706\n"
     ]
    },
    {
     "name": "stderr",
     "output_type": "stream",
     "text": [
      "                                                         \r"
     ]
    },
    {
     "name": "stdout",
     "output_type": "stream",
     "text": [
      "Epoch 8/10\n",
      "Train Loss: 1.2447 | Train Acc: 0.5161\n",
      "Val   Loss: 1.3336 | Val   Acc: 0.4941\n"
     ]
    },
    {
     "name": "stderr",
     "output_type": "stream",
     "text": [
      "                                                         \r"
     ]
    },
    {
     "name": "stdout",
     "output_type": "stream",
     "text": [
      "Epoch 9/10\n",
      "Train Loss: 1.1928 | Train Acc: 0.5380\n",
      "Val   Loss: 1.3766 | Val   Acc: 0.4647\n"
     ]
    },
    {
     "name": "stderr",
     "output_type": "stream",
     "text": [
      "                                                         \r"
     ]
    },
    {
     "name": "stdout",
     "output_type": "stream",
     "text": [
      "Epoch 10/10\n",
      "Train Loss: 1.1354 | Train Acc: 0.5475\n",
      "Val   Loss: 1.3859 | Val   Acc: 0.4412\n"
     ]
    }
   ],
   "source": [
    "from cnn_models import CNNBaseline\n",
    "from cnn_training import train_model, save_model\n",
    "\n",
    "cnn_baseline_1 = CNNBaseline(IN_CHANNELS, NUM_HIDDEN_1, NUM_HIDDEN_2, NUM_HIDDEN_3, NUM_CLASSES).to(device)\n",
    "optimizer = optim.Adam(cnn_baseline_1.parameters(), lr=1e-4)\n",
    "model_name = \"nontransit_cnn_baseline_best_10\"\n",
    "\n",
    "train_config = {\n",
    "    \"model\": cnn_baseline_1,\n",
    "    \"train_loader\" : train_loader,\n",
    "    \"val_loader\" : val_loader,\n",
    "    \"optimizer\" : optimizer,\n",
    "    \"device\" : device,\n",
    "    \"num_epochs\" : 10,\n",
    "    \"scheduler\": None\n",
    "}\n",
    "\n",
    "#train and save model\n",
    "TRAIN_LOSSES, TRAIN_ACC, VAL_LOSSES, VAL_ACC, best_model_wts, best_val_loss = train_model(**train_config)\n",
    "save_model(TRAIN_LOSSES, TRAIN_ACC, VAL_LOSSES, VAL_ACC, best_val_loss, best_model_wts, model_name)\n"
   ]
  },
  {
   "cell_type": "code",
   "execution_count": 5,
   "metadata": {},
   "outputs": [
    {
     "name": "stderr",
     "output_type": "stream",
     "text": [
      "                                                         \r"
     ]
    },
    {
     "name": "stdout",
     "output_type": "stream",
     "text": [
      "Epoch 1/10\n",
      "Train Loss: 1.1960 | Train Acc: 0.5380\n",
      "Val   Loss: 1.3280 | Val   Acc: 0.5000\n"
     ]
    },
    {
     "name": "stderr",
     "output_type": "stream",
     "text": [
      "                                                         \r"
     ]
    },
    {
     "name": "stdout",
     "output_type": "stream",
     "text": [
      "Epoch 2/10\n",
      "Train Loss: 1.1490 | Train Acc: 0.5643\n",
      "Val   Loss: 1.3409 | Val   Acc: 0.4941\n"
     ]
    },
    {
     "name": "stderr",
     "output_type": "stream",
     "text": [
      "                                                         \r"
     ]
    },
    {
     "name": "stdout",
     "output_type": "stream",
     "text": [
      "Epoch 3/10\n",
      "Train Loss: 1.1040 | Train Acc: 0.5614\n",
      "Val   Loss: 1.3498 | Val   Acc: 0.4588\n"
     ]
    },
    {
     "name": "stderr",
     "output_type": "stream",
     "text": [
      "                                                         \r"
     ]
    },
    {
     "name": "stdout",
     "output_type": "stream",
     "text": [
      "Epoch 4/10\n",
      "Train Loss: 1.0387 | Train Acc: 0.6001\n",
      "Val   Loss: 1.3564 | Val   Acc: 0.4588\n"
     ]
    },
    {
     "name": "stderr",
     "output_type": "stream",
     "text": [
      "                                                         \r"
     ]
    },
    {
     "name": "stdout",
     "output_type": "stream",
     "text": [
      "Epoch 5/10\n",
      "Train Loss: 1.0001 | Train Acc: 0.6148\n",
      "Val   Loss: 1.3798 | Val   Acc: 0.4824\n"
     ]
    },
    {
     "name": "stderr",
     "output_type": "stream",
     "text": [
      "                                                         \r"
     ]
    },
    {
     "name": "stdout",
     "output_type": "stream",
     "text": [
      "Epoch 6/10\n",
      "Train Loss: 0.9397 | Train Acc: 0.6330\n",
      "Val   Loss: 1.4723 | Val   Acc: 0.4706\n"
     ]
    },
    {
     "name": "stderr",
     "output_type": "stream",
     "text": [
      "                                                         \r"
     ]
    },
    {
     "name": "stdout",
     "output_type": "stream",
     "text": [
      "Epoch 7/10\n",
      "Train Loss: 0.8614 | Train Acc: 0.6681\n",
      "Val   Loss: 1.5020 | Val   Acc: 0.4706\n"
     ]
    },
    {
     "name": "stderr",
     "output_type": "stream",
     "text": [
      "                                                         \r"
     ]
    },
    {
     "name": "stdout",
     "output_type": "stream",
     "text": [
      "Epoch 8/10\n",
      "Train Loss: 0.8042 | Train Acc: 0.7003\n",
      "Val   Loss: 1.5354 | Val   Acc: 0.4529\n"
     ]
    },
    {
     "name": "stderr",
     "output_type": "stream",
     "text": [
      "                                                         \r"
     ]
    },
    {
     "name": "stdout",
     "output_type": "stream",
     "text": [
      "Epoch 9/10\n",
      "Train Loss: 0.7627 | Train Acc: 0.7164\n",
      "Val   Loss: 1.5814 | Val   Acc: 0.4529\n"
     ]
    },
    {
     "name": "stderr",
     "output_type": "stream",
     "text": [
      "                                                         \r"
     ]
    },
    {
     "name": "stdout",
     "output_type": "stream",
     "text": [
      "Epoch 10/10\n",
      "Train Loss: 0.6715 | Train Acc: 0.7602\n",
      "Val   Loss: 1.7188 | Val   Acc: 0.4235\n"
     ]
    }
   ],
   "source": [
    "#Retrain for further epochs\n",
    "cnn_baseline_1 = CNNBaseline(IN_CHANNELS, NUM_HIDDEN_1, NUM_HIDDEN_2, NUM_HIDDEN_3, NUM_CLASSES).to(device)\n",
    "\n",
    "checkpoint_path = f\"models/{model_name}.pth\"\n",
    "cnn_baseline_1.load_state_dict(torch.load(checkpoint_path))\n",
    "optimizer = optim.Adam(cnn_baseline_1.parameters(), lr=1e-4)\n",
    "model_name = \"nontransit_cnn_baseline_best_20\"\n",
    "\n",
    "train_config_resume = {\n",
    "    \"model\": cnn_baseline_1,\n",
    "    \"train_loader\": train_loader,\n",
    "    \"val_loader\": val_loader,\n",
    "    \"optimizer\": optimizer,\n",
    "    \"device\": device,\n",
    "    \"num_epochs\": 10,\n",
    "    \"scheduler\": None\n",
    "}\n",
    "\n",
    "# 5. Resume training\n",
    "train_loss_2, train_acc_2, val_loss_2, val_acc_2, best_model_wts_2, best_val_loss_2 = train_model(**train_config_resume)\n",
    "save_model(TRAIN_LOSSES, TRAIN_ACC, VAL_LOSSES, VAL_ACC, best_val_loss, best_model_wts, model_name)\n"
   ]
  },
  {
   "cell_type": "markdown",
   "metadata": {},
   "source": [
    "### Resnet"
   ]
  },
  {
   "cell_type": "code",
   "execution_count": 7,
   "metadata": {},
   "outputs": [
    {
     "name": "stderr",
     "output_type": "stream",
     "text": [
      "                                                         \r"
     ]
    },
    {
     "name": "stdout",
     "output_type": "stream",
     "text": [
      "Epoch 1/10\n",
      "Train Loss: 1.6182 | Train Acc: 0.3516\n",
      "Val   Loss: 1.5330 | Val   Acc: 0.3941\n"
     ]
    },
    {
     "name": "stderr",
     "output_type": "stream",
     "text": [
      "                                                         \r"
     ]
    },
    {
     "name": "stdout",
     "output_type": "stream",
     "text": [
      "Epoch 2/10\n",
      "Train Loss: 1.4614 | Train Acc: 0.4496\n",
      "Val   Loss: 1.4333 | Val   Acc: 0.4412\n"
     ]
    },
    {
     "name": "stderr",
     "output_type": "stream",
     "text": [
      "                                                         \r"
     ]
    },
    {
     "name": "stdout",
     "output_type": "stream",
     "text": [
      "Epoch 3/10\n",
      "Train Loss: 1.3859 | Train Acc: 0.4817\n",
      "Val   Loss: 1.3801 | Val   Acc: 0.4471\n"
     ]
    },
    {
     "name": "stderr",
     "output_type": "stream",
     "text": [
      "                                                         \r"
     ]
    },
    {
     "name": "stdout",
     "output_type": "stream",
     "text": [
      "Epoch 4/10\n",
      "Train Loss: 1.3317 | Train Acc: 0.5080\n",
      "Val   Loss: 1.3430 | Val   Acc: 0.4765\n"
     ]
    },
    {
     "name": "stderr",
     "output_type": "stream",
     "text": [
      "                                                          \r"
     ]
    },
    {
     "name": "stdout",
     "output_type": "stream",
     "text": [
      "Epoch 5/10\n",
      "Train Loss: 1.2863 | Train Acc: 0.5278\n",
      "Val   Loss: 1.3487 | Val   Acc: 0.5059\n"
     ]
    },
    {
     "name": "stderr",
     "output_type": "stream",
     "text": [
      "                                                         \r"
     ]
    },
    {
     "name": "stdout",
     "output_type": "stream",
     "text": [
      "Epoch 6/10\n",
      "Train Loss: 1.2511 | Train Acc: 0.5270\n",
      "Val   Loss: 1.3289 | Val   Acc: 0.4882\n"
     ]
    },
    {
     "name": "stderr",
     "output_type": "stream",
     "text": [
      "                                                         \r"
     ]
    },
    {
     "name": "stdout",
     "output_type": "stream",
     "text": [
      "Epoch 7/10\n",
      "Train Loss: 1.2039 | Train Acc: 0.5541\n",
      "Val   Loss: 1.3115 | Val   Acc: 0.5235\n"
     ]
    },
    {
     "name": "stderr",
     "output_type": "stream",
     "text": [
      "                                                         \r"
     ]
    },
    {
     "name": "stdout",
     "output_type": "stream",
     "text": [
      "Epoch 8/10\n",
      "Train Loss: 1.1840 | Train Acc: 0.5651\n",
      "Val   Loss: 1.2972 | Val   Acc: 0.5294\n"
     ]
    },
    {
     "name": "stderr",
     "output_type": "stream",
     "text": [
      "                                                         \r"
     ]
    },
    {
     "name": "stdout",
     "output_type": "stream",
     "text": [
      "Epoch 9/10\n",
      "Train Loss: 1.1616 | Train Acc: 0.5877\n",
      "Val   Loss: 1.2856 | Val   Acc: 0.5235\n"
     ]
    },
    {
     "name": "stderr",
     "output_type": "stream",
     "text": [
      "                                                         \r"
     ]
    },
    {
     "name": "stdout",
     "output_type": "stream",
     "text": [
      "Epoch 10/10\n",
      "Train Loss: 1.1359 | Train Acc: 0.5892\n",
      "Val   Loss: 1.2887 | Val   Acc: 0.5235\n"
     ]
    }
   ],
   "source": [
    "from cnn_models import get_resnet50_classifier\n",
    "\n",
    "resnet50 = get_resnet50_classifier(NUM_CLASSES).to(device)\n",
    "optimizer = optim.Adam(resnet50.parameters(), lr=1e-3)\n",
    "model_name = \"nontransit_resnet50_best_10\"\n",
    "\n",
    "train_config = {\n",
    "    \"model\": resnet50,\n",
    "    \"train_loader\" : train_loader,\n",
    "    \"val_loader\" : val_loader,\n",
    "    \"optimizer\" : optimizer, \n",
    "    \"device\" : device,\n",
    "    \"num_epochs\" : 10,\n",
    "    \"scheduler\": None\n",
    "}\n",
    "\n",
    "#train loop\n",
    "TRAIN_LOSSES, TRAIN_ACC, VAL_LOSSES, VAL_ACC, best_model_wts, best_val_loss = train_model(**train_config)\n",
    "save_model(TRAIN_LOSSES, TRAIN_ACC, VAL_LOSSES, VAL_ACC, best_val_loss, best_model_wts, model_name)"
   ]
  },
  {
   "cell_type": "code",
   "execution_count": 8,
   "metadata": {},
   "outputs": [
    {
     "name": "stderr",
     "output_type": "stream",
     "text": [
      "                                                         \r"
     ]
    },
    {
     "name": "stdout",
     "output_type": "stream",
     "text": [
      "Epoch 1/10\n",
      "Train Loss: 1.1528 | Train Acc: 0.5753\n",
      "Val   Loss: 1.2993 | Val   Acc: 0.5118\n"
     ]
    },
    {
     "name": "stderr",
     "output_type": "stream",
     "text": [
      "                                                         \r"
     ]
    },
    {
     "name": "stdout",
     "output_type": "stream",
     "text": [
      "Epoch 2/10\n",
      "Train Loss: 1.1299 | Train Acc: 0.5848\n",
      "Val   Loss: 1.2809 | Val   Acc: 0.5176\n"
     ]
    },
    {
     "name": "stderr",
     "output_type": "stream",
     "text": [
      "                                                         \r"
     ]
    },
    {
     "name": "stdout",
     "output_type": "stream",
     "text": [
      "Epoch 3/10\n",
      "Train Loss: 1.1386 | Train Acc: 0.5914\n",
      "Val   Loss: 1.2714 | Val   Acc: 0.5529\n"
     ]
    },
    {
     "name": "stderr",
     "output_type": "stream",
     "text": [
      "                                                         \r"
     ]
    },
    {
     "name": "stdout",
     "output_type": "stream",
     "text": [
      "Epoch 4/10\n",
      "Train Loss: 1.1334 | Train Acc: 0.5753\n",
      "Val   Loss: 1.2895 | Val   Acc: 0.5176\n"
     ]
    },
    {
     "name": "stderr",
     "output_type": "stream",
     "text": [
      "                                                         \r"
     ]
    },
    {
     "name": "stdout",
     "output_type": "stream",
     "text": [
      "Epoch 5/10\n",
      "Train Loss: 1.1281 | Train Acc: 0.6031\n",
      "Val   Loss: 1.2775 | Val   Acc: 0.5294\n"
     ]
    },
    {
     "name": "stderr",
     "output_type": "stream",
     "text": [
      "                                                         \r"
     ]
    },
    {
     "name": "stdout",
     "output_type": "stream",
     "text": [
      "Epoch 6/10\n",
      "Train Loss: 1.1292 | Train Acc: 0.5841\n",
      "Val   Loss: 1.2932 | Val   Acc: 0.5176\n"
     ]
    },
    {
     "name": "stderr",
     "output_type": "stream",
     "text": [
      "                                                         \r"
     ]
    },
    {
     "name": "stdout",
     "output_type": "stream",
     "text": [
      "Epoch 7/10\n",
      "Train Loss: 1.1258 | Train Acc: 0.6001\n",
      "Val   Loss: 1.2634 | Val   Acc: 0.5412\n"
     ]
    },
    {
     "name": "stderr",
     "output_type": "stream",
     "text": [
      "                                                         \r"
     ]
    },
    {
     "name": "stdout",
     "output_type": "stream",
     "text": [
      "Epoch 8/10\n",
      "Train Loss: 1.1250 | Train Acc: 0.5892\n",
      "Val   Loss: 1.2695 | Val   Acc: 0.5235\n"
     ]
    },
    {
     "name": "stderr",
     "output_type": "stream",
     "text": [
      "                                                         \r"
     ]
    },
    {
     "name": "stdout",
     "output_type": "stream",
     "text": [
      "Epoch 9/10\n",
      "Train Loss: 1.1079 | Train Acc: 0.6001\n",
      "Val   Loss: 1.2731 | Val   Acc: 0.5235\n"
     ]
    },
    {
     "name": "stderr",
     "output_type": "stream",
     "text": [
      "                                                         \r"
     ]
    },
    {
     "name": "stdout",
     "output_type": "stream",
     "text": [
      "Epoch 10/10\n",
      "Train Loss: 1.1165 | Train Acc: 0.6016\n",
      "Val   Loss: 1.2771 | Val   Acc: 0.5353\n"
     ]
    }
   ],
   "source": [
    "resnet50 = get_resnet50_classifier(NUM_CLASSES).to(device)\n",
    "\n",
    "checkpoint_path = \"models/nontransit_resnet50_best_10.pth\"\n",
    "resnet50.load_state_dict(torch.load(checkpoint_path))\n",
    "optimizer = optim.Adam(resnet50.parameters(), lr=1e-4)\n",
    "\n",
    "train_config_resume = {\n",
    "    \"model\": resnet50,\n",
    "    \"train_loader\": train_loader,\n",
    "    \"val_loader\": val_loader,\n",
    "    \"optimizer\": optimizer,\n",
    "    \"device\": device,\n",
    "    \"num_epochs\": 10,\n",
    "    \"scheduler\": None\n",
    "}\n",
    "\n",
    "model_name = \"nontransit_resnet50_best_20\"\n",
    "train_loss_2, train_acc_2, val_loss_2, val_acc_2, best_model_wts_2, best_val_loss_2 = train_model(**train_config_resume)\n",
    "save_model(TRAIN_LOSSES, TRAIN_ACC, VAL_LOSSES, VAL_ACC, best_val_loss, best_model_wts, model_name)"
   ]
  },
  {
   "cell_type": "code",
   "execution_count": null,
   "metadata": {},
   "outputs": [],
   "source": []
  }
 ],
 "metadata": {
  "kernelspec": {
   "display_name": "base",
   "language": "python",
   "name": "python3"
  },
  "language_info": {
   "codemirror_mode": {
    "name": "ipython",
    "version": 3
   },
   "file_extension": ".py",
   "mimetype": "text/x-python",
   "name": "python",
   "nbconvert_exporter": "python",
   "pygments_lexer": "ipython3",
   "version": "3.11.4"
  }
 },
 "nbformat": 4,
 "nbformat_minor": 2
}
