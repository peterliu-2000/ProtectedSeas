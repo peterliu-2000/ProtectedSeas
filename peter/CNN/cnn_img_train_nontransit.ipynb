{
 "cells": [
  {
   "cell_type": "code",
   "execution_count": 1,
   "metadata": {},
   "outputs": [
    {
     "name": "stdout",
     "output_type": "stream",
     "text": [
      "Using device: mps\n"
     ]
    }
   ],
   "source": [
    "import pandas as pd\n",
    "import numpy as np\n",
    "import warnings\n",
    "import sys, os\n",
    "import torch\n",
    "import torch.nn as nn\n",
    "import torch.optim as optim\n",
    "from tqdm import tqdm\n",
    "\n",
    "sys.path.append(os.path.abspath('..'))\n",
    "from core.DICT import TYPE2NUM\n",
    "\n",
    "label_path = '../../data/labels/full_non_transit_radar_labels.csv'\n",
    "image_path = 'nontransit_track_images/'\n",
    "\n",
    "device = torch.device(\"mps\" if torch.backends.mps.is_available() else \"cpu\")\n",
    "print(\"Using device:\", device)\n",
    "\n",
    "import warnings\n",
    "warnings.filterwarnings(\"ignore\", message=\"Failed to load image Python extension\")"
   ]
  },
  {
   "cell_type": "markdown",
   "metadata": {},
   "source": [
    "#### CNNBaseline"
   ]
  },
  {
   "cell_type": "code",
   "execution_count": 2,
   "metadata": {},
   "outputs": [],
   "source": [
    "BATCH_SIZE = 32\n",
    "NUM_HIDDEN_1 = 32\n",
    "NUM_HIDDEN_2 = 64\n",
    "NUM_HIDDEN_3 = 128\n",
    "IN_CHANNELS = 3\n",
    "\n",
    "NUM_CLASSES = len(TYPE2NUM)\n",
    "\n",
    "from dataloader_imgs import get_type_datasets\n",
    "train_loader, val_loader, test_loader = get_type_datasets(label_path, image_path, batch_size = BATCH_SIZE)"
   ]
  },
  {
   "cell_type": "code",
   "execution_count": 3,
   "metadata": {},
   "outputs": [
    {
     "name": "stdout",
     "output_type": "stream",
     "text": [
      "torch.Size([32, 3, 224, 224])\n",
      "torch.Size([32])\n",
      "tensor([5, 3, 6, 0, 5, 0, 6, 2, 5, 6, 5, 6, 0, 0, 6, 5, 6, 2, 6, 5, 0, 2, 0, 5,\n",
      "        6, 6, 0, 6, 6, 5, 3, 5])\n",
      "43\n",
      "6\n",
      "6\n"
     ]
    }
   ],
   "source": [
    "#Check dataloader\n",
    "for next_batch in train_loader:\n",
    "    print(next_batch[0].shape)\n",
    "    print(next_batch[1].shape)\n",
    "    print(next_batch[1])\n",
    "    break\n",
    "\n",
    "print(len(train_loader))\n",
    "print(len(val_loader))\n",
    "print(len(test_loader))\n"
   ]
  },
  {
   "cell_type": "code",
   "execution_count": 4,
   "metadata": {},
   "outputs": [
    {
     "name": "stderr",
     "output_type": "stream",
     "text": [
      "                                                         \r"
     ]
    },
    {
     "name": "stdout",
     "output_type": "stream",
     "text": [
      "Epoch 1/10\n",
      "Train Loss: 1.6390 | Train Acc: 0.3209\n",
      "Val   Loss: 1.6139 | Val   Acc: 0.3882\n"
     ]
    },
    {
     "name": "stderr",
     "output_type": "stream",
     "text": [
      "                                                         \r"
     ]
    },
    {
     "name": "stdout",
     "output_type": "stream",
     "text": [
      "Epoch 2/10\n",
      "Train Loss: 1.6247 | Train Acc: 0.3385\n",
      "Val   Loss: 1.6352 | Val   Acc: 0.3882\n"
     ]
    },
    {
     "name": "stderr",
     "output_type": "stream",
     "text": [
      "                                                         \r"
     ]
    },
    {
     "name": "stdout",
     "output_type": "stream",
     "text": [
      "Epoch 3/10\n",
      "Train Loss: 1.6153 | Train Acc: 0.3297\n",
      "Val   Loss: 1.6367 | Val   Acc: 0.3882\n"
     ]
    },
    {
     "name": "stderr",
     "output_type": "stream",
     "text": [
      "                                                         \r"
     ]
    },
    {
     "name": "stdout",
     "output_type": "stream",
     "text": [
      "Epoch 4/10\n",
      "Train Loss: 1.5870 | Train Acc: 0.3399\n",
      "Val   Loss: 1.5833 | Val   Acc: 0.3941\n"
     ]
    },
    {
     "name": "stderr",
     "output_type": "stream",
     "text": [
      "                                                         \r"
     ]
    },
    {
     "name": "stdout",
     "output_type": "stream",
     "text": [
      "Epoch 5/10\n",
      "Train Loss: 1.4991 | Train Acc: 0.3955\n",
      "Val   Loss: 1.4327 | Val   Acc: 0.4588\n"
     ]
    },
    {
     "name": "stderr",
     "output_type": "stream",
     "text": [
      "                                                         \r"
     ]
    },
    {
     "name": "stdout",
     "output_type": "stream",
     "text": [
      "Epoch 6/10\n",
      "Train Loss: 1.3955 | Train Acc: 0.4496\n",
      "Val   Loss: 1.3365 | Val   Acc: 0.4765\n"
     ]
    },
    {
     "name": "stderr",
     "output_type": "stream",
     "text": [
      "                                                         \r"
     ]
    },
    {
     "ename": "KeyboardInterrupt",
     "evalue": "",
     "output_type": "error",
     "traceback": [
      "\u001b[0;31m---------------------------------------------------------------------------\u001b[0m",
      "\u001b[0;31mKeyboardInterrupt\u001b[0m                         Traceback (most recent call last)",
      "Cell \u001b[0;32mIn[4], line 19\u001b[0m\n\u001b[1;32m      8\u001b[0m train_config \u001b[38;5;241m=\u001b[39m {\n\u001b[1;32m      9\u001b[0m     \u001b[38;5;124m\"\u001b[39m\u001b[38;5;124mmodel\u001b[39m\u001b[38;5;124m\"\u001b[39m: cnn_baseline_1,\n\u001b[1;32m     10\u001b[0m     \u001b[38;5;124m\"\u001b[39m\u001b[38;5;124mtrain_loader\u001b[39m\u001b[38;5;124m\"\u001b[39m : train_loader,\n\u001b[0;32m   (...)\u001b[0m\n\u001b[1;32m     15\u001b[0m     \u001b[38;5;124m\"\u001b[39m\u001b[38;5;124mscheduler\u001b[39m\u001b[38;5;124m\"\u001b[39m: \u001b[38;5;28;01mNone\u001b[39;00m\n\u001b[1;32m     16\u001b[0m }\n\u001b[1;32m     18\u001b[0m \u001b[38;5;66;03m#train and save model\u001b[39;00m\n\u001b[0;32m---> 19\u001b[0m TRAIN_LOSSES, TRAIN_ACC, VAL_LOSSES, VAL_ACC, best_model_wts, best_val_loss \u001b[38;5;241m=\u001b[39m \u001b[43mtrain_model\u001b[49m\u001b[43m(\u001b[49m\u001b[38;5;241;43m*\u001b[39;49m\u001b[38;5;241;43m*\u001b[39;49m\u001b[43mtrain_config\u001b[49m\u001b[43m)\u001b[49m\n\u001b[1;32m     20\u001b[0m save_model(TRAIN_LOSSES, TRAIN_ACC, VAL_LOSSES, VAL_ACC, best_val_loss, best_model_wts, model_name)\n",
      "File \u001b[0;32m~/Desktop/Protected Seas/peter/CNN/engine.py:64\u001b[0m, in \u001b[0;36mtrain_model\u001b[0;34m(model, train_loader, val_loader, optimizer, device, num_epochs, scheduler)\u001b[0m\n\u001b[1;32m     61\u001b[0m loss\u001b[38;5;241m.\u001b[39mbackward()\n\u001b[1;32m     62\u001b[0m optimizer\u001b[38;5;241m.\u001b[39mstep()    \n\u001b[0;32m---> 64\u001b[0m running_loss \u001b[38;5;241m+\u001b[39m\u001b[38;5;241m=\u001b[39m \u001b[43mloss\u001b[49m\u001b[38;5;241;43m.\u001b[39;49m\u001b[43mitem\u001b[49m\u001b[43m(\u001b[49m\u001b[43m)\u001b[49m \u001b[38;5;241m*\u001b[39m inputs\u001b[38;5;241m.\u001b[39msize(\u001b[38;5;241m0\u001b[39m)\n\u001b[1;32m     65\u001b[0m _, predicted \u001b[38;5;241m=\u001b[39m outputs\u001b[38;5;241m.\u001b[39mmax(\u001b[38;5;241m1\u001b[39m)\n\u001b[1;32m     66\u001b[0m correct \u001b[38;5;241m+\u001b[39m\u001b[38;5;241m=\u001b[39m (predicted \u001b[38;5;241m==\u001b[39m targets)\u001b[38;5;241m.\u001b[39msum()\u001b[38;5;241m.\u001b[39mitem()\n",
      "\u001b[0;31mKeyboardInterrupt\u001b[0m: "
     ]
    }
   ],
   "source": [
    "from models import CNNBaseline\n",
    "from engine import train_model, save_model\n",
    "\n",
    "cnn_baseline_1 = CNNBaseline(IN_CHANNELS, NUM_HIDDEN_1, NUM_HIDDEN_2, NUM_HIDDEN_3, NUM_CLASSES).to(device)\n",
    "optimizer = optim.Adam(cnn_baseline_1.parameters(), lr=1e-4)\n",
    "model_name = \"nontransit_cnn_baseline_best_10\"\n",
    "\n",
    "train_config = {\n",
    "    \"model\": cnn_baseline_1,\n",
    "    \"train_loader\" : train_loader,\n",
    "    \"val_loader\" : val_loader,\n",
    "    \"optimizer\" : optimizer,\n",
    "    \"device\" : device,\n",
    "    \"num_epochs\" : 10,\n",
    "    \"scheduler\": None\n",
    "}\n",
    "\n",
    "#train and save model\n",
    "TRAIN_LOSSES, TRAIN_ACC, VAL_LOSSES, VAL_ACC, best_model_wts, best_val_loss = train_model(**train_config)\n",
    "save_model(TRAIN_LOSSES, TRAIN_ACC, VAL_LOSSES, VAL_ACC, best_val_loss, best_model_wts, model_name)\n"
   ]
  },
  {
   "cell_type": "code",
   "execution_count": 5,
   "metadata": {},
   "outputs": [
    {
     "name": "stderr",
     "output_type": "stream",
     "text": [
      "                                                         \r"
     ]
    },
    {
     "name": "stdout",
     "output_type": "stream",
     "text": [
      "Epoch 1/10\n",
      "Train Loss: 1.2608 | Train Acc: 0.5124\n",
      "Val   Loss: 1.3581 | Val   Acc: 0.4412\n"
     ]
    },
    {
     "name": "stderr",
     "output_type": "stream",
     "text": [
      "                                                         \r"
     ]
    },
    {
     "name": "stdout",
     "output_type": "stream",
     "text": [
      "Epoch 2/10\n",
      "Train Loss: 1.1791 | Train Acc: 0.5424\n",
      "Val   Loss: 1.3505 | Val   Acc: 0.4882\n"
     ]
    },
    {
     "name": "stderr",
     "output_type": "stream",
     "text": [
      "                                                         \r"
     ]
    },
    {
     "name": "stdout",
     "output_type": "stream",
     "text": [
      "Epoch 3/10\n",
      "Train Loss: 1.1375 | Train Acc: 0.5621\n",
      "Val   Loss: 1.3659 | Val   Acc: 0.4588\n"
     ]
    },
    {
     "name": "stderr",
     "output_type": "stream",
     "text": [
      "                                                         \r"
     ]
    },
    {
     "name": "stdout",
     "output_type": "stream",
     "text": [
      "Epoch 4/10\n",
      "Train Loss: 1.0781 | Train Acc: 0.5811\n",
      "Val   Loss: 1.4219 | Val   Acc: 0.4235\n"
     ]
    },
    {
     "name": "stderr",
     "output_type": "stream",
     "text": [
      "                                                         \r"
     ]
    },
    {
     "name": "stdout",
     "output_type": "stream",
     "text": [
      "Epoch 5/10\n",
      "Train Loss: 1.0376 | Train Acc: 0.6060\n",
      "Val   Loss: 1.4253 | Val   Acc: 0.4412\n"
     ]
    },
    {
     "name": "stderr",
     "output_type": "stream",
     "text": [
      "                                                         \r"
     ]
    },
    {
     "name": "stdout",
     "output_type": "stream",
     "text": [
      "Epoch 6/10\n",
      "Train Loss: 0.9729 | Train Acc: 0.6221\n",
      "Val   Loss: 1.4652 | Val   Acc: 0.4412\n"
     ]
    },
    {
     "name": "stderr",
     "output_type": "stream",
     "text": [
      "                                                         \r"
     ]
    },
    {
     "name": "stdout",
     "output_type": "stream",
     "text": [
      "Epoch 7/10\n",
      "Train Loss: 0.8995 | Train Acc: 0.6623\n",
      "Val   Loss: 1.4705 | Val   Acc: 0.4647\n"
     ]
    },
    {
     "name": "stderr",
     "output_type": "stream",
     "text": [
      "                                                         \r"
     ]
    },
    {
     "name": "stdout",
     "output_type": "stream",
     "text": [
      "Epoch 8/10\n",
      "Train Loss: 0.8575 | Train Acc: 0.6835\n",
      "Val   Loss: 1.5046 | Val   Acc: 0.4471\n"
     ]
    },
    {
     "name": "stderr",
     "output_type": "stream",
     "text": [
      "                                                         \r"
     ]
    },
    {
     "name": "stdout",
     "output_type": "stream",
     "text": [
      "Epoch 9/10\n",
      "Train Loss: 0.7905 | Train Acc: 0.7032\n",
      "Val   Loss: 1.5718 | Val   Acc: 0.4765\n"
     ]
    },
    {
     "name": "stderr",
     "output_type": "stream",
     "text": [
      "                                                         \r"
     ]
    },
    {
     "name": "stdout",
     "output_type": "stream",
     "text": [
      "Epoch 10/10\n",
      "Train Loss: 0.6831 | Train Acc: 0.7624\n",
      "Val   Loss: 1.7150 | Val   Acc: 0.4647\n"
     ]
    }
   ],
   "source": [
    "#Retrain for further epochs\n",
    "cnn_baseline_1 = CNNBaseline(IN_CHANNELS, NUM_HIDDEN_1, NUM_HIDDEN_2, NUM_HIDDEN_3, NUM_CLASSES).to(device)\n",
    "\n",
    "checkpoint_path = f\"models/{model_name}.pth\"\n",
    "cnn_baseline_1.load_state_dict(torch.load(checkpoint_path))\n",
    "optimizer = optim.Adam(cnn_baseline_1.parameters(), lr=1e-4)\n",
    "model_name = \"nontransit_cnn_baseline_best_20\"\n",
    "\n",
    "train_config_resume = {\n",
    "    \"model\": cnn_baseline_1,\n",
    "    \"train_loader\": train_loader,\n",
    "    \"val_loader\": val_loader,\n",
    "    \"optimizer\": optimizer,\n",
    "    \"device\": device,\n",
    "    \"num_epochs\": 10,\n",
    "    \"scheduler\": None\n",
    "}\n",
    "\n",
    "# 5. Resume training\n",
    "train_loss_2, train_acc_2, val_loss_2, val_acc_2, best_model_wts_2, best_val_loss_2 = train_model(**train_config_resume)\n",
    "save_model(TRAIN_LOSSES, TRAIN_ACC, VAL_LOSSES, VAL_ACC, best_val_loss, best_model_wts, model_name)\n"
   ]
  },
  {
   "cell_type": "markdown",
   "metadata": {},
   "source": [
    "### Resnet"
   ]
  },
  {
   "cell_type": "code",
   "execution_count": 6,
   "metadata": {},
   "outputs": [
    {
     "name": "stderr",
     "output_type": "stream",
     "text": [
      "                                                         \r"
     ]
    },
    {
     "name": "stdout",
     "output_type": "stream",
     "text": [
      "Epoch 1/10\n",
      "Train Loss: 1.6453 | Train Acc: 0.3238\n",
      "Val   Loss: 1.5417 | Val   Acc: 0.3941\n"
     ]
    },
    {
     "name": "stderr",
     "output_type": "stream",
     "text": [
      "                                                         \r"
     ]
    },
    {
     "name": "stdout",
     "output_type": "stream",
     "text": [
      "Epoch 2/10\n",
      "Train Loss: 1.4651 | Train Acc: 0.4401\n",
      "Val   Loss: 1.4376 | Val   Acc: 0.4588\n"
     ]
    },
    {
     "name": "stderr",
     "output_type": "stream",
     "text": [
      "                                                         \r"
     ]
    },
    {
     "name": "stdout",
     "output_type": "stream",
     "text": [
      "Epoch 3/10\n",
      "Train Loss: 1.3920 | Train Acc: 0.4773\n",
      "Val   Loss: 1.3934 | Val   Acc: 0.4412\n"
     ]
    },
    {
     "name": "stderr",
     "output_type": "stream",
     "text": [
      "                                                         \r"
     ]
    },
    {
     "name": "stdout",
     "output_type": "stream",
     "text": [
      "Epoch 4/10\n",
      "Train Loss: 1.3304 | Train Acc: 0.5102\n",
      "Val   Loss: 1.3582 | Val   Acc: 0.4588\n"
     ]
    },
    {
     "name": "stderr",
     "output_type": "stream",
     "text": [
      "                                                         \r"
     ]
    },
    {
     "name": "stdout",
     "output_type": "stream",
     "text": [
      "Epoch 5/10\n",
      "Train Loss: 1.2825 | Train Acc: 0.5314\n",
      "Val   Loss: 1.3382 | Val   Acc: 0.4647\n"
     ]
    },
    {
     "name": "stderr",
     "output_type": "stream",
     "text": [
      "                                                         \r"
     ]
    },
    {
     "name": "stdout",
     "output_type": "stream",
     "text": [
      "Epoch 6/10\n",
      "Train Loss: 1.2395 | Train Acc: 0.5461\n",
      "Val   Loss: 1.3282 | Val   Acc: 0.4882\n"
     ]
    },
    {
     "name": "stderr",
     "output_type": "stream",
     "text": [
      "                                                         \r"
     ]
    },
    {
     "name": "stdout",
     "output_type": "stream",
     "text": [
      "Epoch 7/10\n",
      "Train Loss: 1.2262 | Train Acc: 0.5497\n",
      "Val   Loss: 1.2994 | Val   Acc: 0.5059\n"
     ]
    },
    {
     "name": "stderr",
     "output_type": "stream",
     "text": [
      "                                                         \r"
     ]
    },
    {
     "name": "stdout",
     "output_type": "stream",
     "text": [
      "Epoch 8/10\n",
      "Train Loss: 1.1775 | Train Acc: 0.5753\n",
      "Val   Loss: 1.2962 | Val   Acc: 0.5118\n"
     ]
    },
    {
     "name": "stderr",
     "output_type": "stream",
     "text": [
      "                                                         \r"
     ]
    },
    {
     "name": "stdout",
     "output_type": "stream",
     "text": [
      "Epoch 9/10\n",
      "Train Loss: 1.1693 | Train Acc: 0.5702\n",
      "Val   Loss: 1.2935 | Val   Acc: 0.5176\n"
     ]
    },
    {
     "name": "stderr",
     "output_type": "stream",
     "text": [
      "                                                         \r"
     ]
    },
    {
     "name": "stdout",
     "output_type": "stream",
     "text": [
      "Epoch 10/10\n",
      "Train Loss: 1.1438 | Train Acc: 0.5768\n",
      "Val   Loss: 1.2776 | Val   Acc: 0.5412\n"
     ]
    }
   ],
   "source": [
    "from cnn_models import get_resnet50_classifier\n",
    "\n",
    "resnet50 = get_resnet50_classifier(NUM_CLASSES).to(device)\n",
    "optimizer = optim.Adam(resnet50.parameters(), lr=1e-3)\n",
    "model_name = \"nontransit_resnet50_best_10\"\n",
    "\n",
    "train_config = {\n",
    "    \"model\": resnet50,\n",
    "    \"train_loader\" : train_loader,\n",
    "    \"val_loader\" : val_loader,\n",
    "    \"optimizer\" : optimizer, \n",
    "    \"device\" : device,\n",
    "    \"num_epochs\" : 10,\n",
    "    \"scheduler\": None\n",
    "}\n",
    "\n",
    "#train loop\n",
    "TRAIN_LOSSES, TRAIN_ACC, VAL_LOSSES, VAL_ACC, best_model_wts, best_val_loss = train_model(**train_config)\n",
    "save_model(TRAIN_LOSSES, TRAIN_ACC, VAL_LOSSES, VAL_ACC, best_val_loss, best_model_wts, model_name)"
   ]
  },
  {
   "cell_type": "code",
   "execution_count": 7,
   "metadata": {},
   "outputs": [
    {
     "name": "stderr",
     "output_type": "stream",
     "text": [
      "                                                         \r"
     ]
    },
    {
     "name": "stdout",
     "output_type": "stream",
     "text": [
      "Epoch 1/10\n",
      "Train Loss: 1.1126 | Train Acc: 0.5965\n",
      "Val   Loss: 1.2686 | Val   Acc: 0.5294\n"
     ]
    },
    {
     "name": "stderr",
     "output_type": "stream",
     "text": [
      "                                                         \r"
     ]
    },
    {
     "name": "stdout",
     "output_type": "stream",
     "text": [
      "Epoch 2/10\n",
      "Train Loss: 1.1181 | Train Acc: 0.5892\n",
      "Val   Loss: 1.2692 | Val   Acc: 0.5059\n"
     ]
    },
    {
     "name": "stderr",
     "output_type": "stream",
     "text": [
      "                                                         \r"
     ]
    },
    {
     "name": "stdout",
     "output_type": "stream",
     "text": [
      "Epoch 3/10\n",
      "Train Loss: 1.1027 | Train Acc: 0.6023\n",
      "Val   Loss: 1.2692 | Val   Acc: 0.5059\n"
     ]
    },
    {
     "name": "stderr",
     "output_type": "stream",
     "text": [
      "                                                         \r"
     ]
    },
    {
     "name": "stdout",
     "output_type": "stream",
     "text": [
      "Epoch 4/10\n",
      "Train Loss: 1.1046 | Train Acc: 0.5980\n",
      "Val   Loss: 1.2721 | Val   Acc: 0.5176\n"
     ]
    },
    {
     "name": "stderr",
     "output_type": "stream",
     "text": [
      "                                                         \r"
     ]
    },
    {
     "name": "stdout",
     "output_type": "stream",
     "text": [
      "Epoch 5/10\n",
      "Train Loss: 1.1076 | Train Acc: 0.6001\n",
      "Val   Loss: 1.2786 | Val   Acc: 0.5118\n"
     ]
    },
    {
     "name": "stderr",
     "output_type": "stream",
     "text": [
      "                                                         \r"
     ]
    },
    {
     "name": "stdout",
     "output_type": "stream",
     "text": [
      "Epoch 6/10\n",
      "Train Loss: 1.0981 | Train Acc: 0.6001\n",
      "Val   Loss: 1.2624 | Val   Acc: 0.5176\n"
     ]
    },
    {
     "name": "stderr",
     "output_type": "stream",
     "text": [
      "                                                         \r"
     ]
    },
    {
     "name": "stdout",
     "output_type": "stream",
     "text": [
      "Epoch 7/10\n",
      "Train Loss: 1.0972 | Train Acc: 0.6075\n",
      "Val   Loss: 1.2679 | Val   Acc: 0.5059\n"
     ]
    },
    {
     "name": "stderr",
     "output_type": "stream",
     "text": [
      "                                                         \r"
     ]
    },
    {
     "name": "stdout",
     "output_type": "stream",
     "text": [
      "Epoch 8/10\n",
      "Train Loss: 1.1042 | Train Acc: 0.6075\n",
      "Val   Loss: 1.2643 | Val   Acc: 0.5118\n"
     ]
    },
    {
     "name": "stderr",
     "output_type": "stream",
     "text": [
      "                                                         \r"
     ]
    },
    {
     "name": "stdout",
     "output_type": "stream",
     "text": [
      "Epoch 9/10\n",
      "Train Loss: 1.1143 | Train Acc: 0.5811\n",
      "Val   Loss: 1.2614 | Val   Acc: 0.4941\n"
     ]
    },
    {
     "name": "stderr",
     "output_type": "stream",
     "text": [
      "                                                         \r"
     ]
    },
    {
     "name": "stdout",
     "output_type": "stream",
     "text": [
      "Epoch 10/10\n",
      "Train Loss: 1.0932 | Train Acc: 0.6126\n",
      "Val   Loss: 1.2626 | Val   Acc: 0.5176\n"
     ]
    }
   ],
   "source": [
    "resnet50 = get_resnet50_classifier(NUM_CLASSES).to(device)\n",
    "\n",
    "checkpoint_path = \"models/nontransit_resnet50_best_10.pth\"\n",
    "resnet50.load_state_dict(torch.load(checkpoint_path))\n",
    "optimizer = optim.Adam(resnet50.parameters(), lr=1e-4)\n",
    "\n",
    "train_config_resume = {\n",
    "    \"model\": resnet50,\n",
    "    \"train_loader\": train_loader,\n",
    "    \"val_loader\": val_loader,\n",
    "    \"optimizer\": optimizer,\n",
    "    \"device\": device,\n",
    "    \"num_epochs\": 10,\n",
    "    \"scheduler\": None\n",
    "}\n",
    "\n",
    "model_name = \"nontransit_resnet50_best_20\"\n",
    "train_loss_2, train_acc_2, val_loss_2, val_acc_2, best_model_wts_2, best_val_loss_2 = train_model(**train_config_resume)\n",
    "save_model(TRAIN_LOSSES, TRAIN_ACC, VAL_LOSSES, VAL_ACC, best_val_loss, best_model_wts, model_name)"
   ]
  },
  {
   "cell_type": "code",
   "execution_count": null,
   "metadata": {},
   "outputs": [],
   "source": []
  },
  {
   "cell_type": "code",
   "execution_count": null,
   "metadata": {},
   "outputs": [],
   "source": []
  },
  {
   "cell_type": "code",
   "execution_count": null,
   "metadata": {},
   "outputs": [],
   "source": []
  }
 ],
 "metadata": {
  "kernelspec": {
   "display_name": "base",
   "language": "python",
   "name": "python3"
  },
  "language_info": {
   "codemirror_mode": {
    "name": "ipython",
    "version": 3
   },
   "file_extension": ".py",
   "mimetype": "text/x-python",
   "name": "python",
   "nbconvert_exporter": "python",
   "pygments_lexer": "ipython3",
   "version": "3.11.4"
  }
 },
 "nbformat": 4,
 "nbformat_minor": 2
}
