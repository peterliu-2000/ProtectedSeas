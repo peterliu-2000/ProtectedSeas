{
 "cells": [
  {
   "cell_type": "code",
   "execution_count": 1,
   "metadata": {},
   "outputs": [
    {
     "name": "stderr",
     "output_type": "stream",
     "text": [
      "/Users/liuzehan/miniconda3/lib/python3.11/site-packages/torch/utils/_pytree.py:185: FutureWarning: optree is installed but the version is too old to support PyTorch Dynamo in C++ pytree. C++ pytree support is disabled. Please consider upgrading optree using `python3 -m pip install --upgrade 'optree>=0.13.0'`.\n",
      "  warnings.warn(\n"
     ]
    }
   ],
   "source": [
    "import pandas as pd\n",
    "import numpy as np\n",
    "import torch\n",
    "import warnings\n",
    "\n",
    "# Define file paths\n",
    "ais_tracks_path = '../../data/tracks_ais.csv'\n",
    "radar_detections_path = '../../data/detections_radar.csv'\n",
    "\n",
    "ais_tracks = pd.read_csv(ais_tracks_path)\n",
    "radar_detections = pd.read_csv(radar_detections_path)"
   ]
  },
  {
   "cell_type": "code",
   "execution_count": 2,
   "metadata": {},
   "outputs": [
    {
     "name": "stdout",
     "output_type": "stream",
     "text": [
      "Using device: mps\n"
     ]
    }
   ],
   "source": [
    "BATCH_SIZE = 32\n",
    "MAX_LENGTH = 256\n",
    "HIDDEN_DIM = 64\n",
    "NUM_LAYERS_GRU = 1\n",
    "\n",
    "\n",
    "device = torch.device(\"mps\" if torch.backends.mps.is_available() else \"cpu\")\n",
    "print(\"Using device:\", device)"
   ]
  },
  {
   "cell_type": "markdown",
   "metadata": {},
   "source": [
    "## Preprocess"
   ]
  },
  {
   "cell_type": "code",
   "execution_count": 10,
   "metadata": {},
   "outputs": [
    {
     "name": "stderr",
     "output_type": "stream",
     "text": [
      "/var/folders/jm/bv3tgs257hx9tx764_p9xq0w0000gn/T/ipykernel_19509/1060896074.py:37: DeprecationWarning: DataFrameGroupBy.apply operated on the grouping columns. This behavior is deprecated, and in a future version of pandas the grouping columns will be excluded from the operation. Either pass `include_groups=False` to exclude the groupings or explicitly select the grouping columns after groupby to silence this warning.\n",
      "  merged_tracks = merged_tracks.groupby('id_track').apply(preprocess_group).reset_index(drop=True)\n",
      "/var/folders/jm/bv3tgs257hx9tx764_p9xq0w0000gn/T/ipykernel_19509/1060896074.py:41: DeprecationWarning: DataFrameGroupBy.apply operated on the grouping columns. This behavior is deprecated, and in a future version of pandas the grouping columns will be excluded from the operation. Either pass `include_groups=False` to exclude the groupings or explicitly select the grouping columns after groupby to silence this warning.\n",
      "  sum_stats_df = merged_tracks.groupby('id_track').apply(SumStats.compute_track_stats).reset_index()\n"
     ]
    },
    {
     "name": "stdout",
     "output_type": "stream",
     "text": [
      "Prepared 14366 track tensors (raw features) on mps\n"
     ]
    }
   ],
   "source": [
    "from utilities import VesselTypeAggregator, haversine_distance, SumStats\n",
    "\n",
    "# Preprocessing: add `datetime`, `time_elapsed`\n",
    "def preprocess_group(group):\n",
    "    with warnings.catch_warnings():\n",
    "        warnings.simplefilter(\"ignore\", UserWarning)\n",
    "        group['datetime'] = pd.to_datetime(group['cdate'] + ' ' + group['ctime'])\n",
    "        group = group.sort_values('datetime')  # Ensure chronological order\n",
    "        group['time_diff'] = group['datetime'].diff().dt.total_seconds().fillna(0)\n",
    "        group['time_elapsed'] = group['time_diff'].cumsum()\n",
    "\n",
    "        start_latitude = group['latitude'].iloc[0]\n",
    "        start_longitude = group['longitude'].iloc[0]\n",
    "        group['distance_from_origin'] = haversine_distance(group['latitude'], group['longitude'], start_latitude, start_longitude)\n",
    "        group['latitude_prev'] = group['latitude'].shift(1)\n",
    "        group['longitude_prev'] = group['longitude'].shift(1)\n",
    "        group['distance_travelled'] = haversine_distance(group['latitude_prev'], group['longitude_prev'], group['latitude'], group['longitude'])\n",
    "        group['distance_travelled'] = group['distance_travelled'].fillna(0)\n",
    "        group['instant_speed'] = group['distance_travelled'] / group['time_diff'] * 1943 # to knots\n",
    "\n",
    "        group['disrupted'] = False\n",
    "        if group['instant_speed'].max() >= 150:\n",
    "            group['disrupted'] = True\n",
    "    return group\n",
    "\n",
    "# Get Labels from AIS\n",
    "merged_tracks = pd.merge(\n",
    "    ais_tracks[['assoc_id', 'type_m2']],\n",
    "    radar_detections,\n",
    "    left_on='assoc_id',\n",
    "    right_on='id_track',\n",
    "    how='inner'\n",
    ")\n",
    "\n",
    "#Preprocess\n",
    "#Removes disrupted tracks (~8% removed)\n",
    "merged_tracks = merged_tracks.groupby('id_track').apply(preprocess_group).reset_index(drop=True)\n",
    "merged_tracks = merged_tracks[merged_tracks['disrupted'] == False]\n",
    "\n",
    "#summary vector calculation\n",
    "sum_stats_df = merged_tracks.groupby('id_track').apply(SumStats.compute_track_stats).reset_index()\n",
    "summary_cols = ['avg_speed', 'max_speed', 'min_speed', 'total_distance', 'curviness', 'heading_std', 'turning_mean', 'turning_std']\n",
    "summary_lookup = sum_stats_df.set_index('id_track')[summary_cols].to_dict(orient='index')\n",
    "\n",
    "#Aggregate vessel type to acquire target label: type_m2_agg\n",
    "vessel_type_aggregator = VesselTypeAggregator()\n",
    "vessel_type_aggregator.aggregate_vessel_type(merged_tracks)\n",
    "\n",
    "# Feature and label columns\n",
    "feature_cols = ['speed', 'course', 'time_elapsed', 'distance_travelled', 'distance_from_origin']\n",
    "label_col = 'type_m2_agg'\n",
    "\n",
    "# Build lookup dictionary\n",
    "label_classes = {label: i for i, label in enumerate(merged_tracks[label_col].unique())}\n",
    "type_dict = merged_tracks.drop_duplicates('id_track').set_index('id_track')[label_col].map(label_classes).to_dict()\n",
    "\n",
    "# Group by track\n",
    "grouped = merged_tracks.groupby('id_track')\n",
    "\n",
    "# Initialize Dataset\n",
    "track_data = []\n",
    "for id_track, group in grouped:\n",
    "    if id_track not in type_dict:\n",
    "        continue\n",
    "\n",
    "    features = torch.tensor(group[feature_cols].values, dtype=torch.float32)\n",
    "    length = features.size(0)\n",
    "    summary_vector = torch.tensor(list(summary_lookup[id_track].values()), dtype=torch.float32)\n",
    "    track_data.append({\n",
    "        'features': features.to(device),  # T x M\n",
    "        'summary': summary_vector.to(device),\n",
    "        'length': length,\n",
    "        'label': torch.tensor(type_dict[id_track], dtype=torch.long).to(device)\n",
    "    })\n",
    "\n",
    "print(f\"Prepared {len(track_data)} track tensors (raw features) on {device}\")"
   ]
  },
  {
   "cell_type": "code",
   "execution_count": 12,
   "metadata": {},
   "outputs": [],
   "source": [
    "from torch.nn.utils.rnn import pad_sequence\n",
    "\n",
    "def collate_fn(batch):\n",
    "    # Sort by sequence length (optional but helpful for some RNNs)\n",
    "    batch.sort(key=lambda x: x['length'], reverse=True)\n",
    "    features = [item['features'] for item in batch]\n",
    "    summaries = torch.stack([item['summary'] for item in batch])\n",
    "    labels = torch.stack([item['label'] for item in batch])\n",
    "\n",
    "    labels = torch.stack([item['label'] for item in batch])\n",
    "    lengths = torch.tensor([seq.size(0) for seq in features])\n",
    "    padded_features = pad_sequence(features, batch_first=True)  # B, T_max, M\n",
    "\n",
    "    return padded_features, lengths, summaries, labels"
   ]
  },
  {
   "cell_type": "code",
   "execution_count": 13,
   "metadata": {},
   "outputs": [
    {
     "name": "stdout",
     "output_type": "stream",
     "text": [
      "Data split: 10058 train, 2154 val, 2154 test\n"
     ]
    }
   ],
   "source": [
    "from torch.utils.data import random_split, DataLoader, Dataset\n",
    "\n",
    "class VesselDataset(Dataset):\n",
    "    def __init__(self, data):\n",
    "        self.data = data\n",
    "\n",
    "    def __len__(self):\n",
    "        return len(self.data)\n",
    "\n",
    "    def __getitem__(self, idx):\n",
    "        return self.data[idx]\n",
    "\n",
    "# Set random seed for reproducibility\n",
    "seed = 42\n",
    "torch.manual_seed(seed)\n",
    "\n",
    "# Total size\n",
    "total_size = len(track_data)\n",
    "\n",
    "# Sizes for split\n",
    "test_size = val_size = int(0.15 * total_size)\n",
    "train_size = total_size - test_size - val_size\n",
    "\n",
    "# Perform the split\n",
    "full_dataset = VesselDataset(track_data)\n",
    "train_set, val_set, test_set = random_split(full_dataset, [train_size, val_size, test_size])\n",
    "\n",
    "# Sample 20% of the training set for lightweight training\n",
    "small_train_size = int(0.4 * len(train_set))\n",
    "indices = np.random.choice(len(train_set), small_train_size, replace=False)\n",
    "small_train_subset = torch.utils.data.Subset(train_set, indices)\n",
    "\n",
    "# DataLoaders\n",
    "train_loader = DataLoader(train_set, batch_size=BATCH_SIZE, shuffle=True, collate_fn=collate_fn)\n",
    "val_loader = DataLoader(val_set, batch_size=BATCH_SIZE, shuffle=False, collate_fn=collate_fn)\n",
    "test_loader = DataLoader(test_set, batch_size=BATCH_SIZE, shuffle=False, collate_fn=collate_fn)\n",
    "\n",
    "print(f\"Data split: {len(train_set)} train, {len(val_set)} val, {len(test_set)} test\")\n"
   ]
  },
  {
   "cell_type": "code",
   "execution_count": 14,
   "metadata": {},
   "outputs": [],
   "source": [
    "import torch.nn as nn\n",
    "\n",
    "class VesselRNNClassifier(nn.Module):\n",
    "    def __init__(self, input_dim, hidden_dim, num_classes, num_layers, summary_dim):\n",
    "        super().__init__()\n",
    "        self.gru = nn.GRU(input_dim, hidden_dim, num_layers, batch_first=True)\n",
    "        self.fc1 = nn.Linear(hidden_dim + summary_dim, num_classes)\n",
    "\n",
    "    def forward(self, x, lengths, summaries):\n",
    "        #lengths: length B, indicating real length of each sequence\n",
    "        x_padded = nn.utils.rnn.pack_padded_sequence(x, lengths.cpu(), batch_first=True, enforce_sorted=False) # N * T_max * M\n",
    "        _, hidden = self.gru(x_padded) \n",
    "\n",
    "        concat_layer = torch.cat((hidden[-1], summaries), dim=1)\n",
    "\n",
    "        #concatenate hidden state with summary vector\n",
    "        logits = self.fc1(concat_layer)  # B * num_classes\n",
    "        return logits\n"
   ]
  },
  {
   "cell_type": "code",
   "execution_count": 16,
   "metadata": {},
   "outputs": [
    {
     "name": "stderr",
     "output_type": "stream",
     "text": [
      "                                                                      \r"
     ]
    },
    {
     "name": "stdout",
     "output_type": "stream",
     "text": [
      "✅ Epoch 1 | Train Loss: 1.8236 | Val Loss: 1.8552\n"
     ]
    },
    {
     "name": "stderr",
     "output_type": "stream",
     "text": [
      "                                                                      \r"
     ]
    },
    {
     "name": "stdout",
     "output_type": "stream",
     "text": [
      "✅ Epoch 2 | Train Loss: 1.7629 | Val Loss: 2.0339\n"
     ]
    },
    {
     "name": "stderr",
     "output_type": "stream",
     "text": [
      "                                                                      \r"
     ]
    },
    {
     "name": "stdout",
     "output_type": "stream",
     "text": [
      "✅ Epoch 3 | Train Loss: 1.4894 | Val Loss: 1.3750\n"
     ]
    },
    {
     "name": "stderr",
     "output_type": "stream",
     "text": [
      "                                                                      \r"
     ]
    },
    {
     "name": "stdout",
     "output_type": "stream",
     "text": [
      "✅ Epoch 4 | Train Loss: 1.4962 | Val Loss: 1.5347\n"
     ]
    },
    {
     "name": "stderr",
     "output_type": "stream",
     "text": [
      "                                                                      \r"
     ]
    },
    {
     "name": "stdout",
     "output_type": "stream",
     "text": [
      "✅ Epoch 5 | Train Loss: 1.3493 | Val Loss: 1.4799\n"
     ]
    }
   ],
   "source": [
    "EPOCH = 5\n",
    "\n",
    "from tqdm import tqdm\n",
    "from torch.optim.lr_scheduler import StepLR\n",
    "\n",
    "input_dim = len(feature_cols)\n",
    "num_classes = len(label_classes)\n",
    "\n",
    "model = VesselRNNClassifier(input_dim, HIDDEN_DIM, num_classes, num_layers=NUM_LAYERS_GRU, summary_dim=len(summary_cols)).to(device)\n",
    "criterion = nn.CrossEntropyLoss()\n",
    "optimizer = torch.optim.Adam(model.parameters(), lr=0.05)\n",
    "scheduler = StepLR(optimizer, step_size=2, gamma=0.5) \n",
    "\n",
    "train_losses = []\n",
    "val_losses = []\n",
    "\n",
    "for epoch in range(EPOCH):\n",
    "    model.train()\n",
    "    total_loss = 0\n",
    "    progress_bar = tqdm(train_loader, desc=f\"Epoch {epoch+1}\", leave=False)\n",
    "\n",
    "    for x_batch, lengths, summaries, y_batch in progress_bar:\n",
    "        x_batch = x_batch.to(device)\n",
    "        y_batch = y_batch.to(device)\n",
    "        summaries = summaries.to(device)\n",
    "        \n",
    "        optimizer.zero_grad()\n",
    "        logits = model(x_batch, lengths, summaries) #B * num_classes\n",
    "        loss = criterion(logits, y_batch)\n",
    "        loss.backward()\n",
    "        optimizer.step()\n",
    "        total_loss += loss.item()\n",
    "        progress_bar.set_postfix(loss=loss.item())\n",
    "\n",
    "    scheduler.step()\n",
    "\n",
    "    avg_train_loss = total_loss / len(train_loader)\n",
    "    train_losses.append(avg_train_loss)\n",
    "\n",
    "    # Evaluate on validation set\n",
    "    model.eval()\n",
    "    val_loss = 0\n",
    "    with torch.no_grad():\n",
    "        for x_val, lengths_val, summaries_val, y_val in val_loader:\n",
    "            output_val = model(x_val, lengths_val, summaries_val)\n",
    "            loss_val = criterion(output_val, y_val)\n",
    "            val_loss += loss_val.item()\n",
    "\n",
    "    avg_val_loss = val_loss / len(val_loader)\n",
    "    val_losses.append(avg_val_loss)\n",
    "\n",
    "    print(f\"✅ Epoch {epoch+1} | Train Loss: {avg_train_loss:.4f} | Val Loss: {avg_val_loss:.4f}\")\n",
    "\n",
    "save_path = 'models/gru_5_epochs.pth'\n",
    "\n",
    "torch.save({\n",
    "    'epoch': epoch + 1,\n",
    "    'model_state_dict': model.state_dict(),\n",
    "    'optimizer_state_dict': optimizer.state_dict(),\n",
    "    'scheduler_state_dict': scheduler.state_dict(),\n",
    "    'train_losses': train_losses,\n",
    "    'val_losses': val_losses,\n",
    "    'input_dim': input_dim,\n",
    "    'hidden_dim': HIDDEN_DIM,\n",
    "    'num_classes': num_classes,\n",
    "}, save_path)\n"
   ]
  },
  {
   "cell_type": "markdown",
   "metadata": {},
   "source": [
    "### Resume Training"
   ]
  },
  {
   "cell_type": "code",
   "execution_count": null,
   "metadata": {},
   "outputs": [
    {
     "name": "stderr",
     "output_type": "stream",
     "text": [
      "                                                                         \r"
     ]
    },
    {
     "name": "stdout",
     "output_type": "stream",
     "text": [
      "✅ Epoch 6 | Train Loss: 1.6352 | Val Loss: 1.6514\n"
     ]
    },
    {
     "name": "stderr",
     "output_type": "stream",
     "text": [
      "                                                                     \r"
     ]
    },
    {
     "name": "stdout",
     "output_type": "stream",
     "text": [
      "✅ Epoch 7 | Train Loss: 1.6380 | Val Loss: 1.6324\n"
     ]
    },
    {
     "name": "stderr",
     "output_type": "stream",
     "text": [
      "                                                                     \r"
     ]
    },
    {
     "name": "stdout",
     "output_type": "stream",
     "text": [
      "✅ Epoch 8 | Train Loss: 1.6363 | Val Loss: 1.6632\n"
     ]
    },
    {
     "name": "stderr",
     "output_type": "stream",
     "text": [
      "                                                                     \r"
     ]
    },
    {
     "name": "stdout",
     "output_type": "stream",
     "text": [
      "✅ Epoch 9 | Train Loss: 1.6342 | Val Loss: 1.6847\n"
     ]
    },
    {
     "name": "stderr",
     "output_type": "stream",
     "text": [
      "                                                                      \r"
     ]
    },
    {
     "name": "stdout",
     "output_type": "stream",
     "text": [
      "✅ Epoch 10 | Train Loss: 1.6393 | Val Loss: 1.6743\n"
     ]
    },
    {
     "name": "stderr",
     "output_type": "stream",
     "text": [
      "                                                                      \r"
     ]
    },
    {
     "name": "stdout",
     "output_type": "stream",
     "text": [
      "✅ Epoch 11 | Train Loss: 1.6332 | Val Loss: 1.6981\n"
     ]
    },
    {
     "name": "stderr",
     "output_type": "stream",
     "text": [
      "                                                                      \r"
     ]
    },
    {
     "name": "stdout",
     "output_type": "stream",
     "text": [
      "✅ Epoch 12 | Train Loss: 1.6360 | Val Loss: 1.6496\n"
     ]
    },
    {
     "name": "stderr",
     "output_type": "stream",
     "text": [
      "                                                                      \r"
     ]
    },
    {
     "name": "stdout",
     "output_type": "stream",
     "text": [
      "✅ Epoch 13 | Train Loss: 1.6356 | Val Loss: 1.6512\n"
     ]
    },
    {
     "name": "stderr",
     "output_type": "stream",
     "text": [
      "                                                                      \r"
     ]
    },
    {
     "name": "stdout",
     "output_type": "stream",
     "text": [
      "✅ Epoch 14 | Train Loss: 1.6309 | Val Loss: 1.6425\n"
     ]
    },
    {
     "name": "stderr",
     "output_type": "stream",
     "text": [
      "                                                                      \r"
     ]
    },
    {
     "name": "stdout",
     "output_type": "stream",
     "text": [
      "✅ Epoch 15 | Train Loss: 1.6319 | Val Loss: 1.6442\n"
     ]
    },
    {
     "name": "stderr",
     "output_type": "stream",
     "text": [
      "                                                                      \r"
     ]
    },
    {
     "name": "stdout",
     "output_type": "stream",
     "text": [
      "✅ Epoch 16 | Train Loss: 1.5850 | Val Loss: 1.6864\n"
     ]
    },
    {
     "name": "stderr",
     "output_type": "stream",
     "text": [
      "                                                                      \r"
     ]
    },
    {
     "name": "stdout",
     "output_type": "stream",
     "text": [
      "✅ Epoch 17 | Train Loss: 1.5874 | Val Loss: 1.5905\n"
     ]
    },
    {
     "name": "stderr",
     "output_type": "stream",
     "text": [
      "                                                                      \r"
     ]
    },
    {
     "name": "stdout",
     "output_type": "stream",
     "text": [
      "✅ Epoch 18 | Train Loss: 1.5679 | Val Loss: 1.5778\n"
     ]
    },
    {
     "name": "stderr",
     "output_type": "stream",
     "text": [
      "                                                                      \r"
     ]
    },
    {
     "name": "stdout",
     "output_type": "stream",
     "text": [
      "✅ Epoch 19 | Train Loss: 1.6000 | Val Loss: 1.6583\n"
     ]
    },
    {
     "name": "stderr",
     "output_type": "stream",
     "text": [
      "                                                                      \r"
     ]
    },
    {
     "name": "stdout",
     "output_type": "stream",
     "text": [
      "✅ Epoch 20 | Train Loss: 1.6454 | Val Loss: 1.6877\n"
     ]
    },
    {
     "name": "stderr",
     "output_type": "stream",
     "text": [
      "                                                                      \r"
     ]
    },
    {
     "name": "stdout",
     "output_type": "stream",
     "text": [
      "✅ Epoch 21 | Train Loss: 1.6511 | Val Loss: 1.7079\n"
     ]
    },
    {
     "name": "stderr",
     "output_type": "stream",
     "text": [
      "                                                                      \r"
     ]
    },
    {
     "name": "stdout",
     "output_type": "stream",
     "text": [
      "✅ Epoch 22 | Train Loss: 1.6306 | Val Loss: 1.6997\n"
     ]
    },
    {
     "name": "stderr",
     "output_type": "stream",
     "text": [
      "                                                                      \r"
     ]
    },
    {
     "name": "stdout",
     "output_type": "stream",
     "text": [
      "✅ Epoch 23 | Train Loss: 1.6303 | Val Loss: 1.7322\n"
     ]
    },
    {
     "name": "stderr",
     "output_type": "stream",
     "text": [
      "                                                                      \r"
     ]
    },
    {
     "name": "stdout",
     "output_type": "stream",
     "text": [
      "✅ Epoch 24 | Train Loss: 1.6105 | Val Loss: 1.6678\n"
     ]
    },
    {
     "name": "stderr",
     "output_type": "stream",
     "text": [
      "                                                                      \r"
     ]
    },
    {
     "name": "stdout",
     "output_type": "stream",
     "text": [
      "✅ Epoch 25 | Train Loss: 1.6100 | Val Loss: 1.6301\n"
     ]
    },
    {
     "name": "stderr",
     "output_type": "stream",
     "text": [
      "                                                                      \r"
     ]
    },
    {
     "name": "stdout",
     "output_type": "stream",
     "text": [
      "✅ Epoch 26 | Train Loss: 1.6542 | Val Loss: 1.6602\n"
     ]
    },
    {
     "name": "stderr",
     "output_type": "stream",
     "text": [
      "                                                                      \r"
     ]
    },
    {
     "name": "stdout",
     "output_type": "stream",
     "text": [
      "✅ Epoch 27 | Train Loss: 1.6330 | Val Loss: 1.6863\n"
     ]
    },
    {
     "name": "stderr",
     "output_type": "stream",
     "text": [
      "                                                                      \r"
     ]
    },
    {
     "name": "stdout",
     "output_type": "stream",
     "text": [
      "✅ Epoch 28 | Train Loss: 1.6328 | Val Loss: 1.6667\n"
     ]
    },
    {
     "name": "stderr",
     "output_type": "stream",
     "text": [
      "                                                                      \r"
     ]
    },
    {
     "name": "stdout",
     "output_type": "stream",
     "text": [
      "✅ Epoch 29 | Train Loss: 1.6208 | Val Loss: 1.6030\n"
     ]
    },
    {
     "name": "stderr",
     "output_type": "stream",
     "text": [
      "                                                                      \r"
     ]
    },
    {
     "name": "stdout",
     "output_type": "stream",
     "text": [
      "✅ Epoch 30 | Train Loss: 1.6203 | Val Loss: 1.6973\n"
     ]
    },
    {
     "name": "stderr",
     "output_type": "stream",
     "text": [
      "                                                                      \r"
     ]
    },
    {
     "name": "stdout",
     "output_type": "stream",
     "text": [
      "✅ Epoch 31 | Train Loss: 1.6349 | Val Loss: 1.7357\n"
     ]
    },
    {
     "name": "stderr",
     "output_type": "stream",
     "text": [
      "                                                                      \r"
     ]
    },
    {
     "name": "stdout",
     "output_type": "stream",
     "text": [
      "✅ Epoch 32 | Train Loss: 1.6457 | Val Loss: 1.6544\n"
     ]
    },
    {
     "name": "stderr",
     "output_type": "stream",
     "text": [
      "                                                                      \r"
     ]
    },
    {
     "name": "stdout",
     "output_type": "stream",
     "text": [
      "✅ Epoch 33 | Train Loss: 1.6090 | Val Loss: 1.7722\n"
     ]
    },
    {
     "name": "stderr",
     "output_type": "stream",
     "text": [
      "                                                                      \r"
     ]
    },
    {
     "name": "stdout",
     "output_type": "stream",
     "text": [
      "✅ Epoch 34 | Train Loss: 1.6372 | Val Loss: 1.6811\n"
     ]
    },
    {
     "name": "stderr",
     "output_type": "stream",
     "text": [
      "                                                                      \r"
     ]
    },
    {
     "name": "stdout",
     "output_type": "stream",
     "text": [
      "✅ Epoch 35 | Train Loss: 1.6321 | Val Loss: 1.6689\n"
     ]
    },
    {
     "name": "stderr",
     "output_type": "stream",
     "text": [
      "                                                                      \r"
     ]
    },
    {
     "name": "stdout",
     "output_type": "stream",
     "text": [
      "✅ Epoch 36 | Train Loss: 1.6207 | Val Loss: 1.6785\n"
     ]
    },
    {
     "name": "stderr",
     "output_type": "stream",
     "text": [
      "                                                                      \r"
     ]
    },
    {
     "name": "stdout",
     "output_type": "stream",
     "text": [
      "✅ Epoch 37 | Train Loss: 1.6098 | Val Loss: 1.6317\n"
     ]
    },
    {
     "name": "stderr",
     "output_type": "stream",
     "text": [
      "                                                                      \r"
     ]
    },
    {
     "name": "stdout",
     "output_type": "stream",
     "text": [
      "✅ Epoch 38 | Train Loss: 1.6064 | Val Loss: 1.5775\n"
     ]
    },
    {
     "name": "stderr",
     "output_type": "stream",
     "text": [
      "                                                                      \r"
     ]
    },
    {
     "name": "stdout",
     "output_type": "stream",
     "text": [
      "✅ Epoch 39 | Train Loss: 1.5869 | Val Loss: 1.6311\n"
     ]
    },
    {
     "name": "stderr",
     "output_type": "stream",
     "text": [
      "                                                                      \r"
     ]
    },
    {
     "name": "stdout",
     "output_type": "stream",
     "text": [
      "✅ Epoch 40 | Train Loss: 1.5973 | Val Loss: 1.6602\n"
     ]
    }
   ],
   "source": [
    "##TODO: UPDATE MODEL \n",
    "\n",
    "checkpoint = torch.load('models/gru_5_epochs.pth', map_location=device)\n",
    "\n",
    "# Recreate the model architecture\n",
    "model = VesselRNNClassifier(\n",
    "    input_dim=checkpoint['input_dim'],\n",
    "    hidden_dim=checkpoint['hidden_dim'],\n",
    "    num_classes=checkpoint['num_classes'],\n",
    "    num_layers=NUM_LAYERS_GRU\n",
    ").to(device)\n",
    "\n",
    "# Load saved state\n",
    "model.load_state_dict(checkpoint['model_state_dict'])\n",
    "\n",
    "# Restore optimizer and scheduler\n",
    "optimizer = torch.optim.Adam(model.parameters(), lr=0.005)  # same LR as before\n",
    "optimizer.load_state_dict(checkpoint['optimizer_state_dict'])\n",
    "\n",
    "# Continue tracking losses\n",
    "TRAIN_LOSSES = checkpoint['train_losses']\n",
    "VAL_LOSSES = checkpoint['val_losses']\n",
    "\n",
    "# Resume from this epoch\n",
    "start_epoch = checkpoint['epoch']\n",
    "\n",
    "for epoch in range(start_epoch, start_epoch + 5):  # continue 5 more epochs\n",
    "    model.train()\n",
    "    total_loss = 0\n",
    "    progress_bar = tqdm(train_loader, desc=f\"Epoch {epoch+1}\", leave=False)\n",
    "\n",
    "    for x_batch, lengths, y_batch in progress_bar:\n",
    "        x_batch = x_batch.to(device)\n",
    "        y_batch = y_batch.to(device)\n",
    "        optimizer.zero_grad()\n",
    "        logits = model(x_batch, lengths)\n",
    "        loss = criterion(logits, y_batch)\n",
    "        loss.backward()\n",
    "        optimizer.step()\n",
    "        total_loss += loss.item()\n",
    "        progress_bar.set_postfix(loss=loss.item())\n",
    "\n",
    "    scheduler.step()\n",
    "\n",
    "    avg_train_loss = total_loss / len(train_loader)\n",
    "    train_losses.append(avg_train_loss)\n",
    "\n",
    "    # Evaluate on validation set\n",
    "    model.eval()\n",
    "    val_loss = 0\n",
    "    with torch.no_grad():\n",
    "        for x_val, lengths_val, y_val in val_loader:\n",
    "            output_val = model(x_val, lengths_val)\n",
    "            loss_val = criterion(output_val, y_val)\n",
    "            val_loss += loss_val.item()\n",
    "\n",
    "    avg_val_loss = val_loss / len(val_loader)\n",
    "    val_losses.append(avg_val_loss)\n",
    "\n",
    "    print(f\"✅ Epoch {epoch+1} | Train Loss: {avg_train_loss:.4f} | Val Loss: {avg_val_loss:.4f}\")\n"
   ]
  },
  {
   "cell_type": "code",
   "execution_count": 55,
   "metadata": {},
   "outputs": [],
   "source": [
    "##TODO: UPDATE MODEL PATH\n",
    "\n",
    "model_path = 'models/gru_40_epochs.pth'\n",
    "\n",
    "torch.save({\n",
    "    'epoch': epoch + 1,\n",
    "    'model_state_dict': model.state_dict(),\n",
    "    'optimizer_state_dict': optimizer.state_dict(),\n",
    "    'scheduler_state_dict': scheduler.state_dict(),\n",
    "    'train_losses': train_losses,\n",
    "    'val_losses': val_losses,\n",
    "    'input_dim': input_dim,\n",
    "    'hidden_dim': HIDDEN_DIM,\n",
    "    'num_classes': num_classes,\n",
    "}, model_path)\n"
   ]
  },
  {
   "cell_type": "markdown",
   "metadata": {},
   "source": [
    "### Model Eval"
   ]
  },
  {
   "cell_type": "code",
   "execution_count": 18,
   "metadata": {},
   "outputs": [
    {
     "name": "stderr",
     "output_type": "stream",
     "text": [
      "                                                             \r"
     ]
    },
    {
     "name": "stdout",
     "output_type": "stream",
     "text": [
      "🔍 Test Accuracy: 0.5371402042711235\n",
      "\n",
      "📊 Classification Report:\n",
      "               precision    recall  f1-score   support\n",
      "\n",
      "           0       0.49      0.23      0.32       158\n",
      "           1       0.00      0.00      0.00        25\n",
      "           2       0.67      0.92      0.78       869\n",
      "           3       0.74      0.05      0.10       387\n",
      "           4       0.25      0.05      0.09        39\n",
      "           5       0.35      0.78      0.48       376\n",
      "           6       0.18      0.01      0.02       224\n",
      "           7       0.00      0.00      0.00        76\n",
      "\n",
      "    accuracy                           0.54      2154\n",
      "   macro avg       0.34      0.26      0.22      2154\n",
      "weighted avg       0.52      0.54      0.44      2154\n",
      "\n"
     ]
    },
    {
     "name": "stderr",
     "output_type": "stream",
     "text": [
      "/Users/liuzehan/miniconda3/lib/python3.11/site-packages/sklearn/metrics/_classification.py:1509: UndefinedMetricWarning: Precision is ill-defined and being set to 0.0 in labels with no predicted samples. Use `zero_division` parameter to control this behavior.\n",
      "  _warn_prf(average, modifier, f\"{metric.capitalize()} is\", len(result))\n",
      "/Users/liuzehan/miniconda3/lib/python3.11/site-packages/sklearn/metrics/_classification.py:1509: UndefinedMetricWarning: Precision is ill-defined and being set to 0.0 in labels with no predicted samples. Use `zero_division` parameter to control this behavior.\n",
      "  _warn_prf(average, modifier, f\"{metric.capitalize()} is\", len(result))\n",
      "/Users/liuzehan/miniconda3/lib/python3.11/site-packages/sklearn/metrics/_classification.py:1509: UndefinedMetricWarning: Precision is ill-defined and being set to 0.0 in labels with no predicted samples. Use `zero_division` parameter to control this behavior.\n",
      "  _warn_prf(average, modifier, f\"{metric.capitalize()} is\", len(result))\n"
     ]
    }
   ],
   "source": [
    "# Ensure model is in eval mode\n",
    "model.eval()\n",
    "\n",
    "all_preds = []\n",
    "all_labels = []\n",
    "\n",
    "with torch.no_grad():\n",
    "\n",
    "    progress_bar = tqdm(test_loader, desc=f\"Running Test\", leave=False)\n",
    "    for x_test, lengths_test, summaries_test, y_test in progress_bar:\n",
    "        x_test = x_test.to(device)\n",
    "        lengths_test = lengths_test  # assuming these are CPU-side already\n",
    "        logits = model(x_test, lengths_test, summaries_test)\n",
    "\n",
    "        preds = torch.argmax(logits, dim=1)  # get class with highest logit\n",
    "        all_preds.extend(preds.cpu().numpy())\n",
    "        all_labels.extend(y_test.cpu().numpy())  # true labels\n",
    "\n",
    "# Convert to numpy arrays if needed\n",
    "import numpy as np\n",
    "all_preds = np.array(all_preds)\n",
    "all_labels = np.array(all_labels)\n",
    "\n",
    "# (Optional) Evaluate accuracy or confusion matrix\n",
    "from sklearn.metrics import accuracy_score, classification_report, confusion_matrix\n",
    "\n",
    "print(\"🔍 Test Accuracy:\", accuracy_score(all_labels, all_preds))\n",
    "print(\"\\n📊 Classification Report:\\n\", classification_report(all_labels, all_preds))\n"
   ]
  },
  {
   "cell_type": "code",
   "execution_count": null,
   "metadata": {},
   "outputs": [],
   "source": []
  }
 ],
 "metadata": {
  "kernelspec": {
   "display_name": "base",
   "language": "python",
   "name": "python3"
  },
  "language_info": {
   "codemirror_mode": {
    "name": "ipython",
    "version": 3
   },
   "file_extension": ".py",
   "mimetype": "text/x-python",
   "name": "python",
   "nbconvert_exporter": "python",
   "pygments_lexer": "ipython3",
   "version": "3.11.4"
  }
 },
 "nbformat": 4,
 "nbformat_minor": 2
}
