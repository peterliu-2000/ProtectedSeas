{
 "cells": [
  {
   "cell_type": "code",
   "execution_count": 2,
   "metadata": {},
   "outputs": [
    {
     "name": "stdout",
     "output_type": "stream",
     "text": [
      "Length of cleaned_1: 9013\n",
      "Length of cleaned_2: 9013\n",
      "Length of cleaned_3: 4366\n"
     ]
    }
   ],
   "source": [
    "import pandas as pd\n",
    "import numpy as np\n",
    "import matplotlib.pyplot as plt\n",
    "import seaborn as sns\n",
    "\n",
    "cleaned_1 = pd.read_csv('../data/cleaned_data/tracks_tagged_modified_041025.csv')\n",
    "cleaned_2 = pd.read_csv('../data/cleaned_data/tracks_tagged_modified_041225.csv')\n",
    "cleaned_3 = pd.read_csv('../data/cleaned_data/tracks_tagged_v4.csv')\n",
    "\n",
    "print(f\"Length of cleaned_1: {len(cleaned_1)}\")\n",
    "print(f\"Length of cleaned_2: {len(cleaned_2)}\")\n",
    "print(f\"Length of cleaned_3: {len(cleaned_3)}\")\n"
   ]
  },
  {
   "cell_type": "code",
   "execution_count": 6,
   "metadata": {},
   "outputs": [
    {
     "data": {
      "text/plain": [
       "Index(['Unnamed: 0.7', 'Unnamed: 0.6', 'Unnamed: 0.5', 'Unnamed: 0.4',\n",
       "       'Unnamed: 0.3', 'Unnamed: 0.2', 'Unnamed: 0.1', 'Unnamed: 0',\n",
       "       'id_track', 'id_site', 'id_m2', 'source', 'duration', 'alarm',\n",
       "       'min_speed', 'max_speed', 'avg_speed', 'curviness', 'heading_mean',\n",
       "       'heading_std', 'turning_mean', 'turning_std', 'duration_z', 'distance',\n",
       "       'distance_o', 'assoc_str', 'assoc_id', 'tagged', 'has_photos',\n",
       "       'confidence', 'detections', 'sdate', 'stime', 'ldate', 'ltime',\n",
       "       'user_id', 'valid', 'type', 'notes', 'transit', 'overnight', 'loiter',\n",
       "       'cleanup', 'fishing_c', 'fishing_r', 'research', 'diving', 'repairs',\n",
       "       'distress', 'other', 'miss_ais', 'violation', 'le_contact', 'tdate',\n",
       "       'ttime', 'type_m2_agg'],\n",
       "      dtype='object')"
      ]
     },
     "execution_count": 6,
     "metadata": {},
     "output_type": "execute_result"
    }
   ],
   "source": [
    "cleaned_2.columns"
   ]
  },
  {
   "cell_type": "code",
   "execution_count": null,
   "metadata": {},
   "outputs": [],
   "source": []
  }
 ],
 "metadata": {
  "kernelspec": {
   "display_name": "base",
   "language": "python",
   "name": "python3"
  },
  "language_info": {
   "codemirror_mode": {
    "name": "ipython",
    "version": 3
   },
   "file_extension": ".py",
   "mimetype": "text/x-python",
   "name": "python",
   "nbconvert_exporter": "python",
   "pygments_lexer": "ipython3",
   "version": "3.11.4"
  }
 },
 "nbformat": 4,
 "nbformat_minor": 2
}
