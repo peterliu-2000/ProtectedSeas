{
 "cells": [
  {
   "cell_type": "markdown",
   "metadata": {},
   "source": [
    "This notebook contains some automatic data filtering routines."
   ]
  },
  {
   "cell_type": "code",
   "execution_count": 1,
   "metadata": {},
   "outputs": [],
   "source": [
    "import numpy as np\n",
    "import pandas as pd\n",
    "from utils.data_ops import *\n",
    "from utils.constants import *\n",
    "from utils.time_conversion import *"
   ]
  },
  {
   "cell_type": "code",
   "execution_count": 2,
   "metadata": {},
   "outputs": [
    {
     "name": "stdout",
     "output_type": "stream",
     "text": [
      "Loaded a legacy M2 tagged dataset.\n"
     ]
    },
    {
     "data": {
      "text/html": [
       "<div>\n",
       "<style scoped>\n",
       "    .dataframe tbody tr th:only-of-type {\n",
       "        vertical-align: middle;\n",
       "    }\n",
       "\n",
       "    .dataframe tbody tr th {\n",
       "        vertical-align: top;\n",
       "    }\n",
       "\n",
       "    .dataframe thead th {\n",
       "        text-align: right;\n",
       "    }\n",
       "</style>\n",
       "<table border=\"1\" class=\"dataframe\">\n",
       "  <thead>\n",
       "    <tr style=\"text-align: right;\">\n",
       "      <th></th>\n",
       "      <th>id_track</th>\n",
       "      <th>id_site</th>\n",
       "      <th>id_m2</th>\n",
       "      <th>source</th>\n",
       "      <th>duration</th>\n",
       "      <th>alarm</th>\n",
       "      <th>min_speed</th>\n",
       "      <th>max_speed</th>\n",
       "      <th>avg_speed</th>\n",
       "      <th>curviness</th>\n",
       "      <th>...</th>\n",
       "      <th>repairs</th>\n",
       "      <th>distress</th>\n",
       "      <th>other</th>\n",
       "      <th>miss_ais</th>\n",
       "      <th>violation</th>\n",
       "      <th>le_contact</th>\n",
       "      <th>tdate</th>\n",
       "      <th>ttime</th>\n",
       "      <th>type_m2_agg</th>\n",
       "      <th>activity</th>\n",
       "    </tr>\n",
       "  </thead>\n",
       "  <tbody>\n",
       "    <tr>\n",
       "      <th>0</th>\n",
       "      <td>29980760</td>\n",
       "      <td>10</td>\n",
       "      <td>18-0704-1000</td>\n",
       "      <td>radar</td>\n",
       "      <td>637</td>\n",
       "      <td>0</td>\n",
       "      <td>7.1</td>\n",
       "      <td>14.4</td>\n",
       "      <td>10.636634</td>\n",
       "      <td>1.023164</td>\n",
       "      <td>...</td>\n",
       "      <td>0</td>\n",
       "      <td>0</td>\n",
       "      <td>0</td>\n",
       "      <td>0</td>\n",
       "      <td>0</td>\n",
       "      <td>0</td>\n",
       "      <td>2023-07-04</td>\n",
       "      <td>10:06:47</td>\n",
       "      <td>NaN</td>\n",
       "      <td></td>\n",
       "    </tr>\n",
       "    <tr>\n",
       "      <th>1</th>\n",
       "      <td>30278317</td>\n",
       "      <td>10</td>\n",
       "      <td>158-0714-0950</td>\n",
       "      <td>radar</td>\n",
       "      <td>5463</td>\n",
       "      <td>1</td>\n",
       "      <td>0.1</td>\n",
       "      <td>6.7</td>\n",
       "      <td>3.016000</td>\n",
       "      <td>2.591425</td>\n",
       "      <td>...</td>\n",
       "      <td>0</td>\n",
       "      <td>0</td>\n",
       "      <td>0</td>\n",
       "      <td>0</td>\n",
       "      <td>0</td>\n",
       "      <td>0</td>\n",
       "      <td>2023-07-14</td>\n",
       "      <td>10:45:04</td>\n",
       "      <td>sail</td>\n",
       "      <td></td>\n",
       "    </tr>\n",
       "    <tr>\n",
       "      <th>2</th>\n",
       "      <td>30281714</td>\n",
       "      <td>10</td>\n",
       "      <td>196-0714-1032</td>\n",
       "      <td>radar</td>\n",
       "      <td>572</td>\n",
       "      <td>0</td>\n",
       "      <td>0.1</td>\n",
       "      <td>2.1</td>\n",
       "      <td>0.694318</td>\n",
       "      <td>1.300154</td>\n",
       "      <td>...</td>\n",
       "      <td>0</td>\n",
       "      <td>0</td>\n",
       "      <td>0</td>\n",
       "      <td>0</td>\n",
       "      <td>0</td>\n",
       "      <td>0</td>\n",
       "      <td>2023-07-14</td>\n",
       "      <td>10:43:06</td>\n",
       "      <td>NaN</td>\n",
       "      <td></td>\n",
       "    </tr>\n",
       "    <tr>\n",
       "      <th>3</th>\n",
       "      <td>30282211</td>\n",
       "      <td>10</td>\n",
       "      <td>1-0714-1040</td>\n",
       "      <td>radar</td>\n",
       "      <td>581</td>\n",
       "      <td>0</td>\n",
       "      <td>4.0</td>\n",
       "      <td>26.5</td>\n",
       "      <td>12.441758</td>\n",
       "      <td>1.068525</td>\n",
       "      <td>...</td>\n",
       "      <td>0</td>\n",
       "      <td>0</td>\n",
       "      <td>0</td>\n",
       "      <td>0</td>\n",
       "      <td>0</td>\n",
       "      <td>0</td>\n",
       "      <td>2023-07-14</td>\n",
       "      <td>10:42:50</td>\n",
       "      <td>NaN</td>\n",
       "      <td></td>\n",
       "    </tr>\n",
       "    <tr>\n",
       "      <th>4</th>\n",
       "      <td>30282731</td>\n",
       "      <td>10</td>\n",
       "      <td>3-0714-1047</td>\n",
       "      <td>radar</td>\n",
       "      <td>155</td>\n",
       "      <td>0</td>\n",
       "      <td>3.9</td>\n",
       "      <td>5.7</td>\n",
       "      <td>5.237500</td>\n",
       "      <td>1.003332</td>\n",
       "      <td>...</td>\n",
       "      <td>0</td>\n",
       "      <td>0</td>\n",
       "      <td>0</td>\n",
       "      <td>0</td>\n",
       "      <td>0</td>\n",
       "      <td>0</td>\n",
       "      <td>2023-07-14</td>\n",
       "      <td>10:59:59</td>\n",
       "      <td>NaN</td>\n",
       "      <td></td>\n",
       "    </tr>\n",
       "  </tbody>\n",
       "</table>\n",
       "<p>5 rows × 49 columns</p>\n",
       "</div>"
      ],
      "text/plain": [
       "   id_track  id_site          id_m2 source  duration  alarm  min_speed  \\\n",
       "0  29980760       10   18-0704-1000  radar       637      0        7.1   \n",
       "1  30278317       10  158-0714-0950  radar      5463      1        0.1   \n",
       "2  30281714       10  196-0714-1032  radar       572      0        0.1   \n",
       "3  30282211       10    1-0714-1040  radar       581      0        4.0   \n",
       "4  30282731       10    3-0714-1047  radar       155      0        3.9   \n",
       "\n",
       "   max_speed  avg_speed  curviness  ...  repairs  distress  other  miss_ais  \\\n",
       "0       14.4  10.636634   1.023164  ...        0         0      0         0   \n",
       "1        6.7   3.016000   2.591425  ...        0         0      0         0   \n",
       "2        2.1   0.694318   1.300154  ...        0         0      0         0   \n",
       "3       26.5  12.441758   1.068525  ...        0         0      0         0   \n",
       "4        5.7   5.237500   1.003332  ...        0         0      0         0   \n",
       "\n",
       "   violation  le_contact       tdate     ttime  type_m2_agg  activity  \n",
       "0          0           0  2023-07-04  10:06:47          NaN            \n",
       "1          0           0  2023-07-14  10:45:04         sail            \n",
       "2          0           0  2023-07-14  10:43:06          NaN            \n",
       "3          0           0  2023-07-14  10:42:50          NaN            \n",
       "4          0           0  2023-07-14  10:59:59          NaN            \n",
       "\n",
       "[5 rows x 49 columns]"
      ]
     },
     "execution_count": 2,
     "metadata": {},
     "output_type": "execute_result"
    }
   ],
   "source": [
    "# Import and format original M2 data\n",
    "in_path = \"../data/tracks_tagged_modified.csv\"\n",
    "track_data = read_and_init_track_df(in_path)\n",
    "track_data.head(5)"
   ]
  },
  {
   "cell_type": "code",
   "execution_count": 3,
   "metadata": {},
   "outputs": [
    {
     "data": {
      "text/plain": [
       "5588"
      ]
     },
     "execution_count": 3,
     "metadata": {},
     "output_type": "execute_result"
    }
   ],
   "source": [
    "# First filter out data by valid only\n",
    "track_data = track_data[track_data[\"valid\"] > 0]\n",
    "len(track_data)"
   ]
  },
  {
   "cell_type": "code",
   "execution_count": 4,
   "metadata": {},
   "outputs": [
    {
     "data": {
      "text/plain": [
       "4366"
      ]
     },
     "execution_count": 4,
     "metadata": {},
     "output_type": "execute_result"
    }
   ],
   "source": [
    "# Then filter out tracks with less than 50 detection points\n",
    "track_data = track_data[track_data[\"detections\"] >= 50]\n",
    "len(track_data)"
   ]
  },
  {
   "cell_type": "markdown",
   "metadata": {},
   "source": [
    "Print out some constants"
   ]
  },
  {
   "cell_type": "code",
   "execution_count": 26,
   "metadata": {},
   "outputs": [
    {
     "data": {
      "text/plain": [
       "Index(['id_track', 'id_site', 'id_m2', 'source', 'duration', 'alarm',\n",
       "       'min_speed', 'max_speed', 'avg_speed', 'curviness', 'heading_mean',\n",
       "       'heading_std', 'turning_mean', 'turning_std', 'duration_z', 'distance',\n",
       "       'distance_o', 'assoc_str', 'assoc_id', 'tagged', 'has_photos',\n",
       "       'confidence', 'detections', 'sdate', 'stime', 'ldate', 'ltime',\n",
       "       'user_id', 'valid', 'type', 'notes', 'transit', 'overnight', 'loiter',\n",
       "       'cleanup', 'fishing_c', 'fishing_r', 'research', 'diving', 'repairs',\n",
       "       'distress', 'other', 'miss_ais', 'violation', 'le_contact', 'tdate',\n",
       "       'ttime', 'type_m2_agg', 'activity'],\n",
       "      dtype='object')"
      ]
     },
     "execution_count": 26,
     "metadata": {},
     "output_type": "execute_result"
    }
   ],
   "source": [
    "track_data.columns"
   ]
  },
  {
   "cell_type": "code",
   "execution_count": 25,
   "metadata": {},
   "outputs": [
    {
     "data": {
      "text/plain": [
       "['transit',\n",
       " 'drifting',\n",
       " 'fishing',\n",
       " 'stopped',\n",
       " 'work',\n",
       " 'other',\n",
       " 'reserved1',\n",
       " 'reserved2',\n",
       " 'reserved3',\n",
       " '']"
      ]
     },
     "execution_count": 25,
     "metadata": {},
     "output_type": "execute_result"
    }
   ],
   "source": [
    "ACT_CODE_NEW"
   ]
  },
  {
   "cell_type": "code",
   "execution_count": 15,
   "metadata": {},
   "outputs": [],
   "source": [
    "def assign_activity(row):\n",
    "    \"\"\"\n",
    "    User defined function to convert old activity tags to new activity tags\n",
    "    \"\"\"\n",
    "    # If originally tagged as transit, assign slow speed / transit activity tags\n",
    "    if row[\"transit\"]:\n",
    "        if row[\"avg_speed\"] < 5.0:\n",
    "            return \"drifting\"\n",
    "        else:\n",
    "            return \"transit\"\n",
    "\n",
    "    if row[\"fishing_c\"]:\n",
    "        return \"fishing\"\n",
    "    # Use heuristics to determine hook and line\n",
    "    note = \"\" if pd.isna(row[\"notes\"]) else row[\"notes\"].lower()\n",
    "    if \"hook\" in note or \"pole\" in note:\n",
    "        return \"reserved1\" # Use reserved1 tag for hook and line fishing\n",
    "    \n",
    "    if \"kayak\" in note:\n",
    "        return \"drifting\"\n",
    "    \n",
    "    # Stopped / Anchored criterion:\n",
    "    # Vessel is tracked for more than 10 minutes\n",
    "    # Vessel average speed is less than 1 km/h (0.54 kts)\n",
    "    if row[\"duration\"] >= 600 and row[\"avg_speed\"] < 0.54:\n",
    "        return \"stopped\"\n",
    "    \n",
    "    # Other requires further investigation.\n",
    "    return \"\"\n",
    "\n",
    "track_data[\"activity\"] = track_data.apply(assign_activity, axis = 1)\n",
    "    "
   ]
  },
  {
   "cell_type": "code",
   "execution_count": 16,
   "metadata": {},
   "outputs": [
    {
     "data": {
      "text/plain": [
       "activity\n",
       "             1802\n",
       "stopped      1141\n",
       "transit       865\n",
       "fishing       279\n",
       "drifting      178\n",
       "reserved1     101\n",
       "Name: count, dtype: int64"
      ]
     },
     "execution_count": 16,
     "metadata": {},
     "output_type": "execute_result"
    }
   ],
   "source": [
    "track_data[\"activity\"].value_counts()"
   ]
  },
  {
   "cell_type": "code",
   "execution_count": 17,
   "metadata": {},
   "outputs": [],
   "source": [
    "# Export new data:\n",
    "out_path = \"../data/tracks_tagged_v1.csv\"\n",
    "track_data.to_csv(out_path, index=False)"
   ]
  },
  {
   "cell_type": "code",
   "execution_count": 18,
   "metadata": {},
   "outputs": [
    {
     "name": "stdout",
     "output_type": "stream",
     "text": [
      "Loaded a legacy M2 tagged dataset.\n"
     ]
    }
   ],
   "source": [
    "# Load the second version of data for more heuristics:\n",
    "in_path = \"../data/tracks_tagged_v2.csv\"\n",
    "track_data = read_and_init_track_df(in_path)"
   ]
  },
  {
   "cell_type": "code",
   "execution_count": 19,
   "metadata": {},
   "outputs": [],
   "source": [
    "def fishing_heuristics(row):\n",
    "    \"\"\"\n",
    "    Further break down fishing activity in hook and line, seine and trawl\n",
    "    \"\"\"\n",
    "    if row[\"activity\"] == \"fishing\":\n",
    "        note = \"\" if pd.isna(row[\"notes\"]) else row[\"notes\"].lower()\n",
    "        if \"seine\" in note:\n",
    "            return \"reserved2\"\n",
    "        elif \"trawl\" in note:\n",
    "            return \"reserved3\"\n",
    "    \n",
    "    return row[\"activity\"]\n",
    "\n",
    "track_data[\"activity\"] = track_data.apply(fishing_heuristics, axis = 1)"
   ]
  },
  {
   "cell_type": "code",
   "execution_count": 20,
   "metadata": {},
   "outputs": [
    {
     "data": {
      "text/plain": [
       "activity\n",
       "             1724\n",
       "stopped      1144\n",
       "transit       867\n",
       "fishing       240\n",
       "drifting      193\n",
       "reserved1     114\n",
       "work           33\n",
       "reserved3      28\n",
       "reserved2      23\n",
       "Name: count, dtype: int64"
      ]
     },
     "execution_count": 20,
     "metadata": {},
     "output_type": "execute_result"
    }
   ],
   "source": [
    "track_data[\"activity\"].value_counts()"
   ]
  },
  {
   "cell_type": "code",
   "execution_count": 21,
   "metadata": {},
   "outputs": [],
   "source": [
    "out_path = \"../data/tracks_tagged_v3.csv\"\n",
    "track_data.to_csv(out_path, index=False)"
   ]
  },
  {
   "cell_type": "code",
   "execution_count": 24,
   "metadata": {},
   "outputs": [
    {
     "name": "stdout",
     "output_type": "stream",
     "text": [
      "Loaded a legacy M2 tagged dataset.\n"
     ]
    },
    {
     "data": {
      "text/plain": [
       "activity\n",
       "             1724\n",
       "stopped      1141\n",
       "transit       867\n",
       "fishing       215\n",
       "drifting      193\n",
       "reserved1     126\n",
       "work           33\n",
       "reserved2      32\n",
       "reserved3      32\n",
       "other           3\n",
       "Name: count, dtype: int64"
      ]
     },
     "execution_count": 24,
     "metadata": {},
     "output_type": "execute_result"
    }
   ],
   "source": [
    "in_path = \"../data/tracks_tagged_v4.csv\"\n",
    "track_data = read_and_init_track_df(in_path)\n",
    "track_data[\"activity\"].value_counts()"
   ]
  },
  {
   "cell_type": "code",
   "execution_count": null,
   "metadata": {},
   "outputs": [],
   "source": []
  }
 ],
 "metadata": {
  "kernelspec": {
   "display_name": "Python 3",
   "language": "python",
   "name": "python3"
  },
  "language_info": {
   "codemirror_mode": {
    "name": "ipython",
    "version": 3
   },
   "file_extension": ".py",
   "mimetype": "text/x-python",
   "name": "python",
   "nbconvert_exporter": "python",
   "pygments_lexer": "ipython3",
   "version": "3.9.1"
  }
 },
 "nbformat": 4,
 "nbformat_minor": 2
}
