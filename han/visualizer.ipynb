{
 "cells": [
  {
   "cell_type": "code",
   "execution_count": 1,
   "id": "ae58b4d8",
   "metadata": {},
   "outputs": [],
   "source": [
    "import numpy as np\n",
    "import pandas as pd\n",
    "from visualizer_utils import *\n",
    "from tagger_v2.utils.scripts.vessel_agg import VesselTypeAggregator"
   ]
  },
  {
   "cell_type": "code",
   "execution_count": 2,
   "id": "55247929",
   "metadata": {},
   "outputs": [],
   "source": [
    "activity_tracks = pd.read_csv(\"../data/tracks_tagged_v6.csv\")\n",
    "type_detections = pd.read_csv(\"../data/detections_radar_smoothed.csv\")\n",
    "type_tracks = pd.read_csv(\"../data/tracks_radar_linked_filtered.csv\")\n",
    "activity_detections = pd.read_csv(\"../data/detections_tagged_smoothed.csv\")\n",
    "type_ais = pd.read_csv(\"../data/tracks_ais.csv\")"
   ]
  },
  {
   "cell_type": "markdown",
   "id": "9d274c91",
   "metadata": {},
   "source": [
    "Try to merge ais with radar detections to get type information"
   ]
  },
  {
   "cell_type": "code",
   "execution_count": 3,
   "id": "4739f65a",
   "metadata": {},
   "outputs": [
    {
     "name": "stderr",
     "output_type": "stream",
     "text": [
      "/Volumes/Documents/Documents/Research/ProtectedSeas/han/tagger_v2/utils/scripts/vessel_agg.py:33: SettingWithCopyWarning: \n",
      "A value is trying to be set on a copy of a slice from a DataFrame.\n",
      "Try using .loc[row_indexer,col_indexer] = value instead\n",
      "\n",
      "See the caveats in the documentation: https://pandas.pydata.org/pandas-docs/stable/user_guide/indexing.html#returning-a-view-versus-a-copy\n",
      "  df['type_m2_agg'] = df['type_m2'].map(self.type_mapping).fillna('other')\n"
     ]
    }
   ],
   "source": [
    "ais_type_only = type_ais[[\"id_track\", \"type_m2\"]]\n",
    "VesselTypeAggregator().aggregate_vessel_type(ais_type_only)\n",
    "ais_type_only = ais_type_only.rename(columns = {\"id_track\": \"ais_id\"})\n",
    "type_merged = type_tracks.merge(ais_type_only, on = \"ais_id\", how = \"left\")"
   ]
  },
  {
   "cell_type": "markdown",
   "id": "56b1dae8",
   "metadata": {},
   "source": [
    "Gather some fishing boat tracks"
   ]
  },
  {
   "cell_type": "code",
   "execution_count": 4,
   "id": "418b83b6",
   "metadata": {},
   "outputs": [],
   "source": [
    "fishing = type_merged[univariate_filter(type_merged, \"type_m2_agg\", lambda x: x == \"fishing_boat\")]"
   ]
  },
  {
   "cell_type": "markdown",
   "id": "36f43477",
   "metadata": {},
   "source": [
    "This is how you could utilize the plotting pipeline."
   ]
  },
  {
   "cell_type": "code",
   "execution_count": 5,
   "id": "0502b09d",
   "metadata": {},
   "outputs": [],
   "source": [
    "id = 38661064\n",
    "trajectory = get_trajectory(activity_detections, id, True)\n",
    "plot = plot_lat_long_tracks(trajectory, title = \"\")\n",
    "save_fig(plot, \"transit.pdf\")"
   ]
  }
 ],
 "metadata": {
  "kernelspec": {
   "display_name": "Python 3",
   "language": "python",
   "name": "python3"
  },
  "language_info": {
   "codemirror_mode": {
    "name": "ipython",
    "version": 3
   },
   "file_extension": ".py",
   "mimetype": "text/x-python",
   "name": "python",
   "nbconvert_exporter": "python",
   "pygments_lexer": "ipython3",
   "version": "3.9.1"
  }
 },
 "nbformat": 4,
 "nbformat_minor": 5
}
