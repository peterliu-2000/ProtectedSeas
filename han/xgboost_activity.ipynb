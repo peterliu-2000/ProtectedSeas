{
 "cells": [
  {
   "cell_type": "code",
   "execution_count": 1,
   "id": "680e4fd8",
   "metadata": {},
   "outputs": [
    {
     "name": "stdout",
     "output_type": "stream",
     "text": [
      "Index(['id_track', 'activity', 'duration', 'max_speed', 'min_speed',\n",
      "       'avg_speed', 'curviness', 'heading_mean', 'heading_std', 'turning_mean',\n",
      "       'turning_std', 'distance_total', 'distance_o', 'detections',\n",
      "       'p95_speed', 'p5_speed', 'med_speed', 'start_time', 'end_time'],\n",
      "      dtype='object')\n"
     ]
    }
   ],
   "source": [
    "import pandas as pd\n",
    "import numpy as np\n",
    "import warnings\n",
    "import sys, os\n",
    "\n",
    "import xgboost as xgb\n",
    "from sklearn.model_selection import train_test_split, GridSearchCV\n",
<<<<<<< HEAD
    "from sklearn.metrics import accuracy_score, confusion_matrix, classification_report\n",
=======
    "from sklearn.metrics import accuracy_score, confusion_matrix\n",
>>>>>>> 9d08c876820a25b4056ff2b41ecdb9f0eebf03b7
    "from sklearn.utils import class_weight\n",
    "import matplotlib.pyplot as plt\n",
    "import seaborn as sns\n",
    "\n",
    "# Load track and computed summary statistics object and join them into a single data frame\n",
    "tracks = pd.read_csv(\"../data/tracks_tagged_v6.csv\")\n",
    "tracks = tracks[[\"id_track\", \"activity\"]]\n",
    "summary = pd.read_parquet(\"tagger_v2/support/cache/tracks_tagged_v6.cache\")\n",
    "joined = tracks.merge(summary, on = \"id_track\", how = \"inner\")\n",
    "print(joined.columns)"
   ]
  },
  {
   "cell_type": "markdown",
   "id": "4c142243",
   "metadata": {},
   "source": [
    "Only selects a subset of known activities for training."
   ]
  },
  {
   "cell_type": "code",
   "execution_count": 2,
   "id": "c8c142a1",
   "metadata": {},
   "outputs": [
    {
     "data": {
      "text/plain": [
       "activity\n",
       "stopped     1143\n",
       "transit      870\n",
       "drifting     191\n",
       "hook         170\n",
       "lobster      152\n",
       "seine         35\n",
       "trawl         33\n",
       "Name: count, dtype: int64"
      ]
     },
     "execution_count": 2,
     "metadata": {},
     "output_type": "execute_result"
    }
   ],
   "source": [
    "act_list = [\n",
    "    \"transit\", \n",
    "    \"drifting\", \n",
    "    \"fishing\", \n",
    "    \"lobster\",\n",
    "    \"hook\", \n",
    "    \"seine\", \n",
    "    \"trawl\", \n",
    "    \"stopped\"\n",
    "]\n",
    "\n",
    "trainable = joined[joined[\"activity\"].isin(act_list)]\n",
    "# Further removes the \"fishing\" category since it is ambiguous\n",
    "trainable = trainable[trainable[\"activity\"] != \"fishing\"]\n",
    "trainable[\"activity\"].value_counts()"
   ]
  },
  {
   "cell_type": "markdown",
   "id": "ab426343",
   "metadata": {},
   "source": [
    "Define the features and label encoding."
   ]
  },
  {
   "cell_type": "code",
   "execution_count": 3,
   "id": "a642df02",
   "metadata": {},
   "outputs": [
    {
     "name": "stdout",
     "output_type": "stream",
     "text": [
      "{0: 'drifting', 1: 'transit', 2: 'hook', 3: 'lobster', 4: 'stopped', 5: 'seine', 6: 'trawl'}\n"
     ]
    }
   ],
   "source": [
    "features_subset = ['p95_speed', 'p5_speed', 'med_speed',\n",
    "       'curviness', 'heading_mean', 'heading_std', 'turning_mean',\n",
    "       'turning_std', 'distance_total', 'distance_o']\n",
    "\n",
    "X = trainable[features_subset]\n",
    "y = trainable['activity']\n",
    "\n",
    "# label encoding\n",
    "type2num, num2type = {}, {}\n",
    "num = 0\n",
    "for type in y.unique():\n",
    "    type2num[type] = num\n",
    "    num2type[num] = type\n",
    "    num += 1\n",
    "y_numeric = y.map(type2num)\n",
    "print(num2type)\n"
   ]
  },
  {
   "cell_type": "code",
<<<<<<< HEAD
   "execution_count": 4,
=======
   "execution_count": 6,
>>>>>>> 9d08c876820a25b4056ff2b41ecdb9f0eebf03b7
   "id": "6b7ec00b",
   "metadata": {},
   "outputs": [
    {
     "name": "stdout",
     "output_type": "stream",
     "text": [
      "Fitting 5 folds for each of 18 candidates, totalling 90 fits\n",
      "Best parameters: {'learning_rate': 0.01, 'max_depth': 10, 'n_estimators': 400}\n",
      "Best cross-validation accuracy: 0.9253\n"
     ]
    }
   ],
   "source": [
    "# Train-test split (80:20), stratified sampling by vessel type\n",
    "X_train, X_test, y_train, y_test = train_test_split(X, y_numeric, test_size=0.2, stratify=y_numeric, random_state=42)\n",
    "\n",
    "# Address the class imbalance issues:\n",
    "weights = class_weight.compute_sample_weight(class_weight=\"balanced\", y = y_train)\n",
    "\n",
    "# Define XGBoost model\n",
    "model = xgb.XGBClassifier(\n",
    "    objective='multi:softmax',  # Use 'multi:softprob' if you want probability outputs\n",
    "    num_class=len(y.unique()),\n",
    "    eval_metric='mlogloss',\n",
    "    random_state=42\n",
    ")\n",
    "\n",
    "# Hyperparameter tuning (after a few tries)\n",
    "param_grid = {\n",
    "    'max_depth': [9,10,12],\n",
    "    'learning_rate': [0.01, 0.05],\n",
    "    'n_estimators': [200, 300,400]\n",
    "}\n",
    "\n",
    "\n",
    "# Perform 5-fold cross-validation with grid search\n",
    "grid_search = GridSearchCV(\n",
    "    estimator=model,\n",
    "    param_grid=param_grid,\n",
    "    cv=5,\n",
    "    scoring='accuracy',\n",
    "    n_jobs=-1,  # Use all available cores\n",
    "    verbose=1,\n",
    ")\n",
    "\n",
    "\n",
    "grid_search.fit(X_train, y_train, sample_weight = weights)\n",
    "print(\"Best parameters:\", grid_search.best_params_)\n",
    "print(\"Best cross-validation accuracy: {:.4f}\".format(grid_search.best_score_))\n",
    "best_model = grid_search.best_estimator_\n",
    "\n",
    "# Make predictions on test set\n",
    "y_pred = best_model.predict(X_test)\n",
    "test_accuracy = accuracy_score(y_test, y_pred)"
   ]
  },
  {
   "cell_type": "code",
<<<<<<< HEAD
   "execution_count": 5,
=======
   "execution_count": 7,
>>>>>>> 9d08c876820a25b4056ff2b41ecdb9f0eebf03b7
   "id": "b972909d",
   "metadata": {},
   "outputs": [
    {
     "name": "stdout",
     "output_type": "stream",
     "text": [
      "Test Set Accuracy: 0.9133\n",
      "Train Set Accuracy: 0.9981\n"
     ]
    }
   ],
   "source": [
    "y_pred = best_model.predict(X_test)\n",
    "test_accuracy = accuracy_score(y_test, y_pred)\n",
    "\n",
    "print(\"Test Set Accuracy: {:.4f}\".format(test_accuracy))\n",
    "train_accuracy = accuracy_score(y_train, best_model.predict(X_train))\n",
    "print(\"Train Set Accuracy: {:.4f}\".format(train_accuracy))"
   ]
  },
  {
   "cell_type": "code",
<<<<<<< HEAD
   "execution_count": 6,
=======
   "execution_count": 8,
>>>>>>> 9d08c876820a25b4056ff2b41ecdb9f0eebf03b7
   "id": "519f5ded",
   "metadata": {},
   "outputs": [
    {
     "data": {
      "image/png": "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",
      "text/plain": [
       "<Figure size 600x500 with 2 Axes>"
      ]
     },
     "metadata": {},
     "output_type": "display_data"
    }
   ],
   "source": [
    "# Create confusion matrix\n",
    "cm = confusion_matrix(y_test, y_pred)\n",
    "cm = cm / np.sum(cm, axis = 1, keepdims= True)\n",
    "\n",
    "# Create a figure with a larger size\n",
    "plt.figure(figsize=(6, 5))\n",
    "\n",
    "# Create heatmap of confusion matrix\n",
    "sns.heatmap(cm, \n",
    "            annot=True,  # Show numbers in cells\n",
    "            fmt='.2f',     # Format as integers\n",
    "            cmap='Blues',  # Use blue color scheme\n",
    "            xticklabels=list(type2num.keys()),  # Use vessel type names for x-axis\n",
    "            yticklabels=list(type2num.keys()))  # Use vessel type names for y-axis\n",
    "\n",
    "# Customize the plot\n",
    "plt.title('Activity Baseline - Confusion Matrix')\n",
    "plt.xlabel('Predicted Vessel Type')\n",
    "plt.ylabel('True Vessel Type')\n",
    "plt.xticks(rotation=45, ha='right')  # Rotate x-axis labels for better readability\n",
    "plt.yticks(rotation=0)\n",
    "plt.tight_layout()  # Adjust layout to prevent label cutoff\n",
    "\n",
    "# Show the plot\n",
    "plt.show()"
   ]
  },
  {
   "cell_type": "code",
<<<<<<< HEAD
   "execution_count": 11,
=======
   "execution_count": 9,
>>>>>>> 9d08c876820a25b4056ff2b41ecdb9f0eebf03b7
   "id": "878c075f",
   "metadata": {},
   "outputs": [
    {
<<<<<<< HEAD
     "name": "stdout",
     "output_type": "stream",
     "text": [
      "              precision    recall  f1-score   support\n",
      "\n",
      "    drifting       0.89      0.84      0.86        38\n",
      "     transit       0.97      0.98      0.98       174\n",
      "        hook       0.50      0.44      0.47        34\n",
      "     lobster       0.54      0.63      0.58        30\n",
      "     stopped       0.99      1.00      0.99       229\n",
      "       seine       0.62      0.71      0.67         7\n",
      "       trawl       1.00      0.57      0.73         7\n",
      "\n",
      "    accuracy                           0.91       519\n",
      "   macro avg       0.79      0.74      0.75       519\n",
      "weighted avg       0.91      0.91      0.91       519\n",
      "\n"
     ]
=======
     "data": {
      "text/plain": [
       "0.7546823646928689"
      ]
     },
     "execution_count": 9,
     "metadata": {},
     "output_type": "execute_result"
>>>>>>> 9d08c876820a25b4056ff2b41ecdb9f0eebf03b7
    }
   ],
   "source": [
    "from sklearn.metrics import f1_score\n",
    "f1_score(y_test, y_pred, average=\"macro\")\n",
<<<<<<< HEAD
    "print(classification_report(y_test, y_pred, target_names=[num2type[i] for i in range(7)]))\n",
    "\n",
=======
>>>>>>> 9d08c876820a25b4056ff2b41ecdb9f0eebf03b7
    "# f1_score(y_train, best_model.predict(X_train), average=\"macro\")"
   ]
  },
  {
   "cell_type": "code",
<<<<<<< HEAD
   "execution_count": null,
=======
   "execution_count": 11,
>>>>>>> 9d08c876820a25b4056ff2b41ecdb9f0eebf03b7
   "id": "342ec1e5",
   "metadata": {},
   "outputs": [
    {
     "name": "stdout",
     "output_type": "stream",
     "text": [
      "Model and description saved.\n"
     ]
    }
   ],
   "source": [
    "import os\n",
    "import joblib\n",
    "import json\n",
    "\n",
    "save_path = 'xgb_activity_model.pkl'\n",
    "joblib.dump(best_model, save_path)\n",
    "\n",
    "model_description = {\n",
    "    \"model_name\": \"XGBoost Vessel Activity Classifier (Trained on v6)\",\n",
    "    \"features\": features_subset,\n",
    "    \"params\": grid_search.best_params_,\n",
    "    \"cv_accuracy\": grid_search.best_score_,\n",
    "    \"test_accuracy\": test_accuracy,\n",
    "    \"label_mapping\": num2type,\n",
    "    \"notes\": \"Trained on summary statistics of vessel tracks. Stratified 80:20 split. 5-fold CV.\"\n",
    "}\n",
    "\n",
    "with open(\"xgb_activity_model_description.json\", \"w\") as f:\n",
    "    json.dump(model_description, f, indent=4)\n",
    "\n",
    "print(f\"Model and description saved.\")"
   ]
  },
  {
   "cell_type": "code",
   "execution_count": null,
   "id": "2a0e78ee",
   "metadata": {},
   "outputs": [],
   "source": []
  }
 ],
 "metadata": {
  "kernelspec": {
   "display_name": "Python 3",
   "language": "python",
   "name": "python3"
  },
  "language_info": {
   "codemirror_mode": {
    "name": "ipython",
    "version": 3
   },
   "file_extension": ".py",
   "mimetype": "text/x-python",
   "name": "python",
   "nbconvert_exporter": "python",
   "pygments_lexer": "ipython3",
   "version": "3.9.1"
  }
 },
 "nbformat": 4,
 "nbformat_minor": 5
}
