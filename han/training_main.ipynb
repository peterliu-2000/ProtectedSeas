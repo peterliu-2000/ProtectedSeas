{
 "cells": [
  {
   "cell_type": "code",
   "execution_count": 1,
   "id": "d701f8f3",
   "metadata": {},
   "outputs": [],
   "source": [
    "import torch\n",
    "from dataloader import *\n",
    "from CNN_Models import *\n",
    "from CNN_Training import *\n",
    "from model_io import *\n",
    "from utils.constants import *"
   ]
  },
  {
   "cell_type": "markdown",
   "id": "8e9e6868",
   "metadata": {},
   "source": [
    "Configure Paths"
   ]
  },
  {
   "cell_type": "code",
   "execution_count": 2,
   "id": "8ec7b36c",
   "metadata": {},
   "outputs": [],
   "source": [
    "current_path = \"\"\n",
    "image_path = current_path + \"data/images_type\"\n",
    "label_path = current_path + \"data/type_label.csv\""
   ]
  },
  {
   "cell_type": "markdown",
   "id": "61a1c991",
   "metadata": {},
   "source": [
    "Setting Up Correct Device"
   ]
  },
  {
   "cell_type": "code",
   "execution_count": 3,
   "id": "6e5942a9",
   "metadata": {},
   "outputs": [
    {
     "name": "stdout",
     "output_type": "stream",
     "text": [
      "Currently Using Device: mps\n"
     ]
    }
   ],
   "source": [
    "device = torch.device(\"cuda\" if torch.cuda.is_available() else \"cpu\")\n",
    "\n",
    "if not torch.backends.mps.is_available():\n",
    "    if not torch.backends.mps.is_built():\n",
    "        print(\"MPS not available because the current PyTorch install was not \"\n",
    "            \"built with MPS enabled.\")\n",
    "    else:\n",
    "        print(\"MPS not available because the current MacOS version is not 12.3+ \"\n",
    "            \"and/or you do not have an MPS-enabled device on this machine.\")\n",
    "else:\n",
    "    device = torch.device(\"mps\")\n",
    "    \n",
    "print(f\"Currently Using Device: {device}\")"
   ]
  },
  {
   "cell_type": "markdown",
   "id": "888f7011",
   "metadata": {},
   "source": [
    "Obtain data loader, optimizer and model"
   ]
  },
  {
   "cell_type": "code",
   "execution_count": 4,
   "id": "b4f2b1b4",
   "metadata": {},
   "outputs": [],
   "source": [
    "(train, valid) = get_type_datasets(label_path, image_path, 16) # Use batch size of 16\n",
    "model = get_resnet18_classifier(TYPE_N_CLASSES, dropout=0.2) # Use smaller dropout\n",
    "\n",
    "optimizer = get_optimizer(model, \"sgd\", lr = 1e-3, weight_decay = 1e-4, momentum = 0.9)\n",
    "scheduler = get_scheduler(optimizer, \"exponential\", gamma = 0.95)\n",
    "loss_criterion = get_loss() "
   ]
  },
  {
   "cell_type": "markdown",
   "id": "706aea7b",
   "metadata": {},
   "source": [
    "Train the Model in Stages"
   ]
  },
  {
   "cell_type": "code",
   "execution_count": 5,
   "id": "7f31435c",
   "metadata": {},
   "outputs": [
    {
     "name": "stderr",
     "output_type": "stream",
     "text": [
      "                                                               \r"
     ]
    },
    {
     "name": "stdout",
     "output_type": "stream",
     "text": [
      "Epoch 1: Current LR: [0.00095]\n",
      "Train Loss: 1.05665 Valid Loss: 0.88703 Train Acc:  0.65174 Valid Acc:  0.69623 \n"
     ]
    },
    {
     "name": "stderr",
     "output_type": "stream",
     "text": [
      "                                                               \r"
     ]
    },
    {
     "name": "stdout",
     "output_type": "stream",
     "text": [
      "Epoch 2: Current LR: [0.0009025]\n",
      "Train Loss: 0.9138  Valid Loss: 0.8494  Train Acc:  0.70202 Valid Acc:  0.71748 \n"
     ]
    },
    {
     "name": "stderr",
     "output_type": "stream",
     "text": [
      "                                                               \r"
     ]
    },
    {
     "name": "stdout",
     "output_type": "stream",
     "text": [
      "Epoch 3: Current LR: [0.000857375]\n",
      "Train Loss: 0.86185 Valid Loss: 0.81365 Train Acc:  0.71457 Valid Acc:  0.73727 \n"
     ]
    },
    {
     "name": "stderr",
     "output_type": "stream",
     "text": [
      "                                                               \r"
     ]
    },
    {
     "name": "stdout",
     "output_type": "stream",
     "text": [
      "Epoch 4: Current LR: [0.0008145062499999999]\n",
      "Train Loss: 0.81613 Valid Loss: 0.81984 Train Acc:  0.73262 Valid Acc:  0.72334 \n"
     ]
    },
    {
     "name": "stderr",
     "output_type": "stream",
     "text": [
      "                                                               \r"
     ]
    },
    {
     "name": "stdout",
     "output_type": "stream",
     "text": [
      "Epoch 5: Current LR: [0.0007737809374999998]\n",
      "Train Loss: 0.78454 Valid Loss: 0.76626 Train Acc:  0.73674 Valid Acc:  0.74606 \n"
     ]
    },
    {
     "name": "stderr",
     "output_type": "stream",
     "text": [
      "                                                               \r"
     ]
    },
    {
     "name": "stdout",
     "output_type": "stream",
     "text": [
      "Epoch 6: Current LR: [0.0007350918906249997]\n",
      "Train Loss: 0.74792 Valid Loss: 0.7871  Train Acc:  0.75277 Valid Acc:  0.74313 \n"
     ]
    },
    {
     "name": "stderr",
     "output_type": "stream",
     "text": [
      "                                                               \r"
     ]
    },
    {
     "name": "stdout",
     "output_type": "stream",
     "text": [
      "Epoch 7: Current LR: [0.0006983372960937497]\n",
      "Train Loss: 0.72674 Valid Loss: 0.74556 Train Acc:  0.75717 Valid Acc:  0.75742 \n"
     ]
    },
    {
     "name": "stderr",
     "output_type": "stream",
     "text": [
      "                                                               \r"
     ]
    },
    {
     "name": "stdout",
     "output_type": "stream",
     "text": [
      "Epoch 8: Current LR: [0.0006634204312890621]\n",
      "Train Loss: 0.70302 Valid Loss: 0.76275 Train Acc:  0.76459 Valid Acc:  0.75229 \n"
     ]
    },
    {
     "name": "stderr",
     "output_type": "stream",
     "text": [
      "                                                               \r"
     ]
    },
    {
     "name": "stdout",
     "output_type": "stream",
     "text": [
      "Epoch 9: Current LR: [0.000630249409724609]\n",
      "Train Loss: 0.66158 Valid Loss: 0.79105 Train Acc:  0.7764  Valid Acc:  0.73837 \n"
     ]
    },
    {
     "name": "stderr",
     "output_type": "stream",
     "text": [
      "                                                                \r"
     ]
    },
    {
     "name": "stdout",
     "output_type": "stream",
     "text": [
      "Epoch 10: Current LR: [0.0005987369392383785]\n",
      "Train Loss: 0.64463 Valid Loss: 0.74676 Train Acc:  0.78263 Valid Acc:  0.76218 \n",
      "Model Chekcpoint saved to model/model_stage1.pth\n"
     ]
    },
    {
     "name": "stderr",
     "output_type": "stream",
     "text": [
      "                                                                \r"
     ]
    },
    {
     "name": "stdout",
     "output_type": "stream",
     "text": [
      "Epoch 11: Current LR: [0.0005688000922764595]\n",
      "Train Loss: 0.61178 Valid Loss: 0.80692 Train Acc:  0.79317 Valid Acc:  0.74496 \n"
     ]
    },
    {
     "name": "stderr",
     "output_type": "stream",
     "text": [
      "                                                                \r"
     ]
    },
    {
     "name": "stdout",
     "output_type": "stream",
     "text": [
      "Epoch 12: Current LR: [0.0005403600876626365]\n",
      "Train Loss: 0.59757 Valid Loss: 0.78329 Train Acc:  0.79674 Valid Acc:  0.74569 \n"
     ]
    },
    {
     "name": "stderr",
     "output_type": "stream",
     "text": [
      "                                                                \r"
     ]
    },
    {
     "name": "stdout",
     "output_type": "stream",
     "text": [
      "Epoch 13: Current LR: [0.0005133420832795047]\n",
      "Train Loss: 0.5729  Valid Loss: 0.77053 Train Acc:  0.80517 Valid Acc:  0.75339 \n"
     ]
    },
    {
     "name": "stderr",
     "output_type": "stream",
     "text": [
      "                                                                \r"
     ]
    },
    {
     "name": "stdout",
     "output_type": "stream",
     "text": [
      "Epoch 14: Current LR: [0.00048767497911552944]\n",
      "Train Loss: 0.54209 Valid Loss: 0.79608 Train Acc:  0.81286 Valid Acc:  0.75522 \n"
     ]
    },
    {
     "name": "stderr",
     "output_type": "stream",
     "text": [
      "                                                                \r"
     ]
    },
    {
     "name": "stdout",
     "output_type": "stream",
     "text": [
      "Epoch 15: Current LR: [0.00046329123015975297]\n",
      "Train Loss: 0.51792 Valid Loss: 0.79549 Train Acc:  0.82376 Valid Acc:  0.74826 \n"
     ]
    },
    {
     "name": "stderr",
     "output_type": "stream",
     "text": [
      "                                                                \r"
     ]
    },
    {
     "name": "stdout",
     "output_type": "stream",
     "text": [
      "Epoch 16: Current LR: [0.0004401266686517653]\n",
      "Train Loss: 0.48887 Valid Loss: 0.81183 Train Acc:  0.83375 Valid Acc:  0.76621 \n"
     ]
    },
    {
     "name": "stderr",
     "output_type": "stream",
     "text": [
      "                                                                \r"
     ]
    },
    {
     "name": "stdout",
     "output_type": "stream",
     "text": [
      "Epoch 17: Current LR: [0.00041812033521917703]\n",
      "Train Loss: 0.46929 Valid Loss: 0.81095 Train Acc:  0.84419 Valid Acc:  0.75889 \n"
     ]
    },
    {
     "name": "stderr",
     "output_type": "stream",
     "text": [
      "                                                                \r"
     ]
    },
    {
     "name": "stdout",
     "output_type": "stream",
     "text": [
      "Epoch 18: Current LR: [0.00039721431845821814]\n",
      "Train Loss: 0.44149 Valid Loss: 0.82377 Train Acc:  0.85271 Valid Acc:  0.75082 \n"
     ]
    },
    {
     "name": "stderr",
     "output_type": "stream",
     "text": [
      "                                                                \r"
     ]
    },
    {
     "name": "stdout",
     "output_type": "stream",
     "text": [
      "Epoch 19: Current LR: [0.0003773536025353072]\n",
      "Train Loss: 0.4165  Valid Loss: 0.82417 Train Acc:  0.85747 Valid Acc:  0.75449 \n"
     ]
    },
    {
     "name": "stderr",
     "output_type": "stream",
     "text": [
      "                                                                \r"
     ]
    },
    {
     "name": "stdout",
     "output_type": "stream",
     "text": [
      "Epoch 20: Current LR: [0.0003584859224085418]\n",
      "Train Loss: 0.39886 Valid Loss: 0.87748 Train Acc:  0.86663 Valid Acc:  0.75742 \n",
      "Model Chekcpoint saved to model/model_stage2.pth\n"
     ]
    },
    {
     "name": "stderr",
     "output_type": "stream",
     "text": [
      "                                                                \r"
     ]
    },
    {
     "name": "stdout",
     "output_type": "stream",
     "text": [
      "Epoch 21: Current LR: [0.0003405616262881147]\n",
      "Train Loss: 0.37406 Valid Loss: 0.87997 Train Acc:  0.86993 Valid Acc:  0.74386 \n"
     ]
    },
    {
     "name": "stderr",
     "output_type": "stream",
     "text": [
      "                                                                \r"
     ]
    },
    {
     "name": "stdout",
     "output_type": "stream",
     "text": [
      "Epoch 22: Current LR: [0.00032353354497370894]\n",
      "Train Loss: 0.36245 Valid Loss: 0.93089 Train Acc:  0.87552 Valid Acc:  0.7358  \n"
     ]
    },
    {
     "name": "stderr",
     "output_type": "stream",
     "text": [
      "                                                                \r"
     ]
    },
    {
     "name": "stdout",
     "output_type": "stream",
     "text": [
      "Epoch 23: Current LR: [0.00030735686772502346]\n",
      "Train Loss: 0.35053 Valid Loss: 0.86338 Train Acc:  0.87955 Valid Acc:  0.74936 \n"
     ]
    },
    {
     "name": "stderr",
     "output_type": "stream",
     "text": [
      "                                                                \r"
     ]
    },
    {
     "name": "stdout",
     "output_type": "stream",
     "text": [
      "Epoch 24: Current LR: [0.00029198902433877225]\n",
      "Train Loss: 0.3158  Valid Loss: 0.93105 Train Acc:  0.89209 Valid Acc:  0.74569 \n"
     ]
    },
    {
     "name": "stderr",
     "output_type": "stream",
     "text": [
      "                                                                \r"
     ]
    },
    {
     "name": "stdout",
     "output_type": "stream",
     "text": [
      "Epoch 25: Current LR: [0.00027738957312183364]\n",
      "Train Loss: 0.29637 Valid Loss: 0.95733 Train Acc:  0.89823 Valid Acc:  0.74093 \n"
     ]
    },
    {
     "name": "stderr",
     "output_type": "stream",
     "text": [
      "                                                                \r"
     ]
    },
    {
     "name": "stdout",
     "output_type": "stream",
     "text": [
      "Epoch 26: Current LR: [0.0002635200944657419]\n",
      "Train Loss: 0.28936 Valid Loss: 0.9683  Train Acc:  0.89979 Valid Acc:  0.74496 \n"
     ]
    },
    {
     "name": "stderr",
     "output_type": "stream",
     "text": [
      "                                                                \r"
     ]
    },
    {
     "name": "stdout",
     "output_type": "stream",
     "text": [
      "Epoch 27: Current LR: [0.0002503440897424548]\n",
      "Train Loss: 0.26705 Valid Loss: 1.02024 Train Acc:  0.91041 Valid Acc:  0.74716 \n"
     ]
    },
    {
     "name": "stderr",
     "output_type": "stream",
     "text": [
      "                                                                \r"
     ]
    },
    {
     "name": "stdout",
     "output_type": "stream",
     "text": [
      "Epoch 28: Current LR: [0.00023782688525533205]\n",
      "Train Loss: 0.26203 Valid Loss: 0.95038 Train Acc:  0.90867 Valid Acc:  0.75046 \n"
     ]
    },
    {
     "name": "stderr",
     "output_type": "stream",
     "text": [
      "                                                                \r"
     ]
    },
    {
     "name": "stdout",
     "output_type": "stream",
     "text": [
      "Epoch 29: Current LR: [0.00022593554099256544]\n",
      "Train Loss: 0.24012 Valid Loss: 0.99107 Train Acc:  0.91674 Valid Acc:  0.75486 \n"
     ]
    },
    {
     "name": "stderr",
     "output_type": "stream",
     "text": [
      "                                                                "
     ]
    },
    {
     "name": "stdout",
     "output_type": "stream",
     "text": [
      "Epoch 30: Current LR: [0.00021463876394293716]\n",
      "Train Loss: 0.23211 Valid Loss: 0.99521 Train Acc:  0.91829 Valid Acc:  0.75559 \n",
      "Model Chekcpoint saved to model/model_stage3.pth\n"
     ]
    },
    {
     "name": "stderr",
     "output_type": "stream",
     "text": [
      "\r"
     ]
    }
   ],
   "source": [
    "# Save model checkpoint every 5 epochs\n",
    "num_stages = 3\n",
    "epoch_per_stage = 10\n",
    "model_path = current_path + \"model/\"\n",
    "\n",
    "# Initialize the logger object\n",
    "logger = {\"train_loss\" : [], \"valid_loss\" : [], \"train_acc\" : [], \"valid_acc\" : []}\n",
    "\n",
    "\n",
    "for stage in range(num_stages):\n",
    "    CNN_train(model, train, valid, epoch_per_stage,\n",
    "              loss_criterion, optimizer, scheduler, logger, True)\n",
    "    model_save_name = model_path + f\"model_stage{stage+1}.pth\"\n",
    "    save_checkpoint(model_save_name, model, optimizer, scheduler, logger)"
   ]
  }
 ],
 "metadata": {
  "kernelspec": {
   "display_name": "Python 3",
   "language": "python",
   "name": "python3"
  },
  "language_info": {
   "codemirror_mode": {
    "name": "ipython",
    "version": 3
   },
   "file_extension": ".py",
   "mimetype": "text/x-python",
   "name": "python",
   "nbconvert_exporter": "python",
   "pygments_lexer": "ipython3",
   "version": "3.9.1"
  }
 },
 "nbformat": 4,
 "nbformat_minor": 5
}
