{
 "cells": [
  {
   "cell_type": "markdown",
   "metadata": {},
   "source": [
    "### Prelimenary EDA"
   ]
  },
  {
   "cell_type": "code",
   "execution_count": 1,
   "metadata": {},
   "outputs": [
    {
     "name": "stdout",
     "output_type": "stream",
     "text": [
      "Length of ais_tracks: 27298\n",
      "Length of radar_tracks: 21725\n",
      "Length of radar_detections: 7387790\n",
      "Length of tagged_detections: 6756272\n",
      "Length of tracks_tagged: 9013\n"
     ]
    }
   ],
   "source": [
    "import pandas as pd\n",
    "import numpy as np\n",
    "import matplotlib.pyplot as plt\n",
    "import seaborn as sns\n",
    "\n",
    "# Define file paths\n",
    "ais_tracks_path = '../data/tracks_ais.csv'\n",
    "radar_tracks_path = '../data/tracks_radar.csv'\n",
    "radar_detections_path = '../data/detections_radar.csv'\n",
    "tagged_detections_path = '../data/detections_tagged.csv'\n",
    "tracks_tagged_path = '../data/tracks_tagged.csv'\n",
    "\n",
    "\n",
    "ais_tracks = pd.read_csv(ais_tracks_path)\n",
    "radar_tracks = pd.read_csv(radar_tracks_path)\n",
    "radar_detections = pd.read_csv(radar_detections_path)\n",
    "tagged_detections = pd.read_csv(tagged_detections_path)\n",
    "tracks_tagged = pd.read_csv(tracks_tagged_path)\n",
    "\n",
    "print(\"Length of ais_tracks:\", len(ais_tracks))\n",
    "print(\"Length of radar_tracks:\", len(radar_tracks))\n",
    "print(\"Length of radar_detections:\", len(radar_detections))\n",
    "print(\"Length of tagged_detections:\", len(tagged_detections))\n",
    "print(\"Length of tracks_tagged:\", len(tracks_tagged))"
   ]
  },
  {
   "cell_type": "code",
   "execution_count": 2,
   "metadata": {},
   "outputs": [
    {
     "name": "stdout",
     "output_type": "stream",
     "text": [
      "<class 'pandas.core.frame.DataFrame'>\n",
      "RangeIndex: 21725 entries, 0 to 21724\n",
      "Data columns (total 27 columns):\n",
      " #   Column        Non-Null Count  Dtype  \n",
      "---  ------        --------------  -----  \n",
      " 0   id_track      21725 non-null  int64  \n",
      " 1   id_site       21725 non-null  int64  \n",
      " 2   id_m2         21725 non-null  object \n",
      " 3   source        21725 non-null  object \n",
      " 4   duration      21529 non-null  float64\n",
      " 5   alarm         21725 non-null  int64  \n",
      " 6   min_speed     21725 non-null  float64\n",
      " 7   max_speed     21725 non-null  float64\n",
      " 8   avg_speed     21529 non-null  float64\n",
      " 9   curviness     21529 non-null  float64\n",
      " 10  heading_mean  21529 non-null  float64\n",
      " 11  heading_std   21529 non-null  float64\n",
      " 12  turning_mean  21529 non-null  float64\n",
      " 13  turning_std   21529 non-null  float64\n",
      " 14  duration_z    21725 non-null  int64  \n",
      " 15  distance      21725 non-null  float64\n",
      " 16  distance_o    21725 non-null  float64\n",
      " 17  assoc_str     21725 non-null  int64  \n",
      " 18  assoc_id      21725 non-null  int64  \n",
      " 19  tagged        21725 non-null  int64  \n",
      " 20  has_photos    21725 non-null  int64  \n",
      " 21  confidence    21725 non-null  float64\n",
      " 22  detections    21725 non-null  int64  \n",
      " 23  sdate         21725 non-null  object \n",
      " 24  stime         21725 non-null  object \n",
      " 25  ldate         21725 non-null  object \n",
      " 26  ltime         21725 non-null  object \n",
      "dtypes: float64(12), int64(9), object(6)\n",
      "memory usage: 4.5+ MB\n"
     ]
    }
   ],
   "source": [
    "radar_tracks.info()"
   ]
  },
  {
   "cell_type": "code",
   "execution_count": 3,
   "metadata": {},
   "outputs": [
    {
     "name": "stdout",
     "output_type": "stream",
     "text": [
      "<class 'pandas.core.frame.DataFrame'>\n",
      "RangeIndex: 27298 entries, 0 to 27297\n",
      "Data columns (total 40 columns):\n",
      " #   Column        Non-Null Count  Dtype  \n",
      "---  ------        --------------  -----  \n",
      " 0   id_track      27298 non-null  int64  \n",
      " 1   id_site       27298 non-null  int64  \n",
      " 2   id_m2         27298 non-null  object \n",
      " 3   source        27298 non-null  object \n",
      " 4   duration      27150 non-null  float64\n",
      " 5   alarm         27298 non-null  int64  \n",
      " 6   min_speed     27298 non-null  float64\n",
      " 7   max_speed     27298 non-null  float64\n",
      " 8   avg_speed     27150 non-null  float64\n",
      " 9   curviness     27150 non-null  float64\n",
      " 10  heading_mean  27150 non-null  float64\n",
      " 11  heading_std   27150 non-null  float64\n",
      " 12  turning_mean  27150 non-null  float64\n",
      " 13  turning_std   27150 non-null  float64\n",
      " 14  duration_z    27298 non-null  int64  \n",
      " 15  distance      27298 non-null  float64\n",
      " 16  distance_o    27298 non-null  float64\n",
      " 17  assoc_str     27298 non-null  int64  \n",
      " 18  assoc_id      27298 non-null  int64  \n",
      " 19  tagged        27298 non-null  int64  \n",
      " 20  has_photos    27298 non-null  int64  \n",
      " 21  confidence    27298 non-null  int64  \n",
      " 22  detections    27298 non-null  int64  \n",
      " 23  mmsi          23321 non-null  float64\n",
      " 24  type          23321 non-null  float64\n",
      " 25  dim_a         23321 non-null  float64\n",
      " 26  dim_b         23321 non-null  float64\n",
      " 27  dim_c         23321 non-null  float64\n",
      " 28  dim_d         23321 non-null  float64\n",
      " 29  draft         23289 non-null  float64\n",
      " 30  dest          20377 non-null  object \n",
      " 31  eta_month     23289 non-null  float64\n",
      " 32  eta_day       23289 non-null  float64\n",
      " 33  eta_hour      23289 non-null  float64\n",
      " 34  eta_minute    23289 non-null  float64\n",
      " 35  type_m2       27298 non-null  object \n",
      " 36  sdate         27298 non-null  object \n",
      " 37  stime         27298 non-null  object \n",
      " 38  ldate         27298 non-null  object \n",
      " 39  ltime         27298 non-null  object \n",
      "dtypes: float64(22), int64(10), object(8)\n",
      "memory usage: 8.3+ MB\n"
     ]
    }
   ],
   "source": [
    "ais_tracks.info()"
   ]
  },
  {
   "cell_type": "code",
   "execution_count": 4,
   "metadata": {},
   "outputs": [
    {
     "name": "stdout",
     "output_type": "stream",
     "text": [
      "<class 'pandas.core.frame.DataFrame'>\n",
      "RangeIndex: 9013 entries, 0 to 9012\n",
      "Data columns (total 47 columns):\n",
      " #   Column        Non-Null Count  Dtype  \n",
      "---  ------        --------------  -----  \n",
      " 0   id_track      9013 non-null   int64  \n",
      " 1   id_site       9013 non-null   int64  \n",
      " 2   id_m2         9013 non-null   object \n",
      " 3   source        9013 non-null   object \n",
      " 4   duration      9013 non-null   int64  \n",
      " 5   alarm         9013 non-null   int64  \n",
      " 6   min_speed     9013 non-null   float64\n",
      " 7   max_speed     9013 non-null   float64\n",
      " 8   avg_speed     9013 non-null   float64\n",
      " 9   curviness     9013 non-null   float64\n",
      " 10  heading_mean  9013 non-null   float64\n",
      " 11  heading_std   9013 non-null   float64\n",
      " 12  turning_mean  9013 non-null   float64\n",
      " 13  turning_std   9013 non-null   float64\n",
      " 14  duration_z    9013 non-null   int64  \n",
      " 15  distance      9013 non-null   float64\n",
      " 16  distance_o    9013 non-null   float64\n",
      " 17  assoc_str     191 non-null    float64\n",
      " 18  assoc_id      191 non-null    float64\n",
      " 19  tagged        9013 non-null   int64  \n",
      " 20  has_photos    9013 non-null   int64  \n",
      " 21  confidence    9013 non-null   float64\n",
      " 22  detections    9006 non-null   float64\n",
      " 23  sdate         9013 non-null   object \n",
      " 24  stime         9013 non-null   object \n",
      " 25  ldate         9013 non-null   object \n",
      " 26  ltime         9013 non-null   object \n",
      " 27  user_id       9013 non-null   int64  \n",
      " 28  valid         9013 non-null   int64  \n",
      " 29  type          9013 non-null   object \n",
      " 30  notes         1009 non-null   object \n",
      " 31  transit       9013 non-null   int64  \n",
      " 32  overnight     9013 non-null   int64  \n",
      " 33  loiter        9013 non-null   int64  \n",
      " 34  cleanup       9013 non-null   int64  \n",
      " 35  fishing_c     9013 non-null   int64  \n",
      " 36  fishing_r     9013 non-null   int64  \n",
      " 37  research      9013 non-null   int64  \n",
      " 38  diving        9013 non-null   int64  \n",
      " 39  repairs       9013 non-null   int64  \n",
      " 40  distress      9013 non-null   int64  \n",
      " 41  other         9013 non-null   int64  \n",
      " 42  miss_ais      9013 non-null   int64  \n",
      " 43  violation     9013 non-null   int64  \n",
      " 44  le_contact    9013 non-null   int64  \n",
      " 45  tdate         9013 non-null   object \n",
      " 46  ttime         9013 non-null   object \n",
      "dtypes: float64(14), int64(23), object(10)\n",
      "memory usage: 3.2+ MB\n"
     ]
    }
   ],
   "source": [
    "tracks_tagged.info()"
   ]
  },
  {
   "cell_type": "markdown",
   "metadata": {},
   "source": [
    "There might be many-to-one relationship for radar-ais matching:"
   ]
  },
  {
   "cell_type": "code",
   "execution_count": 5,
   "metadata": {},
   "outputs": [
    {
     "name": "stdout",
     "output_type": "stream",
     "text": [
      "16892 16796\n"
     ]
    }
   ],
   "source": [
    "matched_ais_ids = list(set(ais_tracks[\"id_track\"]) & set(radar_tracks[\"assoc_id\"]))\n",
    "matched_radar_ids = list(set(radar_tracks[\"id_track\"]) & set(ais_tracks[\"assoc_id\"]))\n",
    "print(len(matched_ais_ids), len(matched_radar_ids))"
   ]
  },
  {
   "cell_type": "code",
   "execution_count": 6,
   "metadata": {},
   "outputs": [
    {
     "name": "stdout",
     "output_type": "stream",
     "text": [
      "Number of radar tracks with no matching:  1449\n",
      "Number of AIS records with 0  matching radar records: 10406   \n",
      "Number of AIS records with 1  matching radar records: 14517   \n",
      "Number of AIS records with 2  matching radar records: 1805    \n",
      "Number of AIS records with 3  matching radar records: 320     \n",
      "Number of AIS records with 4  matching radar records: 159     \n",
      "Number of AIS records with 5  matching radar records: 50      \n",
      "Number of AIS records with 6  matching radar records: 24      \n",
      "Number of AIS records with 7  matching radar records: 4       \n",
      "Number of AIS records with 8  matching radar records: 5       \n",
      "Number of AIS records with 9  matching radar records: 5       \n",
      "Number of AIS records with 10 matching radar records: 1       \n",
      "Number of AIS records with 11 matching radar records: 1       \n",
      "Number of AIS records with 25 matching radar records: 1       \n"
     ]
    }
   ],
   "source": [
    "# Investigate if multiple radar records are matched to the same ais record:\n",
    "AIS_matchings = dict.fromkeys(set(ais_tracks[\"id_track\"]), 0)\n",
    "num_radar_tracks_no_match = 0\n",
    "for ais_id in radar_tracks[\"assoc_id\"]:\n",
    "    if ais_id not in AIS_matchings:\n",
    "        num_radar_tracks_no_match += 1 \n",
    "    else:\n",
    "        AIS_matchings[ais_id] += 1\n",
    "print(\"Number of radar tracks with no matching: \", num_radar_tracks_no_match)\n",
    "AIS_match_frequency = dict()\n",
    "for v in AIS_matchings.values():\n",
    "    AIS_match_frequency[v] = AIS_match_frequency.get(v, 0) + 1\n",
    "for k in sorted(AIS_match_frequency.keys()):\n",
    "    print(\"Number of AIS records with {:<2} matching radar records: {:<8}\".format(k, AIS_match_frequency[k]))"
   ]
  },
  {
   "cell_type": "code",
   "execution_count": 7,
   "metadata": {},
   "outputs": [
    {
     "name": "stdout",
     "output_type": "stream",
     "text": [
      "Number of ais tracks with no matching:  9973\n",
      "Number of radar records with 0  matching AIS records: 4929    \n",
      "Number of radar records with 1  matching AIS records: 16334   \n",
      "Number of radar records with 2  matching AIS records: 416     \n",
      "Number of radar records with 3  matching AIS records: 34      \n",
      "Number of radar records with 4  matching AIS records: 8       \n",
      "Number of radar records with 5  matching AIS records: 1       \n",
      "Number of radar records with 6  matching AIS records: 2       \n",
      "Number of radar records with 8  matching AIS records: 1       \n"
     ]
    }
   ],
   "source": [
    "# Investigate if multiple ais records are matched to the same radar records:\n",
    "radar_matchings = dict.fromkeys(set(radar_tracks[\"id_track\"]), 0)\n",
    "num_ais_tracks_no_match = 0\n",
    "for radar_id in ais_tracks[\"assoc_id\"]:\n",
    "    if radar_id not in radar_matchings:\n",
    "        num_ais_tracks_no_match += 1 \n",
    "    else:\n",
    "        radar_matchings[radar_id] += 1\n",
    "print(\"Number of ais tracks with no matching: \", num_ais_tracks_no_match)\n",
    "radar_match_frequency = dict()\n",
    "for v in radar_matchings.values():\n",
    "    radar_match_frequency[v] = radar_match_frequency.get(v, 0) + 1\n",
    "for k in sorted(radar_match_frequency.keys()):\n",
    "    print(\"Number of radar records with {:<2} matching AIS records: {:<8}\".format(k, radar_match_frequency[k]))"
   ]
  },
  {
   "cell_type": "code",
   "execution_count": 8,
   "metadata": {},
   "outputs": [
    {
     "name": "stdout",
     "output_type": "stream",
     "text": [
      "Number of tagged tracks with no matching:  9000\n",
      "Number of AIS records with 0  matching radar records: 27285   \n",
      "Number of AIS records with 1  matching radar records: 13      \n",
      "Number of ais tracks with no matching:  27162\n",
      "Number of radar records with 0  matching AIS records: 8885    \n",
      "Number of radar records with 1  matching AIS records: 120     \n",
      "Number of radar records with 2  matching AIS records: 8       \n"
     ]
    }
   ],
   "source": [
    "# Investigate matching from the tagged tracking data\n",
    "AIS_matchings = dict.fromkeys(set(ais_tracks[\"id_track\"]), 0)\n",
    "num_radar_tracks_no_match = 0\n",
    "for ais_id in tracks_tagged[\"assoc_id\"]:\n",
    "    if ais_id not in AIS_matchings:\n",
    "        num_radar_tracks_no_match += 1 \n",
    "    else:\n",
    "        AIS_matchings[ais_id] += 1\n",
    "print(\"Number of tagged tracks with no matching: \", num_radar_tracks_no_match)\n",
    "AIS_match_frequency = dict()\n",
    "for v in AIS_matchings.values():\n",
    "    AIS_match_frequency[v] = AIS_match_frequency.get(v, 0) + 1\n",
    "for k in sorted(AIS_match_frequency.keys()):\n",
    "    print(\"Number of AIS records with {:<2} matching radar records: {:<8}\".format(k, AIS_match_frequency[k]))\n",
    "    \n",
    "\n",
    "radar_matchings = dict.fromkeys(set(tracks_tagged[\"id_track\"]), 0)\n",
    "num_ais_tracks_no_match = 0\n",
    "for radar_id in ais_tracks[\"assoc_id\"]:\n",
    "    if radar_id not in radar_matchings:\n",
    "        num_ais_tracks_no_match += 1 \n",
    "    else:\n",
    "        radar_matchings[radar_id] += 1\n",
    "print(\"Number of ais tracks with no matching: \", num_ais_tracks_no_match)\n",
    "radar_match_frequency = dict()\n",
    "for v in radar_matchings.values():\n",
    "    radar_match_frequency[v] = radar_match_frequency.get(v, 0) + 1\n",
    "for k in sorted(radar_match_frequency.keys()):\n",
    "    print(\"Number of radar records with {:<2} matching AIS records: {:<8}\".format(k, radar_match_frequency[k]))"
   ]
  },
  {
   "cell_type": "code",
   "execution_count": 9,
   "metadata": {},
   "outputs": [
    {
     "data": {
      "text/plain": [
       "591"
      ]
     },
     "execution_count": 9,
     "metadata": {},
     "output_type": "execute_result"
    }
   ],
   "source": [
    "# Compute the number of records with valid activity tag: \n",
    "np.count_nonzero(np.sum(tracks_tagged[[\"transit\", \"overnight\", \"loiter\", \"cleanup\", \"fishing_c\", \"fishing_r\", \"research\", \"diving\", \"repairs\", \"distress\", \"other\"]].to_numpy(), axis = 1))"
   ]
  },
  {
   "cell_type": "markdown",
   "metadata": {},
   "source": [
    "Trajectory Detection Data"
   ]
  },
  {
   "cell_type": "code",
   "execution_count": 10,
   "metadata": {},
   "outputs": [
    {
     "name": "stdout",
     "output_type": "stream",
     "text": [
      "Detection Tracks 19947, Track Tracks 21725,      Shared Tracks 19947\n"
     ]
    }
   ],
   "source": [
    "ids_from_detection = radar_detections[\"id_track\"].unique()\n",
    "ids_from_tracks = radar_tracks[\"id_track\"].unique()\n",
    "print(f\"Detection Tracks {len(ids_from_detection)}, Track Tracks {len(ids_from_tracks)},\\\n",
    "      Shared Tracks {len(set(ids_from_detection) & set(ids_from_tracks))}\")"
   ]
  },
  {
   "cell_type": "markdown",
   "metadata": {},
   "source": [
    "### Linking AIS Records with Radar Records\n",
    "\n",
    "From the analysis above, it seems that all tracks in the radar detection file has a corresponding record in the radar track file.\n",
    "However, there are some tracks in the radar track file with no corresponding detection trajectory in the radar detection file."
   ]
  },
  {
   "cell_type": "code",
   "execution_count": 11,
   "metadata": {},
   "outputs": [
    {
     "name": "stdout",
     "output_type": "stream",
     "text": [
      "<class 'pandas.core.frame.DataFrame'>\n",
      "Index: 19947 entries, 5 to 21724\n",
      "Data columns (total 27 columns):\n",
      " #   Column        Non-Null Count  Dtype  \n",
      "---  ------        --------------  -----  \n",
      " 0   id_track      19947 non-null  int64  \n",
      " 1   id_site       19947 non-null  int64  \n",
      " 2   id_m2         19947 non-null  object \n",
      " 3   source        19947 non-null  object \n",
      " 4   duration      19751 non-null  float64\n",
      " 5   alarm         19947 non-null  int64  \n",
      " 6   min_speed     19947 non-null  float64\n",
      " 7   max_speed     19947 non-null  float64\n",
      " 8   avg_speed     19751 non-null  float64\n",
      " 9   curviness     19751 non-null  float64\n",
      " 10  heading_mean  19751 non-null  float64\n",
      " 11  heading_std   19751 non-null  float64\n",
      " 12  turning_mean  19751 non-null  float64\n",
      " 13  turning_std   19751 non-null  float64\n",
      " 14  duration_z    19947 non-null  int64  \n",
      " 15  distance      19947 non-null  float64\n",
      " 16  distance_o    19947 non-null  float64\n",
      " 17  assoc_str     19947 non-null  int64  \n",
      " 18  assoc_id      19947 non-null  int64  \n",
      " 19  tagged        19947 non-null  int64  \n",
      " 20  has_photos    19947 non-null  int64  \n",
      " 21  confidence    19947 non-null  float64\n",
      " 22  detections    19947 non-null  int64  \n",
      " 23  sdate         19947 non-null  object \n",
      " 24  stime         19947 non-null  object \n",
      " 25  ldate         19947 non-null  object \n",
      " 26  ltime         19947 non-null  object \n",
      "dtypes: float64(12), int64(9), object(6)\n",
      "memory usage: 4.3+ MB\n"
     ]
    }
   ],
   "source": [
    "tracks_with_detection = radar_tracks[radar_tracks[\"id_track\"].isin(ids_from_detection)]\n",
    "tracks_with_detection.info()"
   ]
  },
  {
   "cell_type": "code",
   "execution_count": 12,
   "metadata": {},
   "outputs": [
    {
     "name": "stdout",
     "output_type": "stream",
     "text": [
      "<class 'pandas.core.frame.DataFrame'>\n",
      "Index: 19535 entries, 5 to 21724\n",
      "Data columns (total 22 columns):\n",
      " #   Column        Non-Null Count  Dtype  \n",
      "---  ------        --------------  -----  \n",
      " 0   id_track      19535 non-null  int64  \n",
      " 1   id_site       19535 non-null  int64  \n",
      " 2   duration      19348 non-null  float64\n",
      " 3   min_speed     19535 non-null  float64\n",
      " 4   max_speed     19535 non-null  float64\n",
      " 5   avg_speed     19348 non-null  float64\n",
      " 6   curviness     19348 non-null  float64\n",
      " 7   heading_mean  19348 non-null  float64\n",
      " 8   heading_std   19348 non-null  float64\n",
      " 9   turning_mean  19348 non-null  float64\n",
      " 10  turning_std   19348 non-null  float64\n",
      " 11  duration_z    19535 non-null  int64  \n",
      " 12  distance      19535 non-null  float64\n",
      " 13  distance_o    19535 non-null  float64\n",
      " 14  assoc_str     19535 non-null  int64  \n",
      " 15  assoc_id      19535 non-null  int64  \n",
      " 16  confidence    19535 non-null  float64\n",
      " 17  detections    19535 non-null  int64  \n",
      " 18  sdate         19535 non-null  object \n",
      " 19  stime         19535 non-null  object \n",
      " 20  ldate         19535 non-null  object \n",
      " 21  ltime         19535 non-null  object \n",
      "dtypes: float64(12), int64(6), object(4)\n",
      "memory usage: 3.4+ MB\n"
     ]
    }
   ],
   "source": [
    "# Do some preliminary cleaning for the radar tracks:\n",
    "# * Removes all tracks with less than 50 detection points\n",
    "# * Removes irrelevant columns\n",
    "track_radar_data = tracks_with_detection.drop(columns=[\"id_m2\", \"source\", \"alarm\", \"tagged\", \"has_photos\"])\n",
    "track_radar_data = track_radar_data[track_radar_data[\"detections\"] >= 50]\n",
    "track_radar_data.info()"
   ]
  },
  {
   "cell_type": "markdown",
   "metadata": {},
   "source": [
    "#### Struct for Linking Radar Records with AIS Records\n",
    "Remarks\n",
    "* We allow many radar tracks to be matched to one AIS track\n",
    "* We only allow one AIS track to be assigned to each radar track."
   ]
  },
  {
   "cell_type": "code",
   "execution_count": 13,
   "metadata": {},
   "outputs": [],
   "source": [
    "from tqdm import tqdm\n",
    "class LinkData():\n",
    "    def __init__(self, radar_data, AIS_data):\n",
    "        self.radar = radar_data\n",
    "        self.ais = AIS_data\n",
    "\n",
    "        self.counter = {\n",
    "            \"ais <-> radar\" : 0,    # Bi-directional link between ais candidate and radar record code (1)\n",
    "            \"ais --> radar\" : 0,    # Associated an AIS record pointing at radar, but radar does not point to the same AIS record code (2)\n",
    "            \"ais <-- radar\" : 0,    # Radar points to an AIS, but no AIS points back to radar code (3)\n",
    "            \"ais -x- radar\" : 0     # No Association what so ever... code (0)\n",
    "        }\n",
    "        # Staged constants\n",
    "        self.ais_ids = set(self.ais[\"id_track\"])    # A set of all valid AIS ids\n",
    "        self.linked_ids = pd.array([0] * len(self.radar), dtype = pd.Int64Dtype())\n",
    "                                   # A column corresponding to the linked AIS ids for radar tracks\n",
    "        self.linked_types = pd.array([0] * len(self.radar))\n",
    "        \n",
    "    def _link_function(self, row:pd.Series):\n",
    "        \"\"\"\n",
    "        For each row / record in the radar dataset, attempts to find an AIS record \n",
    "        that matches with the radar record.\n",
    "        \"\"\"\n",
    "        radar_track_id = row[\"id_track\"]        # Radar Track ID\n",
    "        assoc_id_in_radar = row[\"assoc_id\"]     # AIS ID Radar is pointing to\n",
    "        \n",
    "        # Query all AIS records pointing to the radar record.\n",
    "        ais_assoc = self.ais[self.ais[\"assoc_id\"] == radar_track_id]\n",
    "        \n",
    "        # No AIS record points to the radar record, but see if the radar record points to a valid AIS record:\n",
    "        if len(ais_assoc) == 0:\n",
    "            if assoc_id_in_radar not in self.ais_ids:\n",
    "                self.counter[\"ais -x- radar\"] += 1\n",
    "                return pd.NA, 0\n",
    "            # link the pointed ais record.\n",
    "            self.counter[\"ais <-- radar\"] += 1\n",
    "            return assoc_id_in_radar, 3\n",
    "        # In case there are multiple AIS records pointing to the radar record, \n",
    "        # Get the AIS ID with the strongest association id.\n",
    "        ais_assoc = ais_assoc.sort_values(by = [\"assoc_str\"], ascending = False)\n",
    "        ais_candidate = ais_assoc.iloc[0][\"id_track\"]\n",
    "        # Check if the ais_candidate agrees with the assoc_id\n",
    "        if assoc_id_in_radar == ais_candidate:\n",
    "            self.counter[\"ais <-> radar\"] += 1\n",
    "            return ais_candidate, 1\n",
    "        else:\n",
    "            self.counter[\"ais --> radar\"] += 1\n",
    "            return ais_candidate, 2\n",
    "    \n",
    "    def apply(self):\n",
    "        \"\"\"\n",
    "        Apply Linking for the radar data\n",
    "        \"\"\"\n",
    "        for i in tqdm(range(len(self.radar))):\n",
    "            self.linked_ids[i], self.linked_types = self._link_function(self.radar.iloc[i])\n",
    "        return\n",
    "    \n",
    "    def report(self):\n",
    "        \"\"\"\n",
    "        Report the linking result\n",
    "        \"\"\" \n",
    "        for k, v in self.counter.items():\n",
    "            print(f\"{k} : {v} / {len(self.radar)}\")\n",
    "        \n",
    "    def get_result(self):\n",
    "        return self.linked_ids\n",
    "    \n",
    "    def get_lined_stats(self):\n",
    "        return self.linked_types"
   ]
  },
  {
   "cell_type": "code",
   "execution_count": 14,
   "metadata": {},
   "outputs": [],
   "source": [
    "link = LinkData(track_radar_data, ais_tracks)"
   ]
  },
  {
   "cell_type": "code",
   "execution_count": 15,
   "metadata": {},
   "outputs": [
    {
     "name": "stderr",
     "output_type": "stream",
     "text": [
      "100%|██████████| 19535/19535 [00:10<00:00, 1831.25it/s]\n"
     ]
    }
   ],
   "source": [
    "link.apply()"
   ]
  },
  {
   "cell_type": "code",
   "execution_count": 16,
   "metadata": {},
   "outputs": [
    {
     "name": "stdout",
     "output_type": "stream",
     "text": [
      "ais <-> radar : 15068 / 19535\n",
      "ais --> radar : 141 / 19535\n",
      "ais <-- radar : 3139 / 19535\n",
      "ais -x- radar : 1187 / 19535\n"
     ]
    }
   ],
   "source": [
    "link.report()"
   ]
  },
  {
   "cell_type": "markdown",
   "metadata": {},
   "source": [
    "We expect most of the links would be one-to-one association."
   ]
  },
  {
   "cell_type": "code",
   "execution_count": 17,
   "metadata": {},
   "outputs": [
    {
     "data": {
      "text/plain": [
       "18348"
      ]
     },
     "execution_count": 17,
     "metadata": {},
     "output_type": "execute_result"
    }
   ],
   "source": [
    "track_radar_data[\"ais_id\"] = link.get_result()\n",
    "radar_linked = track_radar_data[track_radar_data[\"ais_id\"].notnull()]\n",
    "len(radar_linked)"
   ]
  },
  {
   "cell_type": "markdown",
   "metadata": {},
   "source": [
    "### Investigating correctness of summary statistics computation"
   ]
  },
  {
   "cell_type": "markdown",
   "metadata": {},
   "source": [
    "Investigate the summary statistics issues between linked radar and ais tracks"
   ]
  },
  {
   "cell_type": "code",
   "execution_count": 18,
   "metadata": {},
   "outputs": [],
   "source": [
    "from utils.track_summary import *\n",
    "\n",
    "detections_cleaned = pd.read_csv(\"../data/detections_radar_cached.csv\")\n",
    "summary_generator = SumStats(detections_cleaned)\n",
    "\n",
    "summary_columns = [\n",
    "            \"duration\"  ,\n",
    "            \"max_speed\"  ,  \n",
    "            \"min_speed\"   , \n",
    "            \"avg_speed\"    , \n",
    "            \"curviness\"    ,\n",
    "            \"heading_mean\"  ,\n",
    "            \"heading_std\"  ,\n",
    "            \"turning_mean\"  ,\n",
    "            \"turning_std\"  ,\n",
    "            \"distance\"     ,\n",
    "            \"distance_o\"   ,\n",
    "            \"detections\"   \n",
    "]"
   ]
  },
  {
   "cell_type": "code",
   "execution_count": 26,
   "metadata": {},
   "outputs": [
    {
     "data": {
      "text/html": [
       "<div>\n",
       "<style scoped>\n",
       "    .dataframe tbody tr th:only-of-type {\n",
       "        vertical-align: middle;\n",
       "    }\n",
       "\n",
       "    .dataframe tbody tr th {\n",
       "        vertical-align: top;\n",
       "    }\n",
       "\n",
       "    .dataframe thead th {\n",
       "        text-align: right;\n",
       "    }\n",
       "</style>\n",
       "<table border=\"1\" class=\"dataframe\">\n",
       "  <thead>\n",
       "    <tr style=\"text-align: right;\">\n",
       "      <th></th>\n",
       "      <th>duration</th>\n",
       "      <th>max_speed</th>\n",
       "      <th>min_speed</th>\n",
       "      <th>avg_speed</th>\n",
       "      <th>curviness</th>\n",
       "      <th>heading_mean</th>\n",
       "      <th>heading_std</th>\n",
       "      <th>turning_mean</th>\n",
       "      <th>turning_std</th>\n",
       "      <th>distance</th>\n",
       "      <th>distance_o</th>\n",
       "      <th>detections</th>\n",
       "    </tr>\n",
       "  </thead>\n",
       "  <tbody>\n",
       "    <tr>\n",
       "      <th>radar</th>\n",
       "      <td>2472.0</td>\n",
       "      <td>20.0</td>\n",
       "      <td>15.2</td>\n",
       "      <td>18.308571</td>\n",
       "      <td>1.087463</td>\n",
       "      <td>179.553543</td>\n",
       "      <td>0.312571</td>\n",
       "      <td>1.304509</td>\n",
       "      <td>18.42876</td>\n",
       "      <td>24.026622</td>\n",
       "      <td>22.094205</td>\n",
       "      <td>378</td>\n",
       "    </tr>\n",
       "    <tr>\n",
       "      <th>radar_computed</th>\n",
       "      <td>2466.0</td>\n",
       "      <td>20.0</td>\n",
       "      <td>15.2</td>\n",
       "      <td>18.308571</td>\n",
       "      <td>1.087447</td>\n",
       "      <td>179.553543</td>\n",
       "      <td>0.312571</td>\n",
       "      <td>1.304509</td>\n",
       "      <td>18.42876</td>\n",
       "      <td>24.026327</td>\n",
       "      <td>22.094248</td>\n",
       "      <td>378.0</td>\n",
       "    </tr>\n",
       "    <tr>\n",
       "      <th>ais</th>\n",
       "      <td>5094.0</td>\n",
       "      <td>18.8</td>\n",
       "      <td>9.5</td>\n",
       "      <td>16.188831</td>\n",
       "      <td>1.277852</td>\n",
       "      <td>-159.203513</td>\n",
       "      <td>0.680265</td>\n",
       "      <td>1.471354</td>\n",
       "      <td>18.186225</td>\n",
       "      <td>39.34431</td>\n",
       "      <td>30.789415</td>\n",
       "      <td>385</td>\n",
       "    </tr>\n",
       "  </tbody>\n",
       "</table>\n",
       "</div>"
      ],
      "text/plain": [
       "               duration max_speed min_speed  avg_speed curviness heading_mean  \\\n",
       "radar            2472.0      20.0      15.2  18.308571  1.087463   179.553543   \n",
       "radar_computed   2466.0      20.0      15.2  18.308571  1.087447   179.553543   \n",
       "ais              5094.0      18.8       9.5  16.188831  1.277852  -159.203513   \n",
       "\n",
       "               heading_std turning_mean turning_std   distance distance_o  \\\n",
       "radar             0.312571     1.304509    18.42876  24.026622  22.094205   \n",
       "radar_computed    0.312571     1.304509    18.42876  24.026327  22.094248   \n",
       "ais               0.680265     1.471354   18.186225   39.34431  30.789415   \n",
       "\n",
       "               detections  \n",
       "radar                 378  \n",
       "radar_computed      378.0  \n",
       "ais                   385  "
      ]
     },
     "execution_count": 26,
     "metadata": {},
     "output_type": "execute_result"
    }
   ],
   "source": [
    "# Generate a random index to investigate\n",
    "i = np.random.randint(0, len(radar_linked))\n",
    "tr = radar_linked.iloc[i]\n",
    "ta = ais_tracks[ais_tracks[\"id_track\"] == tr[\"ais_id\"]].iloc[0]\n",
    "tr_recompute = summary_generator(tr[\"id_track\"])\n",
    "tmp = np.vstack( (tr[summary_columns],tr_recompute, ta[summary_columns], ) )\n",
    "pd.DataFrame(tmp, columns = summary_columns, index=[\"radar\", \"radar_computed\", \"ais \"])"
   ]
  },
  {
   "cell_type": "code",
   "execution_count": null,
   "metadata": {},
   "outputs": [],
   "source": []
  }
 ],
 "metadata": {
  "kernelspec": {
   "display_name": "Python 3",
   "language": "python",
   "name": "python3"
  },
  "language_info": {
   "codemirror_mode": {
    "name": "ipython",
    "version": 3
   },
   "file_extension": ".py",
   "mimetype": "text/x-python",
   "name": "python",
   "nbconvert_exporter": "python",
   "pygments_lexer": "ipython3",
   "version": "3.9.1"
  }
 },
 "nbformat": 4,
 "nbformat_minor": 2
}
