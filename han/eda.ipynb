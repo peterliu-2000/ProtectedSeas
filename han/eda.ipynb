{
 "cells": [
  {
   "cell_type": "markdown",
   "metadata": {},
   "source": [
    "### Data Import"
   ]
  },
  {
   "cell_type": "code",
   "execution_count": 1,
   "metadata": {},
   "outputs": [
    {
     "name": "stdout",
     "output_type": "stream",
     "text": [
      "Length of ais_tracks: 27298\n",
      "Length of radar_tracks: 21725\n",
      "Length of radar_detections: 7387790\n",
      "Length of tagged_detections: 6756272\n",
      "Length of tracks_tagged: 9013\n"
     ]
    }
   ],
   "source": [
    "import pandas as pd\n",
    "import numpy as np\n",
    "import matplotlib.pyplot as plt\n",
    "import seaborn as sns\n",
    "\n",
    "# Define file paths\n",
    "ais_tracks_path = '../data/tracks_ais.csv'\n",
    "radar_tracks_path = '../data/tracks_radar.csv'\n",
    "radar_detections_path = '../data/detections_radar.csv'\n",
    "tagged_detections_path = '../data/detections_tagged.csv'\n",
    "tracks_tagged_path = '../data/tracks_tagged.csv'\n",
    "\n",
    "ais_tracks = pd.read_csv(ais_tracks_path)\n",
    "radar_tracks = pd.read_csv(radar_tracks_path)\n",
    "radar_detections = pd.read_csv(radar_detections_path)\n",
    "tagged_detections = pd.read_csv(tagged_detections_path)\n",
    "tracks_tagged = pd.read_csv(tracks_tagged_path)\n",
    "\n",
    "print(\"Length of ais_tracks:\", len(ais_tracks))\n",
    "print(\"Length of radar_tracks:\", len(radar_tracks))\n",
    "print(\"Length of radar_detections:\", len(radar_detections))\n",
    "print(\"Length of tagged_detections:\", len(tagged_detections))\n",
    "print(\"Length of tracks_tagged:\", len(tracks_tagged))"
   ]
  },
  {
   "cell_type": "code",
   "execution_count": 36,
   "metadata": {},
   "outputs": [
    {
     "name": "stdout",
     "output_type": "stream",
     "text": [
      "<class 'pandas.core.frame.DataFrame'>\n",
      "RangeIndex: 21725 entries, 0 to 21724\n",
      "Data columns (total 27 columns):\n",
      " #   Column        Non-Null Count  Dtype  \n",
      "---  ------        --------------  -----  \n",
      " 0   id_track      21725 non-null  int64  \n",
      " 1   id_site       21725 non-null  int64  \n",
      " 2   id_m2         21725 non-null  object \n",
      " 3   source        21725 non-null  object \n",
      " 4   duration      21529 non-null  float64\n",
      " 5   alarm         21725 non-null  int64  \n",
      " 6   min_speed     21725 non-null  float64\n",
      " 7   max_speed     21725 non-null  float64\n",
      " 8   avg_speed     21529 non-null  float64\n",
      " 9   curviness     21529 non-null  float64\n",
      " 10  heading_mean  21529 non-null  float64\n",
      " 11  heading_std   21529 non-null  float64\n",
      " 12  turning_mean  21529 non-null  float64\n",
      " 13  turning_std   21529 non-null  float64\n",
      " 14  duration_z    21725 non-null  int64  \n",
      " 15  distance      21725 non-null  float64\n",
      " 16  distance_o    21725 non-null  float64\n",
      " 17  assoc_str     21725 non-null  int64  \n",
      " 18  assoc_id      21725 non-null  int64  \n",
      " 19  tagged        21725 non-null  int64  \n",
      " 20  has_photos    21725 non-null  int64  \n",
      " 21  confidence    21725 non-null  float64\n",
      " 22  detections    21725 non-null  int64  \n",
      " 23  sdate         21725 non-null  object \n",
      " 24  stime         21725 non-null  object \n",
      " 25  ldate         21725 non-null  object \n",
      " 26  ltime         21725 non-null  object \n",
      "dtypes: float64(12), int64(9), object(6)\n",
      "memory usage: 4.5+ MB\n"
     ]
    }
   ],
   "source": [
    "radar_tracks.info()"
   ]
  },
  {
   "cell_type": "code",
   "execution_count": null,
   "metadata": {},
   "outputs": [
    {
     "name": "stdout",
     "output_type": "stream",
     "text": [
      "<class 'pandas.core.frame.DataFrame'>\n",
      "RangeIndex: 27298 entries, 0 to 27297\n",
      "Data columns (total 40 columns):\n",
      " #   Column        Non-Null Count  Dtype  \n",
      "---  ------        --------------  -----  \n",
      " 0   id_track      27298 non-null  int64  \n",
      " 1   id_site       27298 non-null  int64  \n",
      " 2   id_m2         27298 non-null  object \n",
      " 3   source        27298 non-null  object \n",
      " 4   duration      27150 non-null  float64\n",
      " 5   alarm         27298 non-null  int64  \n",
      " 6   min_speed     27298 non-null  float64\n",
      " 7   max_speed     27298 non-null  float64\n",
      " 8   avg_speed     27150 non-null  float64\n",
      " 9   curviness     27150 non-null  float64\n",
      " 10  heading_mean  27150 non-null  float64\n",
      " 11  heading_std   27150 non-null  float64\n",
      " 12  turning_mean  27150 non-null  float64\n",
      " 13  turning_std   27150 non-null  float64\n",
      " 14  duration_z    27298 non-null  int64  \n",
      " 15  distance      27298 non-null  float64\n",
      " 16  distance_o    27298 non-null  float64\n",
      " 17  assoc_str     27298 non-null  int64  \n",
      " 18  assoc_id      27298 non-null  int64  \n",
      " 19  tagged        27298 non-null  int64  \n",
      " 20  has_photos    27298 non-null  int64  \n",
      " 21  confidence    27298 non-null  int64  \n",
      " 22  detections    27298 non-null  int64  \n",
      " 23  mmsi          23321 non-null  float64\n",
      " 24  type          23321 non-null  float64\n",
      " 25  dim_a         23321 non-null  float64\n",
      " 26  dim_b         23321 non-null  float64\n",
      " 27  dim_c         23321 non-null  float64\n",
      " 28  dim_d         23321 non-null  float64\n",
      " 29  draft         23289 non-null  float64\n",
      " 30  dest          20377 non-null  object \n",
      " 31  eta_month     23289 non-null  float64\n",
      " 32  eta_day       23289 non-null  float64\n",
      " 33  eta_hour      23289 non-null  float64\n",
      " 34  eta_minute    23289 non-null  float64\n",
      " 35  type_m2       27298 non-null  object \n",
      " 36  sdate         27298 non-null  object \n",
      " 37  stime         27298 non-null  object \n",
      " 38  ldate         27298 non-null  object \n",
      " 39  ltime         27298 non-null  object \n",
      "dtypes: float64(22), int64(10), object(8)\n",
      "memory usage: 8.3+ MB\n"
     ]
    }
   ],
   "source": [
    "ais_tracks.info()"
   ]
  },
  {
   "cell_type": "code",
   "execution_count": 80,
   "metadata": {},
   "outputs": [
    {
     "name": "stdout",
     "output_type": "stream",
     "text": [
      "<class 'pandas.core.frame.DataFrame'>\n",
      "RangeIndex: 9013 entries, 0 to 9012\n",
      "Data columns (total 47 columns):\n",
      " #   Column        Non-Null Count  Dtype  \n",
      "---  ------        --------------  -----  \n",
      " 0   id_track      9013 non-null   int64  \n",
      " 1   id_site       9013 non-null   int64  \n",
      " 2   id_m2         9013 non-null   object \n",
      " 3   source        9013 non-null   object \n",
      " 4   duration      9013 non-null   int64  \n",
      " 5   alarm         9013 non-null   int64  \n",
      " 6   min_speed     9013 non-null   float64\n",
      " 7   max_speed     9013 non-null   float64\n",
      " 8   avg_speed     9013 non-null   float64\n",
      " 9   curviness     9013 non-null   float64\n",
      " 10  heading_mean  9013 non-null   float64\n",
      " 11  heading_std   9013 non-null   float64\n",
      " 12  turning_mean  9013 non-null   float64\n",
      " 13  turning_std   9013 non-null   float64\n",
      " 14  duration_z    9013 non-null   int64  \n",
      " 15  distance      9013 non-null   float64\n",
      " 16  distance_o    9013 non-null   float64\n",
      " 17  assoc_str     191 non-null    float64\n",
      " 18  assoc_id      191 non-null    float64\n",
      " 19  tagged        9013 non-null   int64  \n",
      " 20  has_photos    9013 non-null   int64  \n",
      " 21  confidence    9013 non-null   float64\n",
      " 22  detections    9006 non-null   float64\n",
      " 23  sdate         9013 non-null   object \n",
      " 24  stime         9013 non-null   object \n",
      " 25  ldate         9013 non-null   object \n",
      " 26  ltime         9013 non-null   object \n",
      " 27  user_id       9013 non-null   int64  \n",
      " 28  valid         9013 non-null   int64  \n",
      " 29  type          9013 non-null   object \n",
      " 30  notes         1009 non-null   object \n",
      " 31  transit       9013 non-null   int64  \n",
      " 32  overnight     9013 non-null   int64  \n",
      " 33  loiter        9013 non-null   int64  \n",
      " 34  cleanup       9013 non-null   int64  \n",
      " 35  fishing_c     9013 non-null   int64  \n",
      " 36  fishing_r     9013 non-null   int64  \n",
      " 37  research      9013 non-null   int64  \n",
      " 38  diving        9013 non-null   int64  \n",
      " 39  repairs       9013 non-null   int64  \n",
      " 40  distress      9013 non-null   int64  \n",
      " 41  other         9013 non-null   int64  \n",
      " 42  miss_ais      9013 non-null   int64  \n",
      " 43  violation     9013 non-null   int64  \n",
      " 44  le_contact    9013 non-null   int64  \n",
      " 45  tdate         9013 non-null   object \n",
      " 46  ttime         9013 non-null   object \n",
      "dtypes: float64(14), int64(23), object(10)\n",
      "memory usage: 3.2+ MB\n"
     ]
    }
   ],
   "source": [
    "tracks_tagged.info()"
   ]
  },
  {
   "cell_type": "markdown",
   "metadata": {},
   "source": [
    "There might be many-to-one relationship for radar-ais matching:"
   ]
  },
  {
   "cell_type": "code",
   "execution_count": 163,
   "metadata": {},
   "outputs": [
    {
     "name": "stdout",
     "output_type": "stream",
     "text": [
      "16892 16796\n"
     ]
    }
   ],
   "source": [
    "matched_ais_ids = list(set(ais_tracks[\"id_track\"]) & set(radar_tracks[\"assoc_id\"]))\n",
    "matched_radar_ids = list(set(radar_tracks[\"id_track\"]) & set(ais_tracks[\"assoc_id\"]))\n",
    "print(len(matched_ais_ids), len(matched_radar_ids))"
   ]
  },
  {
   "cell_type": "code",
   "execution_count": null,
   "metadata": {},
   "outputs": [
    {
     "name": "stdout",
     "output_type": "stream",
     "text": [
      "Number of radar tracks with no matching:  1449\n",
      "Number of AIS records with 0  matching radar records: 10406   \n",
      "Number of AIS records with 1  matching radar records: 14517   \n",
      "Number of AIS records with 2  matching radar records: 1805    \n",
      "Number of AIS records with 3  matching radar records: 320     \n",
      "Number of AIS records with 4  matching radar records: 159     \n",
      "Number of AIS records with 5  matching radar records: 50      \n",
      "Number of AIS records with 6  matching radar records: 24      \n",
      "Number of AIS records with 7  matching radar records: 4       \n",
      "Number of AIS records with 8  matching radar records: 5       \n",
      "Number of AIS records with 9  matching radar records: 5       \n",
      "Number of AIS records with 10 matching radar records: 1       \n",
      "Number of AIS records with 11 matching radar records: 1       \n",
      "Number of AIS records with 25 matching radar records: 1       \n"
     ]
    }
   ],
   "source": [
    "# Investigate if multiple radar records are matched to the same ais record:\n",
    "AIS_matchings = dict.fromkeys(set(ais_tracks[\"id_track\"]), 0)\n",
    "num_radar_tracks_no_match = 0\n",
    "for ais_id in radar_tracks[\"assoc_id\"]:\n",
    "    if ais_id not in AIS_matchings:\n",
    "        num_radar_tracks_no_match += 1 \n",
    "    else:\n",
    "        AIS_matchings[ais_id] += 1\n",
    "print(\"Number of radar tracks with no matching: \", num_radar_tracks_no_match)\n",
    "AIS_match_frequency = dict()\n",
    "for v in AIS_matchings.values():\n",
    "    AIS_match_frequency[v] = AIS_match_frequency.get(v, 0) + 1\n",
    "for k in sorted(AIS_match_frequency.keys()):\n",
    "    print(\"Number of AIS records with {:<2} matching radar records: {:<8}\".format(k, AIS_match_frequency[k]))"
   ]
  },
  {
   "cell_type": "code",
   "execution_count": 125,
   "metadata": {},
   "outputs": [
    {
     "name": "stdout",
     "output_type": "stream",
     "text": [
      "Number of ais tracks with no matching:  9973\n",
      "Number of radar records with 0  matching AIS records: 4929    \n",
      "Number of radar records with 1  matching AIS records: 16334   \n",
      "Number of radar records with 2  matching AIS records: 416     \n",
      "Number of radar records with 3  matching AIS records: 34      \n",
      "Number of radar records with 4  matching AIS records: 8       \n",
      "Number of radar records with 5  matching AIS records: 1       \n",
      "Number of radar records with 6  matching AIS records: 2       \n",
      "Number of radar records with 8  matching AIS records: 1       \n"
     ]
    }
   ],
   "source": [
    "# Investigate if multiple ais records are matched to the same radar records:\n",
    "radar_matchings = dict.fromkeys(set(radar_tracks[\"id_track\"]), 0)\n",
    "num_ais_tracks_no_match = 0\n",
    "for radar_id in ais_tracks[\"assoc_id\"]:\n",
    "    if radar_id not in radar_matchings:\n",
    "        num_ais_tracks_no_match += 1 \n",
    "    else:\n",
    "        radar_matchings[radar_id] += 1\n",
    "print(\"Number of ais tracks with no matching: \", num_ais_tracks_no_match)\n",
    "radar_match_frequency = dict()\n",
    "for v in radar_matchings.values():\n",
    "    radar_match_frequency[v] = radar_match_frequency.get(v, 0) + 1\n",
    "for k in sorted(radar_match_frequency.keys()):\n",
    "    print(\"Number of radar records with {:<2} matching AIS records: {:<8}\".format(k, radar_match_frequency[k]))"
   ]
  },
  {
   "cell_type": "code",
   "execution_count": 138,
   "metadata": {},
   "outputs": [
    {
     "name": "stdout",
     "output_type": "stream",
     "text": [
      "Number of tagged tracks with no matching:  9000\n",
      "Number of AIS records with 0  matching radar records: 27285   \n",
      "Number of AIS records with 1  matching radar records: 13      \n",
      "Number of ais tracks with no matching:  27162\n",
      "Number of radar records with 0  matching AIS records: 8885    \n",
      "Number of radar records with 1  matching AIS records: 120     \n",
      "Number of radar records with 2  matching AIS records: 8       \n"
     ]
    }
   ],
   "source": [
    "# Investigate matching from the tagged tracking data\n",
    "AIS_matchings = dict.fromkeys(set(ais_tracks[\"id_track\"]), 0)\n",
    "num_radar_tracks_no_match = 0\n",
    "for ais_id in tracks_tagged[\"assoc_id\"]:\n",
    "    if ais_id not in AIS_matchings:\n",
    "        num_radar_tracks_no_match += 1 \n",
    "    else:\n",
    "        AIS_matchings[ais_id] += 1\n",
    "print(\"Number of tagged tracks with no matching: \", num_radar_tracks_no_match)\n",
    "AIS_match_frequency = dict()\n",
    "for v in AIS_matchings.values():\n",
    "    AIS_match_frequency[v] = AIS_match_frequency.get(v, 0) + 1\n",
    "for k in sorted(AIS_match_frequency.keys()):\n",
    "    print(\"Number of AIS records with {:<2} matching radar records: {:<8}\".format(k, AIS_match_frequency[k]))\n",
    "    \n",
    "\n",
    "radar_matchings = dict.fromkeys(set(tracks_tagged[\"id_track\"]), 0)\n",
    "num_ais_tracks_no_match = 0\n",
    "for radar_id in ais_tracks[\"assoc_id\"]:\n",
    "    if radar_id not in radar_matchings:\n",
    "        num_ais_tracks_no_match += 1 \n",
    "    else:\n",
    "        radar_matchings[radar_id] += 1\n",
    "print(\"Number of ais tracks with no matching: \", num_ais_tracks_no_match)\n",
    "radar_match_frequency = dict()\n",
    "for v in radar_matchings.values():\n",
    "    radar_match_frequency[v] = radar_match_frequency.get(v, 0) + 1\n",
    "for k in sorted(radar_match_frequency.keys()):\n",
    "    print(\"Number of radar records with {:<2} matching AIS records: {:<8}\".format(k, radar_match_frequency[k]))"
   ]
  },
  {
   "cell_type": "code",
   "execution_count": 155,
   "metadata": {},
   "outputs": [
    {
     "data": {
      "text/plain": [
       "591"
      ]
     },
     "execution_count": 155,
     "metadata": {},
     "output_type": "execute_result"
    }
   ],
   "source": [
    "# Compute the number of records with valid activity tag: \n",
    "np.count_nonzero(np.sum(tracks_tagged[[\"transit\", \"overnight\", \"loiter\", \"cleanup\", \"fishing_c\", \"fishing_r\", \"research\", \"diving\", \"repairs\", \"distress\", \"other\"]].to_numpy(), axis = 1))"
   ]
  },
  {
   "cell_type": "markdown",
   "metadata": {},
   "source": [
    "Trajectory Detection Data"
   ]
  },
  {
   "cell_type": "code",
   "execution_count": 161,
   "metadata": {},
   "outputs": [
    {
     "name": "stdout",
     "output_type": "stream",
     "text": [
      "<class 'pandas.core.frame.DataFrame'>\n",
      "RangeIndex: 7387790 entries, 0 to 7387789\n",
      "Data columns (total 14 columns):\n",
      " #   Column      Dtype  \n",
      "---  ------      -----  \n",
      " 0   id_detect   int64  \n",
      " 1   id_track    int64  \n",
      " 2   id_site     int64  \n",
      " 3   id_m2       object \n",
      " 4   source      object \n",
      " 5   speed       float64\n",
      " 6   course      float64\n",
      " 7   assoc_str   int64  \n",
      " 8   assoc_id    int64  \n",
      " 9   confidence  float64\n",
      " 10  cdate       object \n",
      " 11  ctime       object \n",
      " 12  longitude   float64\n",
      " 13  latitude    float64\n",
      "dtypes: float64(5), int64(5), object(4)\n",
      "memory usage: 789.1+ MB\n"
     ]
    }
   ],
   "source": [
    "radar_detections.info()"
   ]
  },
  {
   "cell_type": "code",
   "execution_count": 162,
   "metadata": {},
   "outputs": [
    {
     "name": "stdout",
     "output_type": "stream",
     "text": [
      "<class 'pandas.core.frame.DataFrame'>\n",
      "RangeIndex: 6756272 entries, 0 to 6756271\n",
      "Data columns (total 14 columns):\n",
      " #   Column      Dtype  \n",
      "---  ------      -----  \n",
      " 0   id_detect   int64  \n",
      " 1   id_track    int64  \n",
      " 2   id_site     int64  \n",
      " 3   id_m2       object \n",
      " 4   source      object \n",
      " 5   speed       float64\n",
      " 6   course      float64\n",
      " 7   assoc_str   float64\n",
      " 8   assoc_id    float64\n",
      " 9   confidence  float64\n",
      " 10  cdate       object \n",
      " 11  ctime       object \n",
      " 12  longitude   float64\n",
      " 13  latitude    float64\n",
      "dtypes: float64(7), int64(3), object(4)\n",
      "memory usage: 721.6+ MB\n"
     ]
    }
   ],
   "source": [
    "tagged_detections.info()"
   ]
  },
  {
   "cell_type": "code",
   "execution_count": 166,
   "metadata": {},
   "outputs": [
    {
     "name": "stdout",
     "output_type": "stream",
     "text": [
      "19947\n",
      "9020\n"
     ]
    }
   ],
   "source": [
    "# Number of unique tracks in detection:\n",
    "print(len(radar_detections[\"id_track\"].unique()))\n",
    "print(len(tagged_detections[\"id_track\"].unique()))"
   ]
  },
  {
   "cell_type": "code",
   "execution_count": 167,
   "metadata": {},
   "outputs": [
    {
     "name": "stdout",
     "output_type": "stream",
     "text": [
      "19947\n"
     ]
    }
   ],
   "source": [
    "print(len(set(radar_detections[\"id_track\"]) & set(radar_tracks[\"id_track\"])))"
   ]
  },
  {
   "cell_type": "code",
   "execution_count": 176,
   "metadata": {},
   "outputs": [
    {
     "name": "stdout",
     "output_type": "stream",
     "text": [
      "5\n"
     ]
    }
   ],
   "source": [
    "print(len(set(tagged_detections[\"id_track\"]) & set(ais_tracks[\"id_track\"])))"
   ]
  },
  {
   "cell_type": "code",
   "execution_count": null,
   "metadata": {},
   "outputs": [
    {
     "data": {
      "text/plain": [
       "6483431"
      ]
     },
     "execution_count": 198,
     "metadata": {},
     "output_type": "execute_result"
    }
   ],
   "source": [
    "# Check for high confidence points\n",
    "len(tagged_detections[tagged_detections[\"confidence\"] > 0.5]) "
   ]
  },
  {
   "cell_type": "code",
   "execution_count": 202,
   "metadata": {},
   "outputs": [
    {
     "data": {
      "text/plain": [
       "0     10:00:06\n",
       "1     09:50:48\n",
       "2     10:32:35\n",
       "3     10:40:08\n",
       "4     10:47:46\n",
       "        ...   \n",
       "95    22:11:02\n",
       "96    10:54:55\n",
       "97    10:56:45\n",
       "98    11:06:43\n",
       "99    11:07:52\n",
       "Name: stime, Length: 100, dtype: object"
      ]
     },
     "execution_count": 202,
     "metadata": {},
     "output_type": "execute_result"
    }
   ],
   "source": [
    "tracks_tagged[\"stime\"].head(100)"
   ]
  },
  {
   "cell_type": "code",
   "execution_count": 203,
   "metadata": {},
   "outputs": [
    {
     "data": {
      "text/plain": [
       "0     2023-07-04\n",
       "1     2023-07-14\n",
       "2     2023-07-14\n",
       "3     2023-07-14\n",
       "4     2023-07-14\n",
       "         ...    \n",
       "95    2023-09-07\n",
       "96    2023-09-12\n",
       "97    2023-09-12\n",
       "98    2023-09-12\n",
       "99    2023-09-12\n",
       "Name: sdate, Length: 100, dtype: object"
      ]
     },
     "execution_count": 203,
     "metadata": {},
     "output_type": "execute_result"
    }
   ],
   "source": [
    "tracks_tagged[\"sdate\"].head(100)"
   ]
  }
 ],
 "metadata": {
  "kernelspec": {
   "display_name": "Python 3",
   "language": "python",
   "name": "python3"
  },
  "language_info": {
   "codemirror_mode": {
    "name": "ipython",
    "version": 3
   },
   "file_extension": ".py",
   "mimetype": "text/x-python",
   "name": "python",
   "nbconvert_exporter": "python",
   "pygments_lexer": "ipython3",
   "version": "3.9.1"
  }
 },
 "nbformat": 4,
 "nbformat_minor": 2
}
