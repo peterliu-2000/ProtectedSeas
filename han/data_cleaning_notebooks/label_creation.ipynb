{
 "cells": [
  {
   "cell_type": "code",
   "execution_count": 4,
   "id": "5b9ad8c9",
   "metadata": {},
   "outputs": [],
   "source": [
    "import pandas as pd\n",
    "import numpy as np\n",
    "\n",
    "data_path = \"../../data/\"\n",
    "save_path = \"../data/\"\n",
    "\n",
    "tagged_tracks = pd.read_csv(data_path + \"tracks_tagged_v5.csv\")\n",
    "linked_tracks = pd.read_csv(data_path + \"tracks_radar_linked_filtered.csv\")\n",
    "ais_tracks = pd.read_csv(data_path + \"tracks_ais.csv\")"
   ]
  },
  {
   "cell_type": "code",
   "execution_count": 5,
   "id": "d8b2fd5b",
   "metadata": {},
   "outputs": [],
   "source": [
    "labeled_tagged_tracks = tagged_tracks[tagged_tracks[\"activity\"].notna()]\n",
    "labeled_tagged_tracks[\"activity\"].value_counts()\n",
    "labeled_tagged_tracks[[\"id_track\", \"activity\"]].to_csv(save_path + \"activity_label.csv\", index=False)"
   ]
  },
  {
   "cell_type": "code",
   "execution_count": 10,
   "id": "379710f4",
   "metadata": {},
   "outputs": [],
   "source": [
    "# First need to perform type mapping on raw ais data\n",
    "class VesselTypeAggregator:\n",
    "    \"\"\"\n",
    "    Aggregate vessel type based on defined categories from insights\n",
    "    \"\"\"\n",
    "    \n",
    "    def __init__(self, ais_df):\n",
    "        self.type_mapping = {\n",
    "            'tanker_ship': 'cargo/tanker',\n",
    "            'cargo_ship': 'cargo/tanker',\n",
    "            'tug': 'tug/tow',\n",
    "            'towing_ship': 'tug/tow',\n",
    "            'fishing_boat': 'fishing_boat',\n",
    "            'commercial_fishing_boat': 'fishing_boat',\n",
    "            'military_ship': 'military_ship',\n",
    "            'class_b':'class_b',\n",
    "            'passenger_ship': 'passenger_ship',\n",
    "            'pleasure_craft': 'pleasure_craft',\n",
    "            'sailboat': 'pleasure_craft',\n",
    "            'search_and_rescue_boat': 'other',\n",
    "            'pilot_boat': 'other',\n",
    "            'high_speed_craft': 'other',\n",
    "            'law_enforcement_boat': 'other',\n",
    "            'other': 'other',\n",
    "            'unknown': 'other'\n",
    "        }\n",
    "        self.df = ais_df.copy()\n",
    "        \n",
    "    def apply(self):\n",
    "        self.df['type_m2_agg'] = self.df['type_m2'].map(self.type_mapping).fillna('other')\n",
    "    \n",
    "    def get_result(self):\n",
    "        return self.df[[\"id_track\", \"type_m2\", \"type_m2_agg\"]]\n",
    "\n",
    "VTA = VesselTypeAggregator(ais_tracks)\n",
    "VTA.apply()\n",
    "ais_labels = VTA.get_result()"
   ]
  },
  {
   "cell_type": "code",
   "execution_count": 11,
   "id": "fe820fc3",
   "metadata": {},
   "outputs": [],
   "source": [
    "def fetch_ais_type(ais_id):\n",
    "    find_match = ais_labels[ais_labels[\"id_track\"] == ais_id]\n",
    "    if len(find_match) == 0:\n",
    "        raise RuntimeError(f\"Track id {ais_id} does not have associated records\")\n",
    "    type = find_match.iloc[0][\"type_m2_agg\"]\n",
    "    return type\n",
    "\n",
    "labeled_radar_tracks = linked_tracks[[\"id_track\"]].copy()\n",
    "labeled_radar_tracks[\"type_m2_agg\"] = linked_tracks.apply(lambda row: fetch_ais_type(row[\"ais_id\"]), axis = 1)"
   ]
  },
  {
   "cell_type": "code",
   "execution_count": 18,
   "id": "04161dd5",
   "metadata": {},
   "outputs": [],
   "source": [
    "labeled_radar_tracks[\"type_m2_agg\"].value_counts()\n",
    "labeled_radar_tracks.to_csv(save_path + \"type_label.csv\", index=False)"
   ]
  },
  {
   "cell_type": "code",
   "execution_count": null,
   "id": "d2c08a7d",
   "metadata": {},
   "outputs": [],
   "source": []
  }
 ],
 "metadata": {
  "kernelspec": {
   "display_name": "Python 3",
   "language": "python",
   "name": "python3"
  },
  "language_info": {
   "codemirror_mode": {
    "name": "ipython",
    "version": 3
   },
   "file_extension": ".py",
   "mimetype": "text/x-python",
   "name": "python",
   "nbconvert_exporter": "python",
   "pygments_lexer": "ipython3",
   "version": "3.9.1"
  }
 },
 "nbformat": 4,
 "nbformat_minor": 5
}
